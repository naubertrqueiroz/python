{
 "cells": [
  {
   "cell_type": "markdown",
   "metadata": {},
   "source": [
    "# Atividades 1"
   ]
  },
  {
   "cell_type": "markdown",
   "metadata": {
    "id": "mH-Vcf1rGrG7"
   },
   "source": [
    "### 1 - Realize o print do seu nome completo, sua idade e sua altura utilizando um print para cada valor"
   ]
  },
  {
   "cell_type": "code",
   "execution_count": 1,
   "metadata": {
    "colab": {
     "base_uri": "https://localhost:8080/"
    },
    "id": "ftDOY_qFHRrn",
    "outputId": "f4d92931-d802-47ca-a011-0ac29763a240"
   },
   "outputs": [
    {
     "name": "stdout",
     "output_type": "stream",
     "text": [
      "Meu nome completo é Naubert\n",
      "Minha idade é 25 anos\n",
      "Tenho 1.68 de altura\n"
     ]
    }
   ],
   "source": [
    "print(\"Meu nome completo é Naubert\")\n",
    "print(\"Minha idade é 25 anos\")\n",
    "print(\"Tenho 1.68 de altura\")"
   ]
  },
  {
   "cell_type": "markdown",
   "metadata": {
    "id": "EZTdOFqpHwXI"
   },
   "source": [
    "### 2 - Realize o print do seu nome completo, sua idade e sua altura utilizando apenas um print para todos valores."
   ]
  },
  {
   "cell_type": "code",
   "execution_count": 2,
   "metadata": {
    "colab": {
     "base_uri": "https://localhost:8080/"
    },
    "id": "tdTqwfnyILJm",
    "outputId": "8dc089bc-6ea2-44b8-8c82-926fc701ed78"
   },
   "outputs": [
    {
     "name": "stdout",
     "output_type": "stream",
     "text": [
      "Nome:Naubert, idade:25, altura:1.68\n"
     ]
    }
   ],
   "source": [
    "print(\"Nome:{}, idade:{}, altura:{}\".format(\"Naubert\",\"25\",\"1.68\"))"
   ]
  },
  {
   "cell_type": "markdown",
   "metadata": {
    "id": "SDPStetnIi61"
   },
   "source": [
    "### 3 - Realize o print de 3 números de sua escolha em um mesmo print, mas separados pelo caractere '-'."
   ]
  },
  {
   "cell_type": "code",
   "execution_count": 3,
   "metadata": {
    "colab": {
     "base_uri": "https://localhost:8080/"
    },
    "id": "p2gQCRukIvN9",
    "outputId": "9778c245-16c9-4166-b5ba-6db533e2c434"
   },
   "outputs": [
    {
     "name": "stdout",
     "output_type": "stream",
     "text": [
      "66-77-88\n"
     ]
    }
   ],
   "source": [
    "print(\"66\",\"77\",\"88\", sep='-' )"
   ]
  },
  {
   "cell_type": "markdown",
   "metadata": {},
   "source": [
    "# Atividades 2"
   ]
  },
  {
   "cell_type": "markdown",
   "metadata": {},
   "source": [
    "### 1 - Crie uma variável de cada tipo e ponha algum valor escolhido. Em seguida, print todos esses valores."
   ]
  },
  {
   "cell_type": "code",
   "execution_count": 4,
   "metadata": {},
   "outputs": [
    {
     "name": "stdout",
     "output_type": "stream",
     "text": [
      "10\n",
      "20.45\n",
      "Atividade\n",
      "True\n"
     ]
    }
   ],
   "source": [
    "int = 10\n",
    "dec = 20.45\n",
    "text = \"Atividade\"\n",
    "bol = True\n",
    "print(int)\n",
    "print(dec)\n",
    "print(text)\n",
    "print(bol)"
   ]
  },
  {
   "cell_type": "markdown",
   "metadata": {},
   "source": [
    "### 2 - Crie variáveis para guardar seu nome, CPF e uma que indique se você está casado, em seguida printe esses valores separadamente, mas não esqueça de printar junto o que eles significam"
   ]
  },
  {
   "cell_type": "code",
   "execution_count": 6,
   "metadata": {},
   "outputs": [
    {
     "name": "stdout",
     "output_type": "stream",
     "text": [
      "Nome: Naubert\n",
      "CPF: 999.999.999-99\n",
      "Estado_Civil: Solteiro\n"
     ]
    }
   ],
   "source": [
    "Nome = \"Naubert\"\n",
    "CPF = \"999.999.999-99\"\n",
    "Estado_Civil = \"Solteiro\"\n",
    "print(\"Nome:\",Nome)\n",
    "print(\"CPF:\",CPF )\n",
    "print(\"Estado_Civil:\",Estado_Civil )"
   ]
  },
  {
   "cell_type": "markdown",
   "metadata": {},
   "source": [
    "# Atividades 3"
   ]
  },
  {
   "cell_type": "markdown",
   "metadata": {},
   "source": [
    "### 1 - Escreva e formate a data em que você nasceu no formato dia/mês/ano. Não esqueça de criar 3 variáveis para guardar o dia, mês e ano.\n",
    "### Exemplo de saída:\n",
    "### Eu nasci em 30/9/1998"
   ]
  },
  {
   "cell_type": "code",
   "execution_count": 33,
   "metadata": {},
   "outputs": [
    {
     "name": "stdout",
     "output_type": "stream",
     "text": [
      "Eu nasci em 15/8/1997\n"
     ]
    }
   ],
   "source": [
    "dia, mes, ano =  15, 8, 1997\n",
    "print(\"Eu nasci em {}/{}/{}\".format(dia, mes, ano))"
   ]
  },
  {
   "cell_type": "markdown",
   "metadata": {},
   "source": [
    "### 2 - Escreva e formate a hora e minuto atual. Não esqueça de criar duas variáveis para guardar a hora e minuto.\n",
    "### Exemplo de saída:\n",
    "### Agora são 22 horas e 37 minutos"
   ]
  },
  {
   "cell_type": "code",
   "execution_count": 32,
   "metadata": {},
   "outputs": [
    {
     "name": "stdout",
     "output_type": "stream",
     "text": [
      "Agora são 7 horas e 45 minutos\n"
     ]
    }
   ],
   "source": [
    "hora = 7\n",
    "minutos = 45\n",
    "print(\"Agora são {} horas e {} minutos\".format(hora,minutos))"
   ]
  },
  {
   "cell_type": "markdown",
   "metadata": {},
   "source": [
    "### 3 - Escreva um programa que contêm o número PI, que deve ter o valor exato de 3.14159265359. Agora formate para ter apenas cinco casas decimais.\n",
    "### Exemplo de saída:\n",
    "### O PI é 3.14159"
   ]
  },
  {
   "cell_type": "code",
   "execution_count": 27,
   "metadata": {},
   "outputs": [
    {
     "name": "stdout",
     "output_type": "stream",
     "text": [
      "O PI é 3.14159\n"
     ]
    }
   ],
   "source": [
    "PI = 3.14159265359\n",
    "print(\"O PI é %.5f\" %(PI))"
   ]
  },
  {
   "cell_type": "markdown",
   "metadata": {},
   "source": [
    "# Atividades 4"
   ]
  },
  {
   "cell_type": "markdown",
   "metadata": {},
   "source": [
    "### 1 - Crie um programa que possui duas variáveis, uma recebe o ano em que estamos e a outra o ano em que você nasceu. Em seguida subtraia ambas para receber uma estimativa de quantos anos você tem. Mostre esse valor na saída do programa."
   ]
  },
  {
   "cell_type": "code",
   "execution_count": 19,
   "metadata": {},
   "outputs": [
    {
     "name": "stdout",
     "output_type": "stream",
     "text": [
      "Com base no ano colocado, você deve ter 26 anos\n"
     ]
    }
   ],
   "source": [
    "Ano_Atual = 2023\n",
    "Ano_Nascimento = 1997\n",
    "Resultado = Ano_Atual - Ano_Nascimento\n",
    "print(\"Com base no ano colocado, você deve ter {} anos\".format(Resultado))"
   ]
  },
  {
   "cell_type": "markdown",
   "metadata": {},
   "source": [
    "### 2 - Crie um programa que faz a média aritmética entre três números. Estes números devem ser salvos em uma variável. Mostre esse valor na saída do programa."
   ]
  },
  {
   "cell_type": "code",
   "execution_count": 21,
   "metadata": {},
   "outputs": [
    {
     "name": "stdout",
     "output_type": "stream",
     "text": [
      "A média aritmética é 20.000000\n"
     ]
    }
   ],
   "source": [
    "var1 = 10\n",
    "var2 = 20\n",
    "var3 = 30\n",
    "resultado = (var1 + var2 + var3) / 3\n",
    "print(\"A média aritmética é %f\" %(resultado))"
   ]
  },
  {
   "cell_type": "markdown",
   "metadata": {},
   "source": [
    "### 3 - Crie um programa que calcule o IMC (índice de massa corporal). O IMC é dado pelo peso em KG divido pela altura em metros elevado ao quadrado. Salvar esses valores em uma variável. Mostre esse valor na saída do programa."
   ]
  },
  {
   "cell_type": "code",
   "execution_count": 13,
   "metadata": {},
   "outputs": [
    {
     "name": "stdout",
     "output_type": "stream",
     "text": [
      "Seu IMC é de 25.33\n"
     ]
    }
   ],
   "source": [
    "Peso = 71.5\n",
    "Altura = 1.68\n",
    "Resultado = Peso / Altura**2\n",
    "print(\"Seu IMC é de %.2f\" %Resultado )"
   ]
  },
  {
   "cell_type": "markdown",
   "metadata": {},
   "source": [
    "### 4 (Desafio) - Você tem um determinado números de ovos de páscoa para dividir entre um determinado número de pessoas (duas variáveis iniciais). Determine quantos ovos ficarão por pessoa e quantos ovos sobrarão pois não puderam ser divido igualmente. Lembre o número de ovos por pessoa é um número inteiro"
   ]
  },
  {
   "cell_type": "code",
   "execution_count": 23,
   "metadata": {},
   "outputs": [
    {
     "name": "stdout",
     "output_type": "stream",
     "text": [
      "Serão divididos para as 3 pessoas a quantidade de 18 ovo(s) de páscoa. Sobraram 2 ovo(s) de páscoa.\n"
     ]
    }
   ],
   "source": [
    "ovos = 56\n",
    "pessoas = 3 \n",
    "ovos_pessoa = ovos // pessoas\n",
    "ovos_sobra = ovos % pessoas\n",
    "print(\"Serão divididos para as {} pessoas a quantidade de {} ovo(s) de páscoa. Sobraram {} ovo(s) de páscoa.\".format(pessoas,ovos_pessoa, ovos_sobra))"
   ]
  },
  {
   "cell_type": "markdown",
   "metadata": {},
   "source": [
    "# Atividades 5"
   ]
  },
  {
   "cell_type": "markdown",
   "metadata": {},
   "source": [
    "### 1 - Crie um programa que diga “se você precisar ir ao mercado”. Você precisa ir ao mercado se “faltar comida” ou “se for sábado”. Mostre na saída do programa o valor lógico, indicando sim ou não."
   ]
  },
  {
   "cell_type": "code",
   "execution_count": 16,
   "metadata": {},
   "outputs": [
    {
     "name": "stdout",
     "output_type": "stream",
     "text": [
      "Preciso ir ao mercado?  True\n"
     ]
    }
   ],
   "source": [
    "faltar_comida = True\n",
    "se_for_sabado = False\n",
    "vou_ao_mercado = faltar_comida or se_for_sabado\n",
    "print(\"Preciso ir ao mercado? \",vou_ao_mercado )"
   ]
  },
  {
   "cell_type": "markdown",
   "metadata": {},
   "source": [
    "### 2 - Crie um programa que responda “se você pode atravessar a rua” na faixa de pedestres. Você pode atravessar a rua se o “sinal estiver vermelho” e “se não houver nenhum carro vindo da direita” E “nem da esquerda”. Altere as variáveis para verificar se o programa esta correto. Mostre na saída do programa o valor lógico."
   ]
  },
  {
   "cell_type": "code",
   "execution_count": 17,
   "metadata": {},
   "outputs": [
    {
     "name": "stdout",
     "output_type": "stream",
     "text": [
      "Você pode atravessar a rua ? True\n"
     ]
    }
   ],
   "source": [
    "sinal_estiver_vermelho = True\n",
    "carro_direita = False\n",
    "carro_esquerda = False\n",
    "resultado = sinal_estiver_vermelho and not carro_direita and not carro_esquerda\n",
    "print('Você pode atravessar a rua ?', resultado )"
   ]
  },
  {
   "cell_type": "markdown",
   "metadata": {},
   "source": [
    "### 3 - Agora faça a mesma coisa que o exercício anterior, mas desta vez você esta com pressa e para atravessar a rua basta que o sinal esteja vermelho “OU” que não venha carro da esquerda e direita. Altere as variáveis para verificar a resposta em comparação com ao exercício anterior. Mostre na saída do programa o valor lógico."
   ]
  },
  {
   "cell_type": "code",
   "execution_count": 23,
   "metadata": {},
   "outputs": [
    {
     "name": "stdout",
     "output_type": "stream",
     "text": [
      "Você pode atravessar a rua ? False\n"
     ]
    }
   ],
   "source": [
    "sinal_estiver_vermelho = False\n",
    "carro_direita = True\n",
    "carro_esquerda = True\n",
    "resultado = sinal_estiver_vermelho or not carro_direita and not carro_esquerda\n",
    "print('Você pode atravessar a rua ?', resultado )"
   ]
  },
  {
   "cell_type": "markdown",
   "metadata": {},
   "source": [
    "# Atividades 6"
   ]
  },
  {
   "cell_type": "markdown",
   "metadata": {},
   "source": [
    "### 1 - Crie um programa que possui uma variável do “tipo string” contendo um número que indique quanto você tem no banco. Em seguida desconte mil deste valor e mostre na saída do programa"
   ]
  },
  {
   "cell_type": "code",
   "execution_count": 23,
   "metadata": {},
   "outputs": [
    {
     "name": "stdout",
     "output_type": "stream",
     "text": [
      "O valor que você possui é R$1500.00 \n"
     ]
    }
   ],
   "source": [
    "saldo = \"2500.00\"\n",
    "saldo_descontado= float(saldo) - 1000.00\n",
    "print(\"O valor que você possui é R$%.2f \" %(saldo_descontado))\n"
   ]
  },
  {
   "cell_type": "markdown",
   "metadata": {},
   "source": [
    "### 2 - Crie um programa que indique se seu saldo bancário esta zerado (valor lógico). Declare uma variável para guardar seu saldo bancário."
   ]
  },
  {
   "cell_type": "code",
   "execution_count": 31,
   "metadata": {},
   "outputs": [
    {
     "name": "stdout",
     "output_type": "stream",
     "text": [
      "Seu saldo é: False\n"
     ]
    }
   ],
   "source": [
    "saldo = 1500\n",
    "esta_zerado = not bool(saldo)\n",
    "print(\"Seu saldo é:\",esta_zerado )"
   ]
  },
  {
   "cell_type": "markdown",
   "metadata": {},
   "source": [
    "### 3 - Crie um programa que contenha sua altura, mas deve somente mostrar a parte inteira de sua altura na saída do programa, pois queremos uma estimativa."
   ]
  },
  {
   "cell_type": "code",
   "execution_count": 28,
   "metadata": {},
   "outputs": [
    {
     "name": "stdout",
     "output_type": "stream",
     "text": [
      "Você possui 1 metro de altura\n"
     ]
    }
   ],
   "source": [
    "altura = 1.68\n",
    "metros_altura = int(altura)\n",
    "print(\"Você possui %i metro de altura\" %(metros_altura))"
   ]
  },
  {
   "cell_type": "markdown",
   "metadata": {},
   "source": [
    "# Atividades 7"
   ]
  },
  {
   "cell_type": "markdown",
   "metadata": {},
   "source": [
    "### 1 - Crie um programa que leia por input dois números e realize a divisão entre ambos. Formate o print para mostrar o cálculo completo."
   ]
  },
  {
   "cell_type": "code",
   "execution_count": 41,
   "metadata": {},
   "outputs": [
    {
     "name": "stdout",
     "output_type": "stream",
     "text": [
      "Digite o primeiro número: 10\n",
      "Digite o segundo número: 2\n",
      "A divisão do número 10 com o número 2 obteve o resultado de 5.00 \n"
     ]
    }
   ],
   "source": [
    "numero1 = input(\"Digite o primeiro número: \")\n",
    "numero2 = input(\"Digite o segundo número: \")\n",
    "resultado = float(numero1) / float(numero2)\n",
    "print(\"A divisão do número %s com o número %s obteve o resultado de %.2f \"%(numero1,numero2,resultado) )\n"
   ]
  },
  {
   "cell_type": "markdown",
   "metadata": {},
   "source": [
    "### 2 - Crie um programa que mostre o dia, mês, ano, hora, minuto e segundos inseridos pelo usuário. Formate o valor"
   ]
  },
  {
   "cell_type": "code",
   "execution_count": 42,
   "metadata": {},
   "outputs": [
    {
     "name": "stdout",
     "output_type": "stream",
     "text": [
      "Digite o dia: 10\n",
      "Digite o mês: 10\n",
      "Digite o ano: 10\n",
      "Digite a hora: 4\n",
      "Digite o(s) minutos: 55\n",
      "Digite o(s) segundos: 20\n",
      "10/10/10 4:55:20 \n"
     ]
    }
   ],
   "source": [
    "dia = input(\"Digite o dia: \")\n",
    "mes = input(\"Digite o mês: \")\n",
    "ano = input(\"Digite o ano: \")\n",
    "hora = input(\"Digite a hora: \")\n",
    "minuto = input(\"Digite o(s) minutos: \")\n",
    "segundos = input(\"Digite o(s) segundos: \")\n",
    "print(\"%s/%s/%s %s:%s:%s \" % (dia, mes, ano, hora, minuto, segundos))"
   ]
  },
  {
   "cell_type": "markdown",
   "metadata": {},
   "source": [
    "# Atividades 8"
   ]
  },
  {
   "cell_type": "markdown",
   "metadata": {},
   "source": [
    "### 1 - Crie um programa que responda se você foi aprovado numa prova. Você somente foi aprovado numa prova se sua média for maior ou igual que 7 ou se sua nota no exame for maior ou igual a 5. Leia esses valores por input."
   ]
  },
  {
   "cell_type": "code",
   "execution_count": 13,
   "metadata": {},
   "outputs": [
    {
     "name": "stdout",
     "output_type": "stream",
     "text": [
      "Digite a sua primeira nota: 1\n",
      "Digite a sua segunda nota: 2\n",
      "Você foi aprovado? : False\n"
     ]
    }
   ],
   "source": [
    "nota1 = input(\"Digite a sua primeira nota: \")\n",
    "nota2 = input(\"Digite a sua segunda nota: \")\n",
    "media = (float(nota1) + float(nota2)) / 2\n",
    "aprovado = media >= 7 or (float(nota1) >= 5 or float(nota2) >=5)\n",
    "print(\"Você foi aprovado? :\",aprovado)"
   ]
  },
  {
   "cell_type": "markdown",
   "metadata": {},
   "source": [
    "### 2 - Crie um programa que diga se a senha esta correta e portanto você tem acesso ao sistema. A senha devera ser salva no código, e a tentativa deve ser lida por input."
   ]
  },
  {
   "cell_type": "code",
   "execution_count": 10,
   "metadata": {},
   "outputs": [
    {
     "name": "stdout",
     "output_type": "stream",
     "text": [
      "Digite sua senha: 123456\n",
      "Você acessou no sistema é o login com senha está: True\n"
     ]
    }
   ],
   "source": [
    "senha_tentativa = input(\"Digite sua senha: \")\n",
    "senha_sistema = \"123456\"\n",
    "login = senha_tentativa == senha_sistema\n",
    "print(\"Você acessou no sistema é o login com senha está:\",login) "
   ]
  },
  {
   "cell_type": "markdown",
   "metadata": {},
   "source": [
    "# Atividades 9"
   ]
  },
  {
   "cell_type": "markdown",
   "metadata": {},
   "source": [
    "### 1 - Cria um única string que contêm seu nome e sobrenome, em seguida use o slicing para separar o nome em uma variável e o seu sobrenome em outra. Printe esses valores"
   ]
  },
  {
   "cell_type": "code",
   "execution_count": 5,
   "metadata": {},
   "outputs": [
    {
     "name": "stdout",
     "output_type": "stream",
     "text": [
      "Meu nome é Naubert.\n",
      "Meu sobrenome é Roque.\n"
     ]
    }
   ],
   "source": [
    "nome_completo = \"NaubertRoque\"\n",
    "nome = nome_completo[:7]\n",
    "sobrenome = nome_completo[7:]\n",
    "print(\"Meu nome é %s.\" % ( nome ) )\n",
    "print(\"Meu sobrenome é %s.\" % ( sobrenome ))"
   ]
  },
  {
   "cell_type": "markdown",
   "metadata": {},
   "source": [
    "### 2 - Leia uma string através do input e retire o ultimo caractere."
   ]
  },
  {
   "cell_type": "code",
   "execution_count": 25,
   "metadata": {},
   "outputs": [
    {
     "name": "stdout",
     "output_type": "stream",
     "text": [
      "Digite uma palavra por favor:naubert\n",
      "nauber\n"
     ]
    }
   ],
   "source": [
    "texto = input(\"Digite uma palavra por favor:\")\n",
    "texto_aparado = texto[ :- 1]\n",
    "print(texto_aparado)"
   ]
  },
  {
   "cell_type": "markdown",
   "metadata": {},
   "source": [
    "### 3 - Faça um programa que leia uma string através do input e diga se ela possui uma vogal."
   ]
  },
  {
   "cell_type": "code",
   "execution_count": 28,
   "metadata": {},
   "outputs": [
    {
     "name": "stdout",
     "output_type": "stream",
     "text": [
      "Digite uma palavra por favor: tstsfts\n",
      "A palavra tstsfts tem vogal?: False\n"
     ]
    }
   ],
   "source": [
    "texto = input(\"Digite uma palavra por favor: \")\n",
    "vogal = (\"a\" or \"e\" or \"i\" or \"o\" or \"u\") in texto\n",
    "print(\"A palavra {} tem vogal?: %s\".format(texto) %(vogal) )"
   ]
  },
  {
   "cell_type": "markdown",
   "metadata": {},
   "source": [
    "### 4 - Faça um programa que insira a palavra 'ABC' na primeira posição de uma string lida por input"
   ]
  },
  {
   "cell_type": "code",
   "execution_count": 29,
   "metadata": {},
   "outputs": [
    {
     "name": "stdout",
     "output_type": "stream",
     "text": [
      "Insira uma palavra no programa: egyugeyegyeg\n",
      "A palavra ficou desta forma: ABCegyugeyegyeg\n"
     ]
    }
   ],
   "source": [
    "texto = input(\"Insira uma palavra no programa: \")\n",
    "texto_abc = \"ABC\" + texto[0:]\n",
    "print(\"A palavra ficou desta forma: %s\" % (texto_abc) )"
   ]
  },
  {
   "cell_type": "code",
   "execution_count": null,
   "metadata": {},
   "outputs": [],
   "source": []
  },
  {
   "cell_type": "code",
   "execution_count": null,
   "metadata": {},
   "outputs": [],
   "source": []
  }
 ],
 "metadata": {
  "colab": {
   "provenance": []
  },
  "kernelspec": {
   "display_name": "Python 3 (ipykernel)",
   "language": "python",
   "name": "python3"
  },
  "language_info": {
   "codemirror_mode": {
    "name": "ipython",
    "version": 3
   },
   "file_extension": ".py",
   "mimetype": "text/x-python",
   "name": "python",
   "nbconvert_exporter": "python",
   "pygments_lexer": "ipython3",
   "version": "3.10.9"
  }
 },
 "nbformat": 4,
 "nbformat_minor": 1
}
