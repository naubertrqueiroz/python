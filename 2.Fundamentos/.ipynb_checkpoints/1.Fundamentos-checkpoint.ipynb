{
 "cells": [
  {
   "cell_type": "markdown",
   "id": "8e28773a",
   "metadata": {},
   "source": [
    "# Comando Print"
   ]
  },
  {
   "cell_type": "code",
   "execution_count": 1,
   "id": "fd9101eb",
   "metadata": {},
   "outputs": [
    {
     "name": "stdout",
     "output_type": "stream",
     "text": [
      "Olá mundo\n"
     ]
    }
   ],
   "source": [
    "\n",
    "# isto é um comentário\n",
    "# isto é outro comentário\n",
    "print(\"Olá mundo\") # linha de comando\n"
   ]
  },
  {
   "cell_type": "code",
   "execution_count": 2,
   "id": "e03f931c",
   "metadata": {
    "scrolled": true
   },
   "outputs": [
    {
     "data": {
      "text/plain": [
       "' Este é um comentário\\no comentário continua aqui\\naqui ainda continua\\ne aqui termina '"
      ]
     },
     "execution_count": 2,
     "metadata": {},
     "output_type": "execute_result"
    }
   ],
   "source": [
    "\n",
    "''' Este é um comentário\n",
    "o comentário continua aqui\n",
    "aqui ainda continua\n",
    "e aqui termina '''"
   ]
  },
  {
   "cell_type": "code",
   "execution_count": 3,
   "id": "df60fada",
   "metadata": {},
   "outputs": [
    {
     "name": "stdout",
     "output_type": "stream",
     "text": [
      "olá mundo\n",
      "10\n",
      "20.5\n"
     ]
    }
   ],
   "source": [
    "print(\"olá mundo\")\n",
    "print(10)\n",
    "print(20.5)"
   ]
  },
  {
   "cell_type": "code",
   "execution_count": 4,
   "id": "1be98398",
   "metadata": {},
   "outputs": [
    {
     "name": "stdout",
     "output_type": "stream",
     "text": [
      "Maça 20 30.45\n"
     ]
    }
   ],
   "source": [
    "print(\"Maça\", 20, 30.45)"
   ]
  },
  {
   "cell_type": "code",
   "execution_count": 5,
   "id": "1a86eda3",
   "metadata": {},
   "outputs": [
    {
     "name": "stdout",
     "output_type": "stream",
     "text": [
      "Maça - Pera - Uva\n"
     ]
    }
   ],
   "source": [
    "print(\"Maça\", \"Pera\", \"Uva\", sep=' - ')"
   ]
  },
  {
   "cell_type": "code",
   "execution_count": 6,
   "id": "74af31f9",
   "metadata": {},
   "outputs": [
    {
     "name": "stdout",
     "output_type": "stream",
     "text": [
      "Maça Pera Fim"
     ]
    }
   ],
   "source": [
    "print(\"Maça\", \"Pera\", end =' Fim', sep=' ' )"
   ]
  },
  {
   "cell_type": "code",
   "execution_count": 7,
   "id": "57a92e3f",
   "metadata": {},
   "outputs": [
    {
     "name": "stdout",
     "output_type": "stream",
     "text": [
      "Este é um texto longo, \n",
      " eu quero quebrar a linha\n"
     ]
    }
   ],
   "source": [
    "print(\"Este é um texto longo, \\n eu quero quebrar a linha\")"
   ]
  },
  {
   "cell_type": "code",
   "execution_count": 8,
   "id": "2f251f1d",
   "metadata": {},
   "outputs": [
    {
     "name": "stdout",
     "output_type": "stream",
     "text": [
      "Maça\n",
      "Pera\n"
     ]
    }
   ],
   "source": [
    "print(\"Maça\", \"Pera\", sep='\\n' )"
   ]
  },
  {
   "cell_type": "code",
   "execution_count": 9,
   "id": "05190426",
   "metadata": {},
   "outputs": [
    {
     "name": "stdout",
     "output_type": "stream",
     "text": [
      "A pontuação total de Fernando foi 10 pontos\n"
     ]
    }
   ],
   "source": [
    "print(\"A pontuação total de %s foi %s pontos\" % (\"Fernando\",\"10\") )"
   ]
  },
  {
   "cell_type": "code",
   "execution_count": 10,
   "id": "8672eedb",
   "metadata": {},
   "outputs": [
    {
     "name": "stdout",
     "output_type": "stream",
     "text": [
      "A pontuação total de Fernando foi de 10 pontos\n"
     ]
    }
   ],
   "source": [
    "print(\"A pontuação total de {} foi de {} pontos\".format(\"Fernando\",\"10\") )"
   ]
  },
  {
   "cell_type": "code",
   "execution_count": 11,
   "id": "966fcdb0",
   "metadata": {},
   "outputs": [
    {
     "name": "stdout",
     "output_type": "stream",
     "text": [
      "A pontuação total de Fernando foi 10 pontos\n"
     ]
    }
   ],
   "source": [
    "print(\"A pontuação total de\" + \" Fernando\" + \" foi\" + \" 10 \" + \"pontos\" )"
   ]
  },
  {
   "cell_type": "markdown",
   "id": "a273bf3a",
   "metadata": {},
   "source": [
    "# Variáveis"
   ]
  },
  {
   "cell_type": "code",
   "execution_count": 12,
   "id": "ae5a4a05",
   "metadata": {},
   "outputs": [
    {
     "name": "stdout",
     "output_type": "stream",
     "text": [
      "1 2 3 4\n"
     ]
    }
   ],
   "source": [
    "_numero = 1\n",
    "Numero  = 2 \n",
    "numero  = 3\n",
    "numero123 = 4\n",
    "print(_numero, Numero, numero, numero123)"
   ]
  },
  {
   "cell_type": "code",
   "execution_count": 13,
   "id": "7ee19f0e",
   "metadata": {},
   "outputs": [
    {
     "name": "stdout",
     "output_type": "stream",
     "text": [
      "10\n",
      "20\n"
     ]
    }
   ],
   "source": [
    "numero = 10\n",
    "print(numero)\n",
    "numero =20\n",
    "print(numero)"
   ]
  },
  {
   "cell_type": "code",
   "execution_count": 14,
   "id": "faccb99e",
   "metadata": {},
   "outputs": [
    {
     "name": "stdout",
     "output_type": "stream",
     "text": [
      "Olá mundo!\n"
     ]
    }
   ],
   "source": [
    "texto = \"Olá mundo!\"\n",
    "print(texto)"
   ]
  },
  {
   "cell_type": "markdown",
   "id": "bde8cd82",
   "metadata": {},
   "source": [
    "# Tipos Primitivos"
   ]
  },
  {
   "cell_type": "code",
   "execution_count": 15,
   "id": "c284569a",
   "metadata": {},
   "outputs": [
    {
     "name": "stdout",
     "output_type": "stream",
     "text": [
      "None\n"
     ]
    }
   ],
   "source": [
    "variavel = None\n",
    "print(variavel)"
   ]
  },
  {
   "cell_type": "code",
   "execution_count": 16,
   "id": "e60895a3",
   "metadata": {},
   "outputs": [
    {
     "name": "stdout",
     "output_type": "stream",
     "text": [
      "10\n"
     ]
    }
   ],
   "source": [
    "inteiro = 10\n",
    "print(inteiro)"
   ]
  },
  {
   "cell_type": "code",
   "execution_count": 17,
   "id": "e2472753",
   "metadata": {},
   "outputs": [
    {
     "name": "stdout",
     "output_type": "stream",
     "text": [
      "1.53\n"
     ]
    }
   ],
   "source": [
    "decimal = 1.53\n",
    "print(decimal)"
   ]
  },
  {
   "cell_type": "code",
   "execution_count": 18,
   "id": "7cef2277",
   "metadata": {},
   "outputs": [
    {
     "name": "stdout",
     "output_type": "stream",
     "text": [
      "olá, isto é um texto\n"
     ]
    }
   ],
   "source": [
    "texto = \"olá, isto é um texto\"\n",
    "print(texto)"
   ]
  },
  {
   "cell_type": "code",
   "execution_count": 19,
   "id": "eab9691d",
   "metadata": {},
   "outputs": [
    {
     "name": "stdout",
     "output_type": "stream",
     "text": [
      "True\n",
      "False\n"
     ]
    }
   ],
   "source": [
    "var = True\n",
    "print(var)\n",
    "var = False\n",
    "print(var)"
   ]
  },
  {
   "cell_type": "code",
   "execution_count": 20,
   "id": "d9f57b82",
   "metadata": {},
   "outputs": [
    {
     "name": "stdout",
     "output_type": "stream",
     "text": [
      "10\n"
     ]
    }
   ],
   "source": [
    "var1 = 10\n",
    "var2 = var1\n",
    "print(var2)\n"
   ]
  },
  {
   "cell_type": "code",
   "execution_count": 21,
   "id": "7462e570",
   "metadata": {},
   "outputs": [
    {
     "name": "stdout",
     "output_type": "stream",
     "text": [
      "None\n",
      "1\n",
      "Texto\n"
     ]
    }
   ],
   "source": [
    "var = None\n",
    "print(var)\n",
    "var = 1\n",
    "print(var)\n",
    "var = \"Texto\"\n",
    "print(var)"
   ]
  },
  {
   "cell_type": "code",
   "execution_count": 22,
   "id": "fb7fe2b1",
   "metadata": {},
   "outputs": [],
   "source": [
    "saldoBancario = 100\n",
    "SaldoBancario = 100\n",
    "saldo_bancario = 100\n"
   ]
  },
  {
   "cell_type": "markdown",
   "id": "f8a1fff3",
   "metadata": {},
   "source": [
    "# Formatação"
   ]
  },
  {
   "cell_type": "code",
   "execution_count": null,
   "id": "9e7b5f1a",
   "metadata": {},
   "outputs": [],
   "source": [
    "# %s texto\n",
    "# %d inteiro\n",
    "# %f real\n"
   ]
  },
  {
   "cell_type": "code",
   "execution_count": 23,
   "id": "c12b2c09",
   "metadata": {},
   "outputs": [
    {
     "name": "stdout",
     "output_type": "stream",
     "text": [
      "O nome dela é Carolina \n"
     ]
    }
   ],
   "source": [
    "nome = \"Carolina\"\n",
    "texto_formatado = \"O nome dela é %s \" % (nome)\n",
    "print(texto_formatado)"
   ]
  },
  {
   "cell_type": "code",
   "execution_count": 25,
   "id": "bfa9481c",
   "metadata": {},
   "outputs": [
    {
     "name": "stdout",
     "output_type": "stream",
     "text": [
      "Meu nome é Rodrigo. Tenho 23 anos e tenho 1.730000 metros de altura.\n"
     ]
    }
   ],
   "source": [
    "nome = \"Rodrigo\"\n",
    "idade = 23\n",
    "altura = 1.73\n",
    "texto = \"Meu nome é %s. Tenho %d anos e tenho %f metros de altura.\" % (nome, idade, altura)\n",
    "print(texto)"
   ]
  },
  {
   "cell_type": "code",
   "execution_count": 28,
   "id": "96912810",
   "metadata": {},
   "outputs": [
    {
     "name": "stdout",
     "output_type": "stream",
     "text": [
      "Número gigante formatado: 1.12\n"
     ]
    }
   ],
   "source": [
    "numero_gigante = 1.1245452\n",
    "print(\"Número gigante formatado: %.2f\" %(numero_gigante))"
   ]
  },
  {
   "cell_type": "code",
   "execution_count": 31,
   "id": "9dea29b0",
   "metadata": {},
   "outputs": [
    {
     "name": "stdout",
     "output_type": "stream",
     "text": [
      "O valor é True\n",
      "O valor é 1\n"
     ]
    }
   ],
   "source": [
    "valor = True\n",
    "print(\"O valor é %s\" % (valor))\n",
    "print(\"O valor é %d\" % (valor))"
   ]
  },
  {
   "cell_type": "code",
   "execution_count": 32,
   "id": "6778d63c",
   "metadata": {},
   "outputs": [
    {
     "name": "stdout",
     "output_type": "stream",
     "text": [
      "A parte inteira é 13\n"
     ]
    }
   ],
   "source": [
    "decimal = 13.24545\n",
    "print(\"A parte inteira é %d\" %(decimal))\n"
   ]
  },
  {
   "cell_type": "code",
   "execution_count": 5,
   "id": "75bcab98",
   "metadata": {},
   "outputs": [
    {
     "name": "stdout",
     "output_type": "stream",
     "text": [
      "Olá, assim se quebra uma linha,\n",
      "\tentendeu como quebra a linha?\n",
      "\t\tfim\n"
     ]
    }
   ],
   "source": [
    "texto = \"Olá, assim se quebra uma linha,\\n\\tentendeu como quebra a linha?\\n\\t\\tfim\"\n",
    "print(texto)"
   ]
  },
  {
   "cell_type": "code",
   "execution_count": 10,
   "id": "f9798ca1",
   "metadata": {},
   "outputs": [
    {
     "name": "stdout",
     "output_type": "stream",
     "text": [
      "Deixa a 'palavra' entre aspas\n"
     ]
    }
   ],
   "source": [
    "texto = 'Deixa a \\'palavra\\' entre aspas'\n",
    "print(texto)"
   ]
  },
  {
   "cell_type": "markdown",
   "id": "7d92d305",
   "metadata": {},
   "source": [
    "# Operadores Aritméticos"
   ]
  },
  {
   "cell_type": "code",
   "execution_count": 1,
   "id": "949e919c",
   "metadata": {},
   "outputs": [
    {
     "name": "stdout",
     "output_type": "stream",
     "text": [
      "3\n"
     ]
    }
   ],
   "source": [
    "print(1 + 2)"
   ]
  },
  {
   "cell_type": "code",
   "execution_count": 2,
   "id": "05d283e7",
   "metadata": {},
   "outputs": [
    {
     "name": "stdout",
     "output_type": "stream",
     "text": [
      "30\n"
     ]
    }
   ],
   "source": [
    "numero = 10 + 20\n",
    "print(numero)"
   ]
  },
  {
   "cell_type": "code",
   "execution_count": 4,
   "id": "30d94aaa",
   "metadata": {},
   "outputs": [
    {
     "name": "stdout",
     "output_type": "stream",
     "text": [
      "40\n"
     ]
    }
   ],
   "source": [
    "outro_numero = 10 + numero\n",
    "print(outro_numero)"
   ]
  },
  {
   "cell_type": "code",
   "execution_count": 6,
   "id": "4eb0af50",
   "metadata": {},
   "outputs": [
    {
     "name": "stdout",
     "output_type": "stream",
     "text": [
      "10\n"
     ]
    }
   ],
   "source": [
    "numero = 20 - 10\n",
    "print(numero)"
   ]
  },
  {
   "cell_type": "code",
   "execution_count": 7,
   "id": "d8cbba3f",
   "metadata": {},
   "outputs": [
    {
     "name": "stdout",
     "output_type": "stream",
     "text": [
      "200\n"
     ]
    }
   ],
   "source": [
    "numero = 20 * 10\n",
    "print(numero)"
   ]
  },
  {
   "cell_type": "code",
   "execution_count": 8,
   "id": "fdffd4d5",
   "metadata": {},
   "outputs": [
    {
     "name": "stdout",
     "output_type": "stream",
     "text": [
      "10.0\n"
     ]
    }
   ],
   "source": [
    "numero = 20 / 2\n",
    "print(numero)"
   ]
  },
  {
   "cell_type": "code",
   "execution_count": 9,
   "id": "cf6231a5",
   "metadata": {},
   "outputs": [
    {
     "name": "stdout",
     "output_type": "stream",
     "text": [
      "10\n"
     ]
    }
   ],
   "source": [
    "numero = 20 // 2\n",
    "print(numero)"
   ]
  },
  {
   "cell_type": "code",
   "execution_count": 10,
   "id": "f0ca17da",
   "metadata": {},
   "outputs": [
    {
     "name": "stdout",
     "output_type": "stream",
     "text": [
      "16\n"
     ]
    }
   ],
   "source": [
    "numero = 2 ** 4\n",
    "print(numero)"
   ]
  },
  {
   "cell_type": "code",
   "execution_count": 12,
   "id": "3b595b1b",
   "metadata": {},
   "outputs": [
    {
     "name": "stdout",
     "output_type": "stream",
     "text": [
      "1\n"
     ]
    }
   ],
   "source": [
    "numero = 4 % 3\n",
    "print(numero)"
   ]
  },
  {
   "cell_type": "code",
   "execution_count": 13,
   "id": "b77f826e",
   "metadata": {},
   "outputs": [
    {
     "name": "stdout",
     "output_type": "stream",
     "text": [
      "21\n"
     ]
    }
   ],
   "source": [
    "numero = 10 * 2 + 1\n",
    "print(numero)"
   ]
  },
  {
   "cell_type": "code",
   "execution_count": 14,
   "id": "7bb7793e",
   "metadata": {},
   "outputs": [
    {
     "name": "stdout",
     "output_type": "stream",
     "text": [
      "30\n"
     ]
    }
   ],
   "source": [
    "numero = 10 * (2 +1)\n",
    "print(numero)"
   ]
  },
  {
   "cell_type": "code",
   "execution_count": 16,
   "id": "993ad9a9",
   "metadata": {},
   "outputs": [
    {
     "name": "stdout",
     "output_type": "stream",
     "text": [
      "0\n"
     ]
    }
   ],
   "source": [
    "numero = 3 * 3 - 9\n",
    "print(numero)"
   ]
  },
  {
   "cell_type": "code",
   "execution_count": 17,
   "id": "9c986a59",
   "metadata": {},
   "outputs": [
    {
     "name": "stdout",
     "output_type": "stream",
     "text": [
      "-18\n"
     ]
    }
   ],
   "source": [
    "numero = 3 * (3 - 9)\n",
    "print(numero)"
   ]
  },
  {
   "cell_type": "code",
   "execution_count": 18,
   "id": "3b00364f",
   "metadata": {},
   "outputs": [
    {
     "name": "stdout",
     "output_type": "stream",
     "text": [
      "120\n"
     ]
    }
   ],
   "source": [
    "num1 = 20\n",
    "num2 = 40\n",
    "num3 = 60\n",
    "resultado = num1 + num2 + num3\n",
    "print(resultado)"
   ]
  },
  {
   "cell_type": "code",
   "execution_count": 19,
   "id": "a97035dd",
   "metadata": {},
   "outputs": [
    {
     "name": "stdout",
     "output_type": "stream",
     "text": [
      "240\n"
     ]
    }
   ],
   "source": [
    "resultado = resultado * 2\n",
    "print(resultado)"
   ]
  },
  {
   "cell_type": "code",
   "execution_count": 20,
   "id": "0f2c82d9",
   "metadata": {},
   "outputs": [
    {
     "name": "stdout",
     "output_type": "stream",
     "text": [
      "2\n"
     ]
    }
   ],
   "source": [
    "a = 1\n",
    "a += 1 \n",
    "print(a)"
   ]
  },
  {
   "cell_type": "code",
   "execution_count": 21,
   "id": "5977df58",
   "metadata": {},
   "outputs": [
    {
     "name": "stdout",
     "output_type": "stream",
     "text": [
      "0\n"
     ]
    }
   ],
   "source": [
    "a = 1\n",
    "a -= 1 \n",
    "print(a)"
   ]
  },
  {
   "cell_type": "markdown",
   "id": "f75dcfa8",
   "metadata": {},
   "source": [
    "# Operadores Lógicos"
   ]
  },
  {
   "cell_type": "code",
   "execution_count": 23,
   "id": "762ff4fa",
   "metadata": {},
   "outputs": [
    {
     "name": "stdout",
     "output_type": "stream",
     "text": [
      "False\n"
     ]
    }
   ],
   "source": [
    "resultado1 = True and False\n",
    "print(resultado1)"
   ]
  },
  {
   "cell_type": "code",
   "execution_count": 24,
   "id": "d2510636",
   "metadata": {},
   "outputs": [
    {
     "name": "stdout",
     "output_type": "stream",
     "text": [
      "True\n"
     ]
    }
   ],
   "source": [
    "resultado2 = True and True\n",
    "print(resultado2)"
   ]
  },
  {
   "cell_type": "code",
   "execution_count": 26,
   "id": "d1cd9d7e",
   "metadata": {},
   "outputs": [
    {
     "name": "stdout",
     "output_type": "stream",
     "text": [
      "False\n"
     ]
    }
   ],
   "source": [
    "var1 = True\n",
    "var2 = False\n",
    "var3 = False\n",
    "print(var1 and var2 and var3)"
   ]
  },
  {
   "cell_type": "code",
   "execution_count": 27,
   "id": "b3ceb13a",
   "metadata": {},
   "outputs": [
    {
     "name": "stdout",
     "output_type": "stream",
     "text": [
      "Vou ao mercado?  True\n"
     ]
    }
   ],
   "source": [
    "clima_bom = True\n",
    "estou_disposto = True\n",
    "vou_ao_mercado = clima_bom and estou_disposto\n",
    "print(\"Vou ao mercado? \", vou_ao_mercado)"
   ]
  },
  {
   "cell_type": "code",
   "execution_count": 29,
   "id": "07f0ad29",
   "metadata": {},
   "outputs": [
    {
     "name": "stdout",
     "output_type": "stream",
     "text": [
      "True\n"
     ]
    }
   ],
   "source": [
    "resultado = True or False\n",
    "print(resultado)"
   ]
  },
  {
   "cell_type": "code",
   "execution_count": 30,
   "id": "a7746750",
   "metadata": {},
   "outputs": [
    {
     "name": "stdout",
     "output_type": "stream",
     "text": [
      "True\n"
     ]
    }
   ],
   "source": [
    "resultado = True or True\n",
    "print(resultado)"
   ]
  },
  {
   "cell_type": "code",
   "execution_count": 31,
   "id": "b683cce1",
   "metadata": {},
   "outputs": [
    {
     "name": "stdout",
     "output_type": "stream",
     "text": [
      "False\n"
     ]
    }
   ],
   "source": [
    "resultado = False or False\n",
    "print(resultado)"
   ]
  },
  {
   "cell_type": "code",
   "execution_count": 32,
   "id": "26f0ed18",
   "metadata": {},
   "outputs": [
    {
     "name": "stdout",
     "output_type": "stream",
     "text": [
      "Terei um bom salario? True\n"
     ]
    }
   ],
   "source": [
    "sei_programar = True\n",
    "se_investir = True\n",
    "ganho_bom_salario = sei_programar or se_investir\n",
    "print(\"Terei um bom salario?\" ,ganho_bom_salario )"
   ]
  },
  {
   "cell_type": "code",
   "execution_count": 35,
   "id": "85451194",
   "metadata": {},
   "outputs": [
    {
     "name": "stdout",
     "output_type": "stream",
     "text": [
      "True\n"
     ]
    }
   ],
   "source": [
    "resultado = False\n",
    "print(not resultado)"
   ]
  },
  {
   "cell_type": "code",
   "execution_count": 40,
   "id": "cbc31c47",
   "metadata": {},
   "outputs": [
    {
     "name": "stdout",
     "output_type": "stream",
     "text": [
      "Estou trancado?  False\n"
     ]
    }
   ],
   "source": [
    "porta_aberta = True\n",
    "tem_chave = False\n",
    "print(\"Estou trancado? \", not porta_aberta and not tem_chave )"
   ]
  },
  {
   "cell_type": "markdown",
   "id": "b45756cd",
   "metadata": {},
   "source": [
    "# Prioridades \n",
    "## NOT, AND, OR"
   ]
  },
  {
   "cell_type": "code",
   "execution_count": 41,
   "id": "0a4ce4f3",
   "metadata": {},
   "outputs": [
    {
     "name": "stdout",
     "output_type": "stream",
     "text": [
      "True\n"
     ]
    }
   ],
   "source": [
    "bool1 = True or False and True\n",
    "print(bool1)"
   ]
  },
  {
   "cell_type": "code",
   "execution_count": 42,
   "id": "eda558b4",
   "metadata": {},
   "outputs": [
    {
     "name": "stdout",
     "output_type": "stream",
     "text": [
      "True\n"
     ]
    }
   ],
   "source": [
    "bool2 = True or not False\n",
    "print(bool2)"
   ]
  },
  {
   "cell_type": "code",
   "execution_count": 43,
   "id": "d3d67bba",
   "metadata": {},
   "outputs": [
    {
     "name": "stdout",
     "output_type": "stream",
     "text": [
      "False\n"
     ]
    }
   ],
   "source": [
    "bool3 = True and not (True or False)\n",
    "print(bool3)"
   ]
  },
  {
   "cell_type": "markdown",
   "id": "90c7d858",
   "metadata": {},
   "source": [
    "# Casting"
   ]
  },
  {
   "cell_type": "code",
   "execution_count": 1,
   "id": "c6aaa157",
   "metadata": {},
   "outputs": [
    {
     "name": "stdout",
     "output_type": "stream",
     "text": [
      "<class 'str'>\n",
      "<class 'int'>\n",
      "<class 'float'>\n",
      "<class 'bool'>\n"
     ]
    }
   ],
   "source": [
    "texto = \"Olá\"\n",
    "numero = 2\n",
    "decimal = 1.5\n",
    "booleano = True\n",
    "print(type(texto))\n",
    "print(type(numero))\n",
    "print(type(decimal))\n",
    "print(type(booleano))"
   ]
  },
  {
   "cell_type": "code",
   "execution_count": 4,
   "id": "1b65fc0f",
   "metadata": {},
   "outputs": [
    {
     "name": "stdout",
     "output_type": "stream",
     "text": [
      "<class 'int'>\n",
      "<class 'float'>\n",
      "3.5\n"
     ]
    }
   ],
   "source": [
    "texto1 = \"2\"\n",
    "texto2 = \"1.5\"\n",
    "num1 = int(texto1)\n",
    "num2 = float(texto2)\n",
    "print(type(num1))\n",
    "print(type(num2))\n",
    "print( num1 + num2)"
   ]
  },
  {
   "cell_type": "code",
   "execution_count": 9,
   "id": "f11ff357",
   "metadata": {},
   "outputs": [
    {
     "name": "stdout",
     "output_type": "stream",
     "text": [
      "A parte inteira de 21.456460 é 21\n"
     ]
    }
   ],
   "source": [
    "num = 21.45646\n",
    "inteira = int(num)\n",
    "print(\"A parte inteira de %f é %d\" % (num, inteira))"
   ]
  },
  {
   "cell_type": "code",
   "execution_count": 11,
   "id": "1a0e073e",
   "metadata": {},
   "outputs": [
    {
     "name": "stdout",
     "output_type": "stream",
     "text": [
      "O numero é: 10.3\n",
      "<class 'str'>\n"
     ]
    }
   ],
   "source": [
    "texto = \"O numero é:\"\n",
    "numero = 10.3\n",
    "numero_em_string = str(numero)\n",
    "print(texto,numero_em_string)\n",
    "print(type(numero_em_string))"
   ]
  },
  {
   "cell_type": "code",
   "execution_count": 13,
   "id": "e8c0057d",
   "metadata": {},
   "outputs": [
    {
     "name": "stdout",
     "output_type": "stream",
     "text": [
      "O número 123 tem 3 digitos\n"
     ]
    }
   ],
   "source": [
    "numero = 123\n",
    "texto = str(numero)\n",
    "numero_de_digitos = len(texto)\n",
    "print(\"O número %s tem %d digitos\" % (texto,numero_de_digitos))"
   ]
  },
  {
   "cell_type": "code",
   "execution_count": 14,
   "id": "b4e4ab41",
   "metadata": {},
   "outputs": [
    {
     "name": "stdout",
     "output_type": "stream",
     "text": [
      "Variável tem valor:  False\n",
      "Número tem valor:  True\n",
      "Número tem valor:  False\n",
      "String tem conteúdo:  True\n",
      "String tem conteúdo:  False\n",
      "Float tem valor:  False\n",
      "Float tem valor:  True\n"
     ]
    }
   ],
   "source": [
    "vazio = None\n",
    "numero_um = 15\n",
    "numero_zero = 0\n",
    "texto = \"Texto\"\n",
    "texto_vazio = \"\"\n",
    "decimal_zero = 0.0\n",
    "decimal = 3.5\n",
    "\n",
    "print(\"Variável tem valor: \", bool(vazio))\n",
    "\n",
    "print(\"Número tem valor: \", bool(numero_um))\n",
    "print(\"Número tem valor: \", bool(numero_zero))\n",
    "\n",
    "print(\"String tem conteúdo: \", bool(texto))\n",
    "print(\"String tem conteúdo: \", bool(texto_vazio))\n",
    "\n",
    "print(\"Float tem valor: \", bool(decimal_zero))\n",
    "print(\"Float tem valor: \", bool(decimal))"
   ]
  },
  {
   "cell_type": "markdown",
   "id": "f03522b0",
   "metadata": {},
   "source": [
    "# Input"
   ]
  },
  {
   "cell_type": "code",
   "execution_count": 17,
   "id": "a5eb46c4",
   "metadata": {
    "scrolled": true
   },
   "outputs": [
    {
     "name": "stdout",
     "output_type": "stream",
     "text": [
      "20\n",
      "<class 'str'>\n",
      "20\n"
     ]
    }
   ],
   "source": [
    "valor_escrito = input()\n",
    "print(type(valor_escrito))\n",
    "print(valor_escrito)"
   ]
  },
  {
   "cell_type": "code",
   "execution_count": 18,
   "id": "124ec8d6",
   "metadata": {},
   "outputs": [
    {
     "name": "stdout",
     "output_type": "stream",
     "text": [
      "Naubert\n",
      "Eu me chamo Naubert \n"
     ]
    }
   ],
   "source": [
    "meu_nome = input()\n",
    "print(\"Eu me chamo %s \" %(meu_nome))"
   ]
  },
  {
   "cell_type": "code",
   "execution_count": 21,
   "id": "8baee8c9",
   "metadata": {},
   "outputs": [
    {
     "name": "stdout",
     "output_type": "stream",
     "text": [
      "Insira o dia: 10\n",
      "Insira o mês: 10\n",
      "Insira o ano: 2012\n",
      "A data inserida foi 10/10/2012\n"
     ]
    }
   ],
   "source": [
    "dia = input(\"Insira o dia: \")\n",
    "mes = input(\"Insira o mês: \")\n",
    "ano = input(\"Insira o ano: \")\n",
    "print(\"A data inserida foi {}/{}/{}\".format(dia,mes,ano))"
   ]
  },
  {
   "cell_type": "code",
   "execution_count": 28,
   "id": "0a9244e1",
   "metadata": {},
   "outputs": [
    {
     "name": "stdout",
     "output_type": "stream",
     "text": [
      "Digite 1 para verdadeiro e 0 para falso: 0\n",
      "Você escolheu o valor lógico: False \n",
      "Ou aind,você escolheu: 0\n"
     ]
    }
   ],
   "source": [
    "entrada_usuario = input(\"Digite 1 para verdadeiro e 0 para falso: \")\n",
    "valor_inteiro= int(entrada_usuario)\n",
    "valor_boleano = bool(valor_inteiro)\n",
    "print(\"Você escolheu o valor lógico: %s \" % (valor_boleano))\n",
    "print(\"Ou ainda, você escolheu: %i\" % (valor_inteiro) )\n"
   ]
  },
  {
   "cell_type": "markdown",
   "id": "3bc3a079",
   "metadata": {},
   "source": [
    "# Operadores de Atribuição e Combinação de Operadores Lógicos"
   ]
  },
  {
   "cell_type": "code",
   "execution_count": 1,
   "id": "2d50e73f",
   "metadata": {},
   "outputs": [
    {
     "name": "stdout",
     "output_type": "stream",
     "text": [
      "2\n"
     ]
    }
   ],
   "source": [
    "numero = 1\n",
    "numero = numero + 1\n",
    "print(numero)"
   ]
  },
  {
   "cell_type": "code",
   "execution_count": 2,
   "id": "1c8be1c8",
   "metadata": {},
   "outputs": [
    {
     "name": "stdout",
     "output_type": "stream",
     "text": [
      "2\n"
     ]
    }
   ],
   "source": [
    "numero = 1\n",
    "numero += 1\n",
    "print(numero)"
   ]
  },
  {
   "cell_type": "code",
   "execution_count": 3,
   "id": "35ad2a4e",
   "metadata": {},
   "outputs": [
    {
     "name": "stdout",
     "output_type": "stream",
     "text": [
      "5.0\n"
     ]
    }
   ],
   "source": [
    "numero = 10\n",
    "numero = numero / 2\n",
    "print(numero)"
   ]
  },
  {
   "cell_type": "code",
   "execution_count": 4,
   "id": "45c70f94",
   "metadata": {},
   "outputs": [
    {
     "name": "stdout",
     "output_type": "stream",
     "text": [
      "5.0\n"
     ]
    }
   ],
   "source": [
    "numero = 10\n",
    "numero /= 2\n",
    "print(numero)"
   ]
  },
  {
   "cell_type": "code",
   "execution_count": 6,
   "id": "f7b1f518",
   "metadata": {},
   "outputs": [
    {
     "name": "stdout",
     "output_type": "stream",
     "text": [
      "True\n"
     ]
    }
   ],
   "source": [
    "num = 10\n",
    "booleana = (num == 10)\n",
    "print(booleana)"
   ]
  },
  {
   "cell_type": "code",
   "execution_count": 7,
   "id": "cdabb39b",
   "metadata": {},
   "outputs": [
    {
     "name": "stdout",
     "output_type": "stream",
     "text": [
      "True\n"
     ]
    }
   ],
   "source": [
    "num = 20\n",
    "booleana = (num != 10)\n",
    "print(booleana)"
   ]
  },
  {
   "cell_type": "code",
   "execution_count": 9,
   "id": "da7ff417",
   "metadata": {},
   "outputs": [
    {
     "name": "stdout",
     "output_type": "stream",
     "text": [
      "True\n"
     ]
    }
   ],
   "source": [
    "num1 = 10\n",
    "num2 = 20\n",
    "e_maior = num1 < num2\n",
    "print(e_maior)"
   ]
  },
  {
   "cell_type": "code",
   "execution_count": 12,
   "id": "05147546",
   "metadata": {},
   "outputs": [
    {
     "name": "stdout",
     "output_type": "stream",
     "text": [
      "False\n"
     ]
    }
   ],
   "source": [
    "num1 = 21\n",
    "num2 = 20\n",
    "e_maior = num1 <= num2\n",
    "print(e_maior)"
   ]
  },
  {
   "cell_type": "code",
   "execution_count": 13,
   "id": "3e3a8f14",
   "metadata": {},
   "outputs": [
    {
     "name": "stdout",
     "output_type": "stream",
     "text": [
      "True\n"
     ]
    }
   ],
   "source": [
    "num = 5\n",
    "boolean = num > 0 and num < 10\n",
    "print(boolean)"
   ]
  },
  {
   "cell_type": "code",
   "execution_count": 14,
   "id": "472f0e23",
   "metadata": {},
   "outputs": [
    {
     "name": "stdout",
     "output_type": "stream",
     "text": [
      "True\n"
     ]
    }
   ],
   "source": [
    "#Verificar se é tipo float e igual 10.1 ou 20.2\n",
    "num = 10.1\n",
    "boolean = type(num) == float and (num == 10.1 or num == 20.2)\n",
    "print(boolean)"
   ]
  },
  {
   "cell_type": "markdown",
   "id": "2409657c",
   "metadata": {},
   "source": [
    "# Operadores sobre string"
   ]
  },
  {
   "cell_type": "code",
   "execution_count": 1,
   "id": "c86fbd86",
   "metadata": {},
   "outputs": [
    {
     "name": "stdout",
     "output_type": "stream",
     "text": [
      "olá,tudo bem\n"
     ]
    }
   ],
   "source": [
    "texto1 = \"olá\"\n",
    "texto2 = \",\"\n",
    "texto3 = \"tudo bem\"\n",
    "texto_completo = texto1 + texto2 + texto3\n",
    "print(texto_completo)"
   ]
  },
  {
   "cell_type": "code",
   "execution_count": 3,
   "id": "3757644d",
   "metadata": {},
   "outputs": [
    {
     "name": "stdout",
     "output_type": "stream",
     "text": [
      "olá mundo\n"
     ]
    }
   ],
   "source": [
    "texto1 = \"olá\"\n",
    "texto1 += \" mundo\"\n",
    "print(texto1)"
   ]
  },
  {
   "cell_type": "code",
   "execution_count": 4,
   "id": "d8b0c35e",
   "metadata": {},
   "outputs": [
    {
     "name": "stdout",
     "output_type": "stream",
     "text": [
      "Python é bem produtivo, Python é bem produtivo, Python é bem produtivo, \n"
     ]
    }
   ],
   "source": [
    "texto = \"Python é bem produtivo, \"\n",
    "texto_repetido = texto * 3\n",
    "print(texto_repetido)"
   ]
  },
  {
   "cell_type": "code",
   "execution_count": 8,
   "id": "0089b2ee",
   "metadata": {},
   "outputs": [
    {
     "name": "stdout",
     "output_type": "stream",
     "text": [
      "e\n",
      "x\n",
      "e\n",
      "m\n",
      "p\n",
      "l\n",
      "o\n"
     ]
    }
   ],
   "source": [
    "texto = \"exemplo\"\n",
    "print(texto[0])\n",
    "print(texto[1])\n",
    "print(texto[2])\n",
    "print(texto[3])\n",
    "print(texto[4])\n",
    "print(texto[5])\n",
    "print(texto[6])"
   ]
  },
  {
   "cell_type": "code",
   "execution_count": 13,
   "id": "016e2d0a",
   "metadata": {},
   "outputs": [
    {
     "name": "stdout",
     "output_type": "stream",
     "text": [
      "xe\n",
      "mplo\n",
      "exemp\n"
     ]
    }
   ],
   "source": [
    "texto = \"exemplo\"\n",
    "print(texto[1:3])\n",
    "print(texto[3:])\n",
    "print(texto[:5])"
   ]
  },
  {
   "cell_type": "code",
   "execution_count": 17,
   "id": "5e1addba",
   "metadata": {},
   "outputs": [
    {
     "name": "stdout",
     "output_type": "stream",
     "text": [
      "a\n",
      "arro\n",
      "carr\n",
      "car\n"
     ]
    }
   ],
   "source": [
    "texto = \"carro\"\n",
    "print(texto[-4])\n",
    "print(texto[-4:])\n",
    "print(texto[:-1])\n",
    "print(texto[-5:-2])"
   ]
  },
  {
   "cell_type": "code",
   "execution_count": 20,
   "id": "336c13d1",
   "metadata": {},
   "outputs": [
    {
     "name": "stdout",
     "output_type": "stream",
     "text": [
      "ortem\n",
      "rtem\n",
      "rt\n"
     ]
    }
   ],
   "source": [
    "texto = \"metro\"\n",
    "print(texto[::-1])\n",
    "print(texto[3::-1])\n",
    "print(texto[3:1:-1])"
   ]
  },
  {
   "cell_type": "code",
   "execution_count": 22,
   "id": "f75612ff",
   "metadata": {},
   "outputs": [
    {
     "name": "stdout",
     "output_type": "stream",
     "text": [
      "123\n"
     ]
    }
   ],
   "source": [
    "texto = \"023\"\n",
    "texto = \"1\" + texto[1:]\n",
    "print(texto)"
   ]
  },
  {
   "cell_type": "code",
   "execution_count": 25,
   "id": "0cd94f75",
   "metadata": {},
   "outputs": [
    {
     "name": "stdout",
     "output_type": "stream",
     "text": [
      "abcefg\n"
     ]
    }
   ],
   "source": [
    "texto = \"abcdefg\"\n",
    "texto = texto[:3] + texto[4:]\n",
    "print(texto)"
   ]
  },
  {
   "cell_type": "code",
   "execution_count": 30,
   "id": "0715f155",
   "metadata": {},
   "outputs": [
    {
     "name": "stdout",
     "output_type": "stream",
     "text": [
      "Textos são iguais? True\n"
     ]
    }
   ],
   "source": [
    "texto1 = \"Olá\"\n",
    "texto2 = \"Olá\"\n",
    "igual = texto1 == texto2\n",
    "print(\"Textos são iguais?\", igual)"
   ]
  },
  {
   "cell_type": "code",
   "execution_count": 31,
   "id": "6c735688",
   "metadata": {},
   "outputs": [
    {
     "name": "stdout",
     "output_type": "stream",
     "text": [
      "True\n"
     ]
    }
   ],
   "source": [
    "print(\"a\" != \"b\")"
   ]
  },
  {
   "cell_type": "code",
   "execution_count": 36,
   "id": "7182a3ff",
   "metadata": {},
   "outputs": [
    {
     "name": "stdout",
     "output_type": "stream",
     "text": [
      "True\n",
      "False\n",
      "True\n",
      "False\n",
      "True\n"
     ]
    }
   ],
   "source": [
    "texto = \"Programação\"\n",
    "print(\"a\" in texto)\n",
    "print(\"z\" in texto)\n",
    "print(\"Programa\" in texto)\n",
    "print(\"Programa\" not in texto)\n",
    "print(\"Vinte\" not in texto )"
   ]
  },
  {
   "cell_type": "code",
   "execution_count": 37,
   "id": "ca928a73",
   "metadata": {},
   "outputs": [
    {
     "name": "stdout",
     "output_type": "stream",
     "text": [
      "11\n"
     ]
    }
   ],
   "source": [
    "tamanho = len(texto)\n",
    "print(tamanho)"
   ]
  },
  {
   "cell_type": "code",
   "execution_count": null,
   "id": "6a1172d2",
   "metadata": {},
   "outputs": [],
   "source": []
  }
 ],
 "metadata": {
  "kernelspec": {
   "display_name": "Python 3 (ipykernel)",
   "language": "python",
   "name": "python3"
  },
  "language_info": {
   "codemirror_mode": {
    "name": "ipython",
    "version": 3
   },
   "file_extension": ".py",
   "mimetype": "text/x-python",
   "name": "python",
   "nbconvert_exporter": "python",
   "pygments_lexer": "ipython3",
   "version": "3.10.9"
  }
 },
 "nbformat": 4,
 "nbformat_minor": 5
}
