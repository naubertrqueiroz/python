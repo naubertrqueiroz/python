{
 "cells": [
  {
   "cell_type": "markdown",
   "id": "1b48be5a",
   "metadata": {},
   "source": [
    "# Atividades 1"
   ]
  },
  {
   "cell_type": "markdown",
   "id": "4c4a2691",
   "metadata": {},
   "source": [
    "### 1 - Importe do modulo random a função randrange e crie um programa que gere um único número aleatório entre 2 e 100. Em seguida diga se esse número é par ou impar."
   ]
  },
  {
   "cell_type": "code",
   "execution_count": 8,
   "id": "938dc0c5",
   "metadata": {},
   "outputs": [
    {
     "name": "stdout",
     "output_type": "stream",
     "text": [
      "50 é par \n"
     ]
    }
   ],
   "source": [
    "from random import randrange as range\n",
    "\n",
    "def Aleatorio():\n",
    "    valor = range(2,100)\n",
    "    if valor % 2 == 0:\n",
    "        return \"%s é par \" % (valor)\n",
    "    else:\n",
    "        return \"%s é impar \" % (valor)\n",
    "\n",
    "print(Aleatorio())"
   ]
  },
  {
   "cell_type": "markdown",
   "id": "9995b238",
   "metadata": {},
   "source": [
    "### 2 - Da mesma forma que o exercício anterior, gere a soma de 100 números aleatórios e mostre o resultado final."
   ]
  },
  {
   "cell_type": "code",
   "execution_count": 3,
   "id": "2303f0cf",
   "metadata": {},
   "outputs": [
    {
     "name": "stdout",
     "output_type": "stream",
     "text": [
      "5386\n"
     ]
    }
   ],
   "source": [
    "from random import randrange\n",
    "soma = 0\n",
    "for i in range(0,100):\n",
    "    soma += randrange(1,100)\n",
    "print(soma)\n",
    "   "
   ]
  },
  {
   "cell_type": "markdown",
   "id": "409b107b",
   "metadata": {},
   "source": [
    "### 3 - Crie um modulo que dispõem de duas funções, uma que subtrai dois números e outra que soma dois números. Importe essas funções e as use. Não se esqueça de gerar a documentação destas funções e do modulo e mostrar na saída de seu programa. Chame o modulo de “calc_python”"
   ]
  },
  {
   "cell_type": "code",
   "execution_count": 5,
   "id": "e52a91bd",
   "metadata": {},
   "outputs": [
    {
     "name": "stdout",
     "output_type": "stream",
     "text": [
      "2\n",
      "0\n"
     ]
    }
   ],
   "source": [
    "import calc_python\n",
    "\n",
    "#print(calc_python.__name__)\n",
    "#print(calc_python.__doc__)\n",
    "#print(calc_python.soma.__doc__)\n",
    "#print(calc_python.subtrai.__doc__)\n",
    "# help(calc_python)\n",
    "\n",
    "print(calc_python.soma(1,1))\n",
    "print(calc_python.subtrai(1,1))"
   ]
  },
  {
   "cell_type": "markdown",
   "id": "3c5352c7",
   "metadata": {},
   "source": [
    "### 4 - Cria um modulo para retornar uma lista de números aleatórios. Esse modulo deve ter a seguinte funcionalidade:\n",
    "### - Uma função que retorna uma lista de números randômicos chamada de get_random_lista(inicial, final, tam), onde “inicial” é o número mínimo que pode aparecer na lista e “final” é o número máximo que pode aparecer. Por fim “tam” deve ser o número de elementos na lista. Chame o modulo de “meu_random”"
   ]
  },
  {
   "cell_type": "code",
   "execution_count": 7,
   "id": "b747e5e3",
   "metadata": {},
   "outputs": [
    {
     "name": "stdout",
     "output_type": "stream",
     "text": [
      "meu_random\n",
      "\n",
      "Este módulo retorna uma lista de números aleatórios.\n",
      "\n",
      "\n",
      "get_random_lista\n",
      "\n",
      "    Uma função que retorna uma lista de números randômicos\n",
      "    \n",
      "[93, 17, 56, 90]\n"
     ]
    }
   ],
   "source": [
    "import meu_random \n",
    "\n",
    "print(meu_random.__name__)\n",
    "print(meu_random.__doc__)\n",
    "print(meu_random.get_random_lista.__name__)\n",
    "print(meu_random.get_random_lista.__doc__)\n",
    "print(meu_random.get_random_lista(1,100,4))"
   ]
  },
  {
   "cell_type": "markdown",
   "id": "407921c8",
   "metadata": {},
   "source": [
    "### 5 - Crie um programa que tenha a entrada na função e modulo main(). Ele deve receber dois números via parâmetro do programa e mostrar sua soma. Mas com uma condição: Verificar se possui dois parâmetros de entrada. Caso contrario parar a execução do programa e avisar qual o problema"
   ]
  },
  {
   "cell_type": "code",
   "execution_count": 24,
   "id": "346ab72d",
   "metadata": {
    "scrolled": true
   },
   "outputs": [
    {
     "name": "stdout",
     "output_type": "stream",
     "text": [
      "30.0\n",
      "teste_programa.py\n",
      "Número de argumentos incorretos\n"
     ]
    },
    {
     "ename": "SystemExit",
     "evalue": "1",
     "output_type": "error",
     "traceback": [
      "An exception has occurred, use %tb to see the full traceback.\n",
      "\u001b[1;31mSystemExit\u001b[0m\u001b[1;31m:\u001b[0m 1\n"
     ]
    },
    {
     "name": "stdout",
     "output_type": "stream",
     "text": [
      "Número de argumentos incorretos\n"
     ]
    },
    {
     "ename": "SystemExit",
     "evalue": "1",
     "output_type": "error",
     "traceback": [
      "An exception has occurred, use %tb to see the full traceback.\n",
      "\u001b[1;31mSystemExit\u001b[0m\u001b[1;31m:\u001b[0m 1\n"
     ]
    }
   ],
   "source": [
    "%run teste_programa.py 10 20\n",
    "\n",
    "%run teste_programa.py 10 \n",
    "\n",
    "%run teste_programa.py 10 20 30\n"
   ]
  }
 ],
 "metadata": {
  "kernelspec": {
   "display_name": "Python 3 (ipykernel)",
   "language": "python",
   "name": "python3"
  },
  "language_info": {
   "codemirror_mode": {
    "name": "ipython",
    "version": 3
   },
   "file_extension": ".py",
   "mimetype": "text/x-python",
   "name": "python",
   "nbconvert_exporter": "python",
   "pygments_lexer": "ipython3",
   "version": "3.10.9"
  }
 },
 "nbformat": 4,
 "nbformat_minor": 5
}
