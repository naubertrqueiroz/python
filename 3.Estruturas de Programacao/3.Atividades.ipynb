{
 "cells": [
  {
   "cell_type": "markdown",
   "id": "3c5dcefb",
   "metadata": {},
   "source": [
    "# Atividades 1"
   ]
  },
  {
   "cell_type": "markdown",
   "id": "d739cce7",
   "metadata": {},
   "source": [
    "### 1 - Crie um programa que receba o seu saldo bancário e o quanto você deve. Em seguida o programa deve dizer se você tem saldo positivo ou negativo."
   ]
  },
  {
   "cell_type": "code",
   "execution_count": 3,
   "id": "ca3e3290",
   "metadata": {},
   "outputs": [
    {
     "name": "stdout",
     "output_type": "stream",
     "text": [
      "Digite seu saldo bancário: 1000\n",
      "Digite o valor da sua dívida: 10000\n",
      "Seu saldo negativo, você deve R$ -9000.00\n"
     ]
    }
   ],
   "source": [
    "credito = input(\"Digite seu saldo bancário: \")\n",
    "debito = input(\"Digite o valor da sua dívida: \")\n",
    "saldo = float(credito) - float(debito)\n",
    "if saldo >= 0:\n",
    "    print(\"Seu saldo é positivo, você tem R$ %.2f\" % (saldo))\n",
    "else:\n",
    "    print(\"Seu saldo negativo, você deve R$ %.2f\" % (saldo))"
   ]
  },
  {
   "cell_type": "markdown",
   "id": "d3049986",
   "metadata": {},
   "source": [
    "### 2 - Crie um programa que possui uma variável que guarde seu CPF e que guarde uma senha de sua escolha. Em seguida receba por input uma senha do usuário. Caso a senha recebida seja a corretamostre o CPF, caso não diga que a senha esta incorreta."
   ]
  },
  {
   "cell_type": "code",
   "execution_count": 8,
   "id": "f370a357",
   "metadata": {},
   "outputs": [
    {
     "name": "stdout",
     "output_type": "stream",
     "text": [
      "Digite sua senha por favor: password\n",
      "Seu CPF é 154.545.454-55\n"
     ]
    }
   ],
   "source": [
    "cpf = \"154.545.454-55\"\n",
    "senha = \"password\"\n",
    "senha_usuario = input(\"Digite sua senha por favor: \")\n",
    "if senha == senha_usuario:\n",
    "    print(\"Seu CPF é %s\" % (cpf) )\n",
    "else:\n",
    "    print(\"Sua senha não está certa, poxa pode verificar por favor :(\")"
   ]
  },
  {
   "cell_type": "markdown",
   "id": "5749489c",
   "metadata": {},
   "source": [
    "### 3 - Crie um programa que fale sobre sua idade. As regras são a seguinte, você deve receber por input sua idade, se você tiver ate três anos printe que é um bebe, ate 13 anos uma criança, ate 18 anos adolescente, até 65 adulto. Em nenhum deste casos é um idoso"
   ]
  },
  {
   "cell_type": "code",
   "execution_count": 4,
   "id": "390ceeb7",
   "metadata": {},
   "outputs": [
    {
     "name": "stdout",
     "output_type": "stream",
     "text": [
      "Digite sua idade por favor: 66\n",
      "Você é um idoso\n"
     ]
    }
   ],
   "source": [
    "idade = int(input(\"Digite sua idade por favor: \"))\n",
    "if idade <= 3:\n",
    "    print(\"Você é um bebe!\")\n",
    "elif idade <= 13:\n",
    "    print(\"Você é uma criança!\")\n",
    "elif idade <= 18:\n",
    "    print(\"Você é um adolescente!\")\n",
    "elif idade <= 65:\n",
    "    print(\"Você é um adulto!\")\n",
    "else:\n",
    "    print(\"Você é um idoso!\")\n"
   ]
  },
  {
   "cell_type": "markdown",
   "id": "b5cdcc55",
   "metadata": {},
   "source": [
    "### 4 - Crie um programa que receba dois números, e também receba do usuário a operação que deve ser feita, as possibilidades são soma(+), subtração (-), divisão(/) e multiplicação(*). Realize a operação escolhida sobre os dois números."
   ]
  },
  {
   "cell_type": "code",
   "execution_count": 9,
   "id": "2e1c22ba",
   "metadata": {},
   "outputs": [
    {
     "name": "stdout",
     "output_type": "stream",
     "text": [
      "Digite o primeiro número: 10\n",
      "Digite o segundo número: 2\n",
      "Digite a operação : /\n",
      "A operação de divisão teve o valor de: 5.00\n"
     ]
    }
   ],
   "source": [
    "numero_1 = float(input(\"Digite o primeiro número: \"))\n",
    "numero_2 = float(input(\"Digite o segundo número: \"))\n",
    "operacao = input(\"Digite a operação : \")\n",
    "if operacao == \"+\":\n",
    "    soma = numero_1 + numero_2\n",
    "    print(\"A operação de soma teve o valor de: %.2f\" % (soma) )\n",
    "elif operacao == \"-\":\n",
    "    subtracao = numero_1 - numero_2\n",
    "    print(\"A operação de subtração teve o valor de: %.2f\" % (subtracao) )\n",
    "elif operacao == \"/\":\n",
    "    divisao = numero_1 / numero_2\n",
    "    print(\"A operação de divisão teve o valor de: %.2f\" % (divisao) )\n",
    "elif operacao == \"*\":\n",
    "    multiplicacao = numero_1 * numero_2\n",
    "    print(\"A operação de multiplicação teve o valor de : %.2f\" % (multiplicacao))\n",
    "else:\n",
    "    print(\"Operação é invalida!\")"
   ]
  },
  {
   "cell_type": "markdown",
   "id": "1958980b",
   "metadata": {},
   "source": [
    "# Atividade 2"
   ]
  },
  {
   "cell_type": "markdown",
   "id": "d0574f08",
   "metadata": {},
   "source": [
    "### 1 - Crie um programa que receba 5 números e retorne a média aritmética entre esses números"
   ]
  },
  {
   "cell_type": "code",
   "execution_count": 41,
   "id": "15558b82",
   "metadata": {},
   "outputs": [
    {
     "name": "stdout",
     "output_type": "stream",
     "text": [
      "Digite um valor por gentileza: 10\n",
      "Digite um valor por gentileza: 10\n",
      "Digite um valor por gentileza: 10\n",
      "Digite um valor por gentileza: 10\n",
      "Digite um valor por gentileza: 10\n",
      "A média aritmética é de 10.00\n"
     ]
    }
   ],
   "source": [
    "contador = 0\n",
    "soma = 0\n",
    "while (contador < 5):\n",
    "    valor = float(input(\"Digite um valor por gentileza: \"))\n",
    "    soma += valor\n",
    "    contador += 1\n",
    "    \n",
    "media = soma / 5 \n",
    "print(\"A média aritmética é de %.2f\" % (media))"
   ]
  },
  {
   "cell_type": "markdown",
   "id": "3b017467",
   "metadata": {},
   "source": [
    "### 2 - Crie um programa que receba 5 números, realiza a soma destes números, mas caso um destes números seja negativo não considere ele na soma."
   ]
  },
  {
   "cell_type": "code",
   "execution_count": 20,
   "id": "15dc3ad2",
   "metadata": {},
   "outputs": [
    {
     "name": "stdout",
     "output_type": "stream",
     "text": [
      "Digite o número: -10\n",
      "Digite o número: -110\n",
      "Digite o número: -10\n",
      "Digite o número: 1\n",
      "Digite o número: 2\n",
      "A soma é: 3.00 \n"
     ]
    }
   ],
   "source": [
    "contador = 0\n",
    "soma = 0\n",
    "while (contador < 5):\n",
    "    numero = float(input(\"Digite o número: \"))\n",
    "    if (numero >= 0):\n",
    "        soma += numero\n",
    "    contador += 1\n",
    "print(\"A soma é: %.2f \" %(soma))"
   ]
  },
  {
   "cell_type": "markdown",
   "id": "2d3dbc07",
   "metadata": {},
   "source": [
    "### 3 - Cria um programa que receba um número arbitrário (definido pelo usuário) de números que serão lidos e retorne a soma de todos eles."
   ]
  },
  {
   "cell_type": "code",
   "execution_count": 23,
   "id": "21a4f70e",
   "metadata": {},
   "outputs": [
    {
     "name": "stdout",
     "output_type": "stream",
     "text": [
      "Digite quantos números você vai somar: 10\n",
      "Digite um número: 1\n",
      "Digite um número: 1\n",
      "Digite um número: 1\n",
      "Digite um número: 1\n",
      "Digite um número: 1\n",
      "Digite um número: 1\n",
      "Digite um número: 1\n",
      "Digite um número: 1\n",
      "Digite um número: 1\n",
      "Digite um número: 1\n",
      "o valor soma é: 10.000000\n"
     ]
    }
   ],
   "source": [
    "contador = int(input(\"Digite quantos números você vai somar: \"))\n",
    "soma = 0\n",
    "while (contador > 0):\n",
    "    numero = float(input(\"Digite um número: \"))\n",
    "    soma += numero\n",
    "    contador -= 1\n",
    "print(\"o valor soma é: %f\" % (soma) )"
   ]
  },
  {
   "cell_type": "markdown",
   "id": "460226c8",
   "metadata": {},
   "source": [
    "### 4 - Percorra os números de 2 até 10 e diga se o número é par ou impar."
   ]
  },
  {
   "cell_type": "code",
   "execution_count": 29,
   "id": "c5454553",
   "metadata": {},
   "outputs": [
    {
     "name": "stdout",
     "output_type": "stream",
     "text": [
      "O número 2 é par\n",
      "O número 3 é impar\n",
      "O número 4 é par\n",
      "O número 5 é impar\n",
      "O número 6 é par\n",
      "O número 7 é impar\n",
      "O número 8 é par\n",
      "O número 9 é impar\n",
      "O número 10 é par\n"
     ]
    }
   ],
   "source": [
    "numeros = 2\n",
    "while (numeros < 11):\n",
    "    par_impar = numeros % 2\n",
    "    if (par_impar == 0):\n",
    "        print(\"O número %i é par.\" %(numeros))\n",
    "    else:\n",
    "        print(\"O número %i é impar.\" %(numeros))\n",
    "    numeros += 1 "
   ]
  },
  {
   "cell_type": "markdown",
   "id": "c6aa7bcf",
   "metadata": {},
   "source": [
    "### 5 - Crie um programa que receba como input uma string. Em seguida percorra a string e diga quantos espaços em branco essa string tem."
   ]
  },
  {
   "cell_type": "code",
   "execution_count": 43,
   "id": "ec0d648b",
   "metadata": {},
   "outputs": [
    {
     "name": "stdout",
     "output_type": "stream",
     "text": [
      "Digite uma palavra por gentileza: chove chuva chove sem parar\n",
      "Essa palavra tem 4 espaço(s)\n"
     ]
    }
   ],
   "source": [
    "palavra = input(\"Digite uma palavra por gentileza: \")\n",
    "indice = 0\n",
    "espaco = 0\n",
    "while (indice < len(palavra)):\n",
    "    if palavra[indice] == \" \":\n",
    "        espaco += 1 \n",
    "    indice += 1    \n",
    "print(\"Essa palavra tem %i espaço(s)\" %(espaco) )"
   ]
  },
  {
   "cell_type": "markdown",
   "id": "77944997",
   "metadata": {},
   "source": [
    "# Atividades 3"
   ]
  },
  {
   "cell_type": "markdown",
   "id": "f8ce7449",
   "metadata": {},
   "source": [
    "### 1 - Crie um programa que receba uma string por input e conte quantos caracteres ela têm, não leve em conta caracteres de espaço. Você não deve usar o len()."
   ]
  },
  {
   "cell_type": "code",
   "execution_count": 123,
   "id": "eb3ea5ba",
   "metadata": {},
   "outputs": [
    {
     "name": "stdout",
     "output_type": "stream",
     "text": [
      "Digite um texto: espaço rap\n",
      "Tem 9 caracteres no texto, desconsiderando espaços\n"
     ]
    }
   ],
   "source": [
    "texto = input(\"Digite um texto: \")\n",
    "contagem = 0\n",
    "for letra in texto:\n",
    "    if letra != \" \":\n",
    "        contagem += 1\n",
    "print(\"Tem %d caracteres no texto, desconsiderando espaços\" % (contagem) )"
   ]
  },
  {
   "cell_type": "markdown",
   "id": "cd894fa3",
   "metadata": {},
   "source": [
    "### 2 - Crie um programa que faça o calculo do fatorial de um número. O fatorial a ser calculado deve ser recebido por input."
   ]
  },
  {
   "cell_type": "code",
   "execution_count": 128,
   "id": "3dbdf97e",
   "metadata": {},
   "outputs": [
    {
     "name": "stdout",
     "output_type": "stream",
     "text": [
      "Digite um número favor:7\n",
      "O fatorial do número 7 é 5040\n"
     ]
    }
   ],
   "source": [
    "numero = int(input(\"Digite um número favor:\"))\n",
    "fatorial = 1\n",
    "if numero == 0:\n",
    "    fatorial\n",
    "else:\n",
    "    for i in range(1, numero+1):\n",
    "        fatorial *= i\n",
    "print(\"O fatorial do número %d é %d.\" % (numero,fatorial) )\n",
    "    \n"
   ]
  },
  {
   "cell_type": "markdown",
   "id": "53a0abef",
   "metadata": {},
   "source": [
    "### 3 - Crie um programa que leia um quantidade arbitraria de textos e concatene eles numa string única."
   ]
  },
  {
   "cell_type": "code",
   "execution_count": 132,
   "id": "d70b9b72",
   "metadata": {},
   "outputs": [
    {
     "name": "stdout",
     "output_type": "stream",
     "text": [
      "Digite quantos textos você quer digitar: 3\n",
      "Digite um texto: teste\n",
      "Digite um texto: teste\n",
      "Digite um texto: teste\n",
      "testetesteteste\n"
     ]
    }
   ],
   "source": [
    "textos_digitados= int(input(\"Digite quantos textos você quer digitar: \"))\n",
    "texto_final = \"\"\n",
    "for i in range(textos_digitados):\n",
    "    texto_final += input(\"Digite um texto: \")\n",
    "print(texto_final)"
   ]
  },
  {
   "cell_type": "markdown",
   "id": "641fe4d9",
   "metadata": {},
   "source": [
    "### 4 - Cria um programa que printe a tabuada da divisão de um número lido por input."
   ]
  },
  {
   "cell_type": "code",
   "execution_count": 134,
   "id": "2336e899",
   "metadata": {},
   "outputs": [
    {
     "name": "stdout",
     "output_type": "stream",
     "text": [
      "Digite um número: 5\n",
      "1 / 5 = 0.200000\n",
      "2 / 5 = 0.400000\n",
      "3 / 5 = 0.600000\n",
      "4 / 5 = 0.800000\n",
      "5 / 5 = 1.000000\n",
      "6 / 5 = 1.200000\n",
      "7 / 5 = 1.400000\n",
      "8 / 5 = 1.600000\n",
      "9 / 5 = 1.800000\n",
      "10 / 5 = 2.000000\n"
     ]
    }
   ],
   "source": [
    "numero = int(input(\"Digite um número: \"))\n",
    "for y in range(1,11):\n",
    "    print(\"%d / %d = %f\" %(y,numero, y/numero) )\n",
    "        "
   ]
  },
  {
   "cell_type": "markdown",
   "id": "88aa3011",
   "metadata": {},
   "source": [
    "### 5 (DESAFIO) - Crie um programa que percorra os números de 3 até 30 e diga o número é primo ou não"
   ]
  },
  {
   "cell_type": "code",
   "execution_count": 141,
   "id": "d22b9a00",
   "metadata": {},
   "outputs": [
    {
     "name": "stdout",
     "output_type": "stream",
     "text": [
      "3 é um número primo.\n",
      "4 não é um número primo.\n",
      "5 é um número primo.\n",
      "6 não é um número primo.\n",
      "7 é um número primo.\n",
      "8 não é um número primo.\n",
      "9 não é um número primo.\n",
      "10 não é um número primo.\n",
      "11 é um número primo.\n",
      "12 não é um número primo.\n",
      "13 é um número primo.\n",
      "14 não é um número primo.\n",
      "15 não é um número primo.\n",
      "16 não é um número primo.\n",
      "17 é um número primo.\n",
      "18 não é um número primo.\n",
      "19 é um número primo.\n",
      "20 não é um número primo.\n",
      "21 não é um número primo.\n",
      "22 não é um número primo.\n",
      "23 é um número primo.\n",
      "24 não é um número primo.\n",
      "25 não é um número primo.\n",
      "26 não é um número primo.\n",
      "27 não é um número primo.\n",
      "28 não é um número primo.\n",
      "29 é um número primo.\n",
      "30 não é um número primo.\n"
     ]
    }
   ],
   "source": [
    "for numero in range(3,31):\n",
    "    primo = True\n",
    "    \n",
    "    for num_teste in range(2,numero):\n",
    "        if (numero % num_teste == 0):\n",
    "            primo = False\n",
    "            break\n",
    "            \n",
    "    if (primo):\n",
    "        print(\"%d é um número primo.\" % (numero) )\n",
    "    else:\n",
    "        print(\"%d não é um número primo.\" % (numero) )\n",
    "        \n"
   ]
  },
  {
   "cell_type": "code",
   "execution_count": null,
   "id": "1e8811a5",
   "metadata": {},
   "outputs": [],
   "source": []
  }
 ],
 "metadata": {
  "kernelspec": {
   "display_name": "Python 3 (ipykernel)",
   "language": "python",
   "name": "python3"
  },
  "language_info": {
   "codemirror_mode": {
    "name": "ipython",
    "version": 3
   },
   "file_extension": ".py",
   "mimetype": "text/x-python",
   "name": "python",
   "nbconvert_exporter": "python",
   "pygments_lexer": "ipython3",
   "version": "3.10.9"
  }
 },
 "nbformat": 4,
 "nbformat_minor": 5
}
