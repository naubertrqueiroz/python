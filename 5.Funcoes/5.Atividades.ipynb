{
 "cells": [
  {
   "cell_type": "markdown",
   "id": "c31625b4",
   "metadata": {},
   "source": [
    "# Atividades"
   ]
  },
  {
   "cell_type": "markdown",
   "id": "ed00a532",
   "metadata": {},
   "source": [
    "### 1 - Crie uma função chamada “e_negativo” que receba um número, retorna um booleano “True” se o número for negativo, caso contrário retorna “False”."
   ]
  },
  {
   "cell_type": "code",
   "execution_count": 88,
   "id": "ba1290f7",
   "metadata": {},
   "outputs": [
    {
     "name": "stdout",
     "output_type": "stream",
     "text": [
      "True\n",
      "False\n"
     ]
    }
   ],
   "source": [
    "def e_negativo(num):\n",
    "    return num < 0\n",
    "\n",
    "print(e_negativo(-1))\n",
    "print(e_negativo(0))"
   ]
  },
  {
   "cell_type": "markdown",
   "id": "166e5571",
   "metadata": {},
   "source": [
    "### 2 - Crie um função que receba um array de números (int ou float) e retorne sua soma."
   ]
  },
  {
   "cell_type": "code",
   "execution_count": 90,
   "id": "98cc5648",
   "metadata": {},
   "outputs": [
    {
     "name": "stdout",
     "output_type": "stream",
     "text": [
      "15\n",
      "16.5\n"
     ]
    }
   ],
   "source": [
    "def array_num(num): \n",
    "    soma = 0\n",
    "    for x in num:\n",
    "        soma += x\n",
    "    return soma\n",
    "\n",
    "print(array_num([1,2,3,4,5]))\n",
    "print(array_num([1.1,2.2,3.3,4.4,5.5]))"
   ]
  },
  {
   "cell_type": "markdown",
   "id": "faefadde",
   "metadata": {},
   "source": [
    "### 3 - Crie um função que receba uma string e que conte e retorne o número de vogais desta string"
   ]
  },
  {
   "cell_type": "code",
   "execution_count": 54,
   "id": "43a83971",
   "metadata": {},
   "outputs": [
    {
     "name": "stdout",
     "output_type": "stream",
     "text": [
      "2\n"
     ]
    }
   ],
   "source": [
    "def numero_vogais(texto):\n",
    "    contador = 0\n",
    "    array_vogais = ('a','e','i','o','u')\n",
    "    for letra in texto:\n",
    "        if letra in array_vogais:\n",
    "            contador += 1\n",
    "    return soma\n",
    "    \n",
    "print(numero_vogais(\"vogal\"))"
   ]
  },
  {
   "cell_type": "markdown",
   "id": "1963b7f6",
   "metadata": {},
   "source": [
    "### 4 - Crie um função que retorne o último caractere de um string recebida."
   ]
  },
  {
   "cell_type": "code",
   "execution_count": 5,
   "id": "4e54d83d",
   "metadata": {},
   "outputs": [
    {
     "name": "stdout",
     "output_type": "stream",
     "text": [
      "t\n"
     ]
    }
   ],
   "source": [
    "def recebe_string(texto):\n",
    "    return texto[-1]\n",
    "    \n",
    "print(recebe_string('naubert'))"
   ]
  },
  {
   "cell_type": "markdown",
   "id": "2e6fca54",
   "metadata": {},
   "source": [
    "### 5 - Crie um função que receba dois números e uma string dizendo se deve realizar a soma ou subtração do números."
   ]
  },
  {
   "cell_type": "code",
   "execution_count": 94,
   "id": "20d3f8d0",
   "metadata": {},
   "outputs": [
    {
     "name": "stdout",
     "output_type": "stream",
     "text": [
      "3\n",
      "-1\n"
     ]
    }
   ],
   "source": [
    "def calculadora(num1,num2,op):\n",
    "    if op == \"+\":\n",
    "        return num1 + num2\n",
    "    elif op == \"-\"  :\n",
    "        return num1 - num2\n",
    "    \n",
    "print(calculadora(1,2,'+'))    \n",
    "print(calculadora(1,2,'-'))  "
   ]
  },
  {
   "cell_type": "markdown",
   "id": "8022f636",
   "metadata": {},
   "source": [
    "# Atividades 2"
   ]
  },
  {
   "cell_type": "markdown",
   "id": "7f943b36",
   "metadata": {},
   "source": [
    "### 6 - Crie um função que receba uma lista de elementos e um valor qualquer. Em seguida retorne um booleano dizendo se o valor foi encontrado ou não na lista"
   ]
  },
  {
   "cell_type": "code",
   "execution_count": 64,
   "id": "cbbdd80d",
   "metadata": {},
   "outputs": [
    {
     "name": "stdout",
     "output_type": "stream",
     "text": [
      "True\n",
      "False\n"
     ]
    }
   ],
   "source": [
    "def funcao_lista(num,valor):\n",
    "    for i in num:\n",
    "        if (i == valor):\n",
    "            return True\n",
    "    return False\n",
    "    \n",
    "print(funcao_lista([1,2,3,4,5],1))\n",
    "print(funcao_lista([1,2,3,4,5],10))"
   ]
  },
  {
   "cell_type": "markdown",
   "id": "1918d789",
   "metadata": {},
   "source": [
    "### 7 - Crie um função que receba uma lista de elementos e um valor qualquer. Em seguida retorne um booleano dizendo se o valor foi encontrado ou não e também a posição onde foi encontrado."
   ]
  },
  {
   "cell_type": "code",
   "execution_count": 68,
   "id": "db85fbf2",
   "metadata": {},
   "outputs": [
    {
     "name": "stdout",
     "output_type": "stream",
     "text": [
      "(False, 'Não foi encontrado em nenhuma posição, o valor 3.')\n",
      "(True, ['1 na posição 0', '1 na posição 2', '1 na posição 3', '1 na posição 4', '1 na posição 5', '1 na posição 6', '1 na posição 8'])\n"
     ]
    }
   ],
   "source": [
    "def funcao_lista_index(num,valor):\n",
    "    list_res = []\n",
    "    if valor not in num:\n",
    "        return  False ,\"Não foi encontrado em nenhuma posição, o valor %d.\" % (valor)\n",
    "    else:\n",
    "        for i in range(len(num)):\n",
    "            if valor == num[i]:\n",
    "                   list_res.append('%d na posição %d' %(num[i],i ))\n",
    "        return True, list_res\n",
    "\n",
    "            \n",
    "print(funcao_lista_index([1,2,1],3))\n",
    "print(funcao_lista_index([1,2,1,1,1,1,1,5,1,8,9,48,7],1))"
   ]
  },
  {
   "cell_type": "markdown",
   "id": "dec40789",
   "metadata": {},
   "source": [
    "### 8 - Crie uma função que recebe um número arbitrário de parâmetros. Em seguida diga qual o tipo de cada parâmetro"
   ]
  },
  {
   "cell_type": "code",
   "execution_count": 72,
   "id": "0e1dddf0",
   "metadata": {},
   "outputs": [
    {
     "name": "stdout",
     "output_type": "stream",
     "text": [
      "Argumentos são:  <class 'int'>\n",
      "Argumentos são:  <class 'int'>\n",
      "Argumentos são:  <class 'int'>\n",
      "Argumentos são:  <class 'int'>\n",
      "Argumentos são:  <class 'str'>\n",
      "None\n"
     ]
    }
   ],
   "source": [
    "def imprime_argumentos(*args):\n",
    "    for x in args:\n",
    "        print(\"Argumentos são: \", type(x))\n",
    "    \n",
    "print(imprime_argumentos(1,24342,0,4545,'teste'))"
   ]
  },
  {
   "cell_type": "markdown",
   "id": "61ed8773",
   "metadata": {},
   "source": [
    "### 9 - Crie uma função que receba um string, mas que possua um decorator para transforma-la em uma citação, ou seja você deve retornas strings entre aspas duplas, além disso transforme todos os caracteres para minúscula usando a função lower()"
   ]
  },
  {
   "cell_type": "code",
   "execution_count": 74,
   "id": "ac0510a0",
   "metadata": {},
   "outputs": [
    {
     "name": "stdout",
     "output_type": "stream",
     "text": [
      "\"teste\"\n"
     ]
    }
   ],
   "source": [
    "def citacao(func):\n",
    "    def func_inner(str):\n",
    "        return  '\"' + str.lower() + '\"'\n",
    "    return func_inner\n",
    "    \n",
    "@citacao\n",
    "def transforma(str):\n",
    "    return str\n",
    "\n",
    "print(transforma(\"Teste\"))\n"
   ]
  },
  {
   "cell_type": "markdown",
   "id": "28a74fc4",
   "metadata": {},
   "source": [
    "### 10 - Cria uma função recursiva que itere os números de 0 até 10 e printe o resultado de sua divisão inteira com o número três"
   ]
  },
  {
   "cell_type": "code",
   "execution_count": 76,
   "id": "191c8e5d",
   "metadata": {},
   "outputs": [
    {
     "name": "stdout",
     "output_type": "stream",
     "text": [
      "0\n",
      "0\n",
      "0\n",
      "1\n",
      "1\n",
      "1\n",
      "2\n",
      "2\n",
      "2\n",
      "3\n",
      "3\n"
     ]
    }
   ],
   "source": [
    "def printa_div_3(num):\n",
    "    if num == 11:\n",
    "        return\n",
    "    print(num // 3)\n",
    "    printa_div_3(num+1)\n",
    "\n",
    "printa_div_3(0)"
   ]
  }
 ],
 "metadata": {
  "kernelspec": {
   "display_name": "Python 3 (ipykernel)",
   "language": "python",
   "name": "python3"
  },
  "language_info": {
   "codemirror_mode": {
    "name": "ipython",
    "version": 3
   },
   "file_extension": ".py",
   "mimetype": "text/x-python",
   "name": "python",
   "nbconvert_exporter": "python",
   "pygments_lexer": "ipython3",
   "version": "3.10.9"
  }
 },
 "nbformat": 4,
 "nbformat_minor": 5
}
