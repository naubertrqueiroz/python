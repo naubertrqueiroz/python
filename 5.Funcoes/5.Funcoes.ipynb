{
 "cells": [
  {
   "cell_type": "markdown",
   "id": "94928443",
   "metadata": {},
   "source": [
    "# Funções"
   ]
  },
  {
   "cell_type": "code",
   "execution_count": 2,
   "id": "3d21a549",
   "metadata": {},
   "outputs": [
    {
     "name": "stdout",
     "output_type": "stream",
     "text": [
      "Uma função 10 \n",
      "Uma função 10 \n"
     ]
    }
   ],
   "source": [
    "def func():\n",
    "    num = 10\n",
    "    print('Uma função %d '%(num))\n",
    "    \n",
    "func()    \n",
    "func() "
   ]
  },
  {
   "cell_type": "code",
   "execution_count": 3,
   "id": "6822d850",
   "metadata": {},
   "outputs": [],
   "source": [
    "def func():\n",
    "    pass\n",
    "func()"
   ]
  },
  {
   "cell_type": "code",
   "execution_count": 4,
   "id": "8f17106b",
   "metadata": {},
   "outputs": [
    {
     "name": "stdout",
     "output_type": "stream",
     "text": [
      "2\n",
      "Maça\n"
     ]
    }
   ],
   "source": [
    "def print_var(numero):\n",
    "    print(numero)\n",
    "\n",
    "print_var(2)\n",
    "print_var(\"Maça\")"
   ]
  },
  {
   "cell_type": "code",
   "execution_count": 6,
   "id": "edf82b50",
   "metadata": {},
   "outputs": [
    {
     "name": "stdout",
     "output_type": "stream",
     "text": [
      "3\n",
      "4.4\n",
      "ola mundo!\n"
     ]
    }
   ],
   "source": [
    "def print_soma(num1,num2):\n",
    "    print(num1 + num2)\n",
    "\n",
    "print_soma(1,2)\n",
    "print_soma(3.3, 1.1)\n",
    "print_soma(\"ola\",\" mundo!\")"
   ]
  },
  {
   "cell_type": "code",
   "execution_count": 7,
   "id": "9c977c75",
   "metadata": {},
   "outputs": [
    {
     "name": "stdout",
     "output_type": "stream",
     "text": [
      "<class 'tuple'>\n",
      "Argumentos são:  (1, 2, 3)\n",
      "<class 'tuple'>\n",
      "Argumentos são:  ()\n",
      "<class 'tuple'>\n",
      "Argumentos são:  ('Olá', True, [1, 2, 3])\n"
     ]
    }
   ],
   "source": [
    "def func(*args):\n",
    "    print(type(args))\n",
    "    print(\"Argumentos são: \", args)\n",
    "    \n",
    "func(1,2,3)\n",
    "func()\n",
    "func(\"Olá\", True, [1,2,3])"
   ]
  },
  {
   "cell_type": "code",
   "execution_count": 9,
   "id": "7d44e874",
   "metadata": {},
   "outputs": [
    {
     "name": "stdout",
     "output_type": "stream",
     "text": [
      "8\n"
     ]
    }
   ],
   "source": [
    "def print_sub(num1,num2):\n",
    "    print(num1 - num2)\n",
    "\n",
    "print_sub(num2 = 2, num1 = 10)    "
   ]
  },
  {
   "cell_type": "code",
   "execution_count": 11,
   "id": "1e89ecfe",
   "metadata": {},
   "outputs": [
    {
     "name": "stdout",
     "output_type": "stream",
     "text": [
      "Argumentos são:  (1, 2, 3)\n",
      "1\n",
      "Argumentos são:  ()\n",
      "2\n",
      "Argumentos são:  ('olá', True, [1, 2, 3])\n",
      "3\n"
     ]
    }
   ],
   "source": [
    "def func(*args, outro):\n",
    "    print(\"Argumentos são: \", args)\n",
    "    print(outro)\n",
    "\n",
    "func(1,2,3, outro=\"1\")  \n",
    "func(outro=\"2\")\n",
    "func(\"olá\",True,[1,2,3], outro='3')         "
   ]
  },
  {
   "cell_type": "code",
   "execution_count": 12,
   "id": "50cc2931",
   "metadata": {},
   "outputs": [
    {
     "name": "stdout",
     "output_type": "stream",
     "text": [
      "Teste 1\n",
      "Outro 3\n"
     ]
    }
   ],
   "source": [
    "def func(valor, nome = \"Teste\"):\n",
    "    print(nome, valor)\n",
    "\n",
    "func(1)\n",
    "func(3,\"Outro\")"
   ]
  },
  {
   "cell_type": "code",
   "execution_count": 13,
   "id": "76391e5d",
   "metadata": {},
   "outputs": [
    {
     "name": "stdout",
     "output_type": "stream",
     "text": [
      "<class 'dict'>\n",
      "{'Valor': '10', 'operacao': 'Soma', 'resultado': 10}\n",
      "10\n"
     ]
    }
   ],
   "source": [
    "def func(**args):\n",
    "    print(type(args))\n",
    "    print(args)\n",
    "    print(args['Valor'])\n",
    "\n",
    "func(Valor = '10', operacao = 'Soma', resultado = 10)    "
   ]
  },
  {
   "cell_type": "code",
   "execution_count": 14,
   "id": "6a35137d",
   "metadata": {},
   "outputs": [
    {
     "name": "stdout",
     "output_type": "stream",
     "text": [
      "<class 'function'>\n",
      "10\n"
     ]
    }
   ],
   "source": [
    "def printa(x):\n",
    "    print(x)\n",
    "    \n",
    "def executa_func(func,x):\n",
    "    func(x)\n",
    "\n",
    "minha_funcao = printa\n",
    "print(type(minha_funcao))\n",
    "\n",
    "\n",
    "executa_func(minha_funcao,10)"
   ]
  },
  {
   "cell_type": "code",
   "execution_count": 15,
   "id": "5e391ec8",
   "metadata": {},
   "outputs": [
    {
     "name": "stdout",
     "output_type": "stream",
     "text": [
      "7\n"
     ]
    }
   ],
   "source": [
    "def subtrai(num1, num2):\n",
    "    valor = num1 - num2\n",
    "    return valor\n",
    "\n",
    "subtracao = subtrai(10,3)\n",
    "\n",
    "print(subtracao)"
   ]
  },
  {
   "cell_type": "code",
   "execution_count": 18,
   "id": "5ea44d4c",
   "metadata": {},
   "outputs": [
    {
     "name": "stdout",
     "output_type": "stream",
     "text": [
      "O número 10 tem 2 digitos\n",
      "O número 1230 tem 4 digitos\n"
     ]
    }
   ],
   "source": [
    "def len_int(numero):\n",
    "    numero_em_texto = str(numero)\n",
    "    return len(numero_em_texto)\n",
    "\n",
    "num1 = \"10\"\n",
    "num2 = 1230\n",
    "\n",
    "tamanho_1 = len_int(num1)\n",
    "tamanho_2 = len_int(num2)\n",
    "\n",
    "print(\"O número %s tem %d digitos\" %(num1, tamanho_1))\n",
    "print(\"O número %d tem %d digitos\" %(num2, tamanho_2))"
   ]
  },
  {
   "cell_type": "code",
   "execution_count": 19,
   "id": "a45d29f0",
   "metadata": {},
   "outputs": [
    {
     "name": "stdout",
     "output_type": "stream",
     "text": [
      "(1, 2)\n",
      "<class 'tuple'>\n"
     ]
    }
   ],
   "source": [
    "def retorna_multilplo():\n",
    "    return 1,2\n",
    "\n",
    "valor = retorna_multilplo()\n",
    "print(valor)\n",
    "print(type(valor))\n"
   ]
  },
  {
   "cell_type": "code",
   "execution_count": 22,
   "id": "2f25bc86",
   "metadata": {},
   "outputs": [
    {
     "name": "stdout",
     "output_type": "stream",
     "text": [
      "2 4 6\n",
      "(2, 4, 6)\n"
     ]
    }
   ],
   "source": [
    "def retorna_multilplo(a,b,c):\n",
    "    a +=a\n",
    "    b +=b\n",
    "    c +=c\n",
    "    return a,b,c\n",
    "\n",
    "x,y,z = retorna_multilplo(1,2,3)\n",
    "print(x,y,z)\n",
    "a = retorna_multilplo(1,2,3)\n",
    "print(a)"
   ]
  },
  {
   "cell_type": "code",
   "execution_count": 26,
   "id": "cdb42d39",
   "metadata": {},
   "outputs": [
    {
     "name": "stdout",
     "output_type": "stream",
     "text": [
      "123\n"
     ]
    },
    {
     "data": {
      "text/plain": [
       "'1'"
      ]
     },
     "execution_count": 26,
     "metadata": {},
     "output_type": "execute_result"
    }
   ],
   "source": [
    "def func(x):\n",
    "    if x == \"Olá\":\n",
    "        print(\"Olá\")\n",
    "        return\n",
    "    print(\"123\")\n",
    "    return x\n",
    "func(\"1\")    "
   ]
  },
  {
   "cell_type": "markdown",
   "id": "33f2045a",
   "metadata": {},
   "source": [
    "# Lambda"
   ]
  },
  {
   "cell_type": "code",
   "execution_count": 1,
   "id": "f0321e84",
   "metadata": {},
   "outputs": [
    {
     "name": "stdout",
     "output_type": "stream",
     "text": [
      "12\n"
     ]
    }
   ],
   "source": [
    "faz_soma = lambda x : x + 10  \n",
    "valor = faz_soma(2)\n",
    "print(valor)"
   ]
  },
  {
   "cell_type": "code",
   "execution_count": 2,
   "id": "cd2d286b",
   "metadata": {},
   "outputs": [
    {
     "name": "stdout",
     "output_type": "stream",
     "text": [
      "20\n"
     ]
    }
   ],
   "source": [
    "multiplica = lambda x,y : x * y\n",
    "valor = multiplica(2,10)\n",
    "print(valor)"
   ]
  },
  {
   "cell_type": "code",
   "execution_count": 3,
   "id": "fad9bdfb",
   "metadata": {},
   "outputs": [
    {
     "name": "stdout",
     "output_type": "stream",
     "text": [
      "20\n"
     ]
    }
   ],
   "source": [
    "def multiplica(y):\n",
    "    return lambda x : x * y\n",
    "\n",
    "valor = multiplica(2)\n",
    "\n",
    "resultado = valor(10)\n",
    "\n",
    "print(resultado)"
   ]
  },
  {
   "cell_type": "markdown",
   "id": "13ba709d",
   "metadata": {},
   "source": [
    "# Funções Recursivas"
   ]
  },
  {
   "cell_type": "code",
   "execution_count": 4,
   "id": "46854ff8",
   "metadata": {},
   "outputs": [
    {
     "name": "stdout",
     "output_type": "stream",
     "text": [
      "0\n",
      "1\n",
      "2\n",
      "3\n",
      "4\n",
      "5\n",
      "6\n",
      "7\n",
      "8\n",
      "9\n",
      "10\n"
     ]
    }
   ],
   "source": [
    "def print_num(num):\n",
    "    print(num)\n",
    "    if num >= 10:\n",
    "        return\n",
    "    print_num(num + 1)\n",
    "    \n",
    "print_num(0)"
   ]
  },
  {
   "cell_type": "code",
   "execution_count": 5,
   "id": "bcf1b251",
   "metadata": {},
   "outputs": [
    {
     "name": "stdout",
     "output_type": "stream",
     "text": [
      "P\n",
      "y\n",
      "t\n",
      "h\n",
      "o\n",
      "n\n"
     ]
    }
   ],
   "source": [
    "def print_str(texto , indice):\n",
    "    if indice == len(texto):\n",
    "        return\n",
    "    print(texto[indice])\n",
    "    print_str(texto, indice + 1)\n",
    "    \n",
    "print_str(\"Python\", 0)"
   ]
  },
  {
   "cell_type": "code",
   "execution_count": 8,
   "id": "5920711f",
   "metadata": {},
   "outputs": [
    {
     "name": "stdout",
     "output_type": "stream",
     "text": [
      "120\n"
     ]
    }
   ],
   "source": [
    "def fatorial(num):\n",
    "    if(num == 1):\n",
    "        return 1\n",
    "    return num * fatorial(num-1)\n",
    "\n",
    "print(fatorial(5))"
   ]
  },
  {
   "cell_type": "markdown",
   "id": "9722a177",
   "metadata": {},
   "source": [
    "# Funções Aninhadas"
   ]
  },
  {
   "cell_type": "code",
   "execution_count": 10,
   "id": "4c6e3809",
   "metadata": {},
   "outputs": [
    {
     "name": "stdout",
     "output_type": "stream",
     "text": [
      "Sou filho\n"
     ]
    }
   ],
   "source": [
    "def pai():\n",
    "    def filho():\n",
    "        print(\"Sou filho\")\n",
    "    filho()\n",
    "pai()    "
   ]
  },
  {
   "cell_type": "code",
   "execution_count": 14,
   "id": "fe738715",
   "metadata": {},
   "outputs": [
    {
     "name": "stdout",
     "output_type": "stream",
     "text": [
      "3\n",
      "1\n"
     ]
    }
   ],
   "source": [
    "def calculadora(num1, num2, op):\n",
    "    def soma(a, b):\n",
    "        return a + b\n",
    "    def subtrai(a, b):\n",
    "        return a - b\n",
    "    if (op == '+' ):\n",
    "        return soma(num1,num2)\n",
    "    elif (op == '-'):\n",
    "        return subtrai(num1,num2)\n",
    "\n",
    "print(calculadora(2,1,'+'))    \n",
    "print(calculadora(2,1,'-'))"
   ]
  },
  {
   "cell_type": "code",
   "execution_count": 15,
   "id": "69fb62f7",
   "metadata": {},
   "outputs": [
    {
     "name": "stdout",
     "output_type": "stream",
     "text": [
      "10\n",
      "<class 'function'>\n"
     ]
    }
   ],
   "source": [
    "def pega_func_print():\n",
    "    def print_var(var):\n",
    "        print(var)\n",
    "    return print_var\n",
    "\n",
    "imprima_me = pega_func_print()\n",
    "\n",
    "imprima_me(10)\n",
    "print(type(imprima_me))"
   ]
  },
  {
   "cell_type": "markdown",
   "id": "4b8325b9",
   "metadata": {},
   "source": [
    "# Decorators"
   ]
  },
  {
   "cell_type": "code",
   "execution_count": 16,
   "id": "651a6c73",
   "metadata": {},
   "outputs": [
    {
     "name": "stdout",
     "output_type": "stream",
     "text": [
      "STRING DE TESTE\n"
     ]
    }
   ],
   "source": [
    "def DeixaMaisculo(func):\n",
    "    def inner_func():\n",
    "        return func().upper()\n",
    "    return inner_func\n",
    "\n",
    "@DeixaMaisculo\n",
    "def retorna_string():\n",
    "    return \"string de teste\"\n",
    "\n",
    "valor = retorna_string()\n",
    "print(valor)"
   ]
  },
  {
   "cell_type": "code",
   "execution_count": 17,
   "id": "d057e4cc",
   "metadata": {},
   "outputs": [
    {
     "name": "stdout",
     "output_type": "stream",
     "text": [
      "TESTEABC\n"
     ]
    }
   ],
   "source": [
    "def DeixaMaisculo(func):\n",
    "    def inner_func(str1,str2):\n",
    "        return func(str1,str2).upper()\n",
    "    return inner_func\n",
    "    \n",
    "@DeixaMaisculo\n",
    "def concatena_string(str1,str2):\n",
    "    return str1 + str2\n",
    "\n",
    "valor = concatena_string('teste','abc')\n",
    "print(valor)"
   ]
  },
  {
   "cell_type": "code",
   "execution_count": 1,
   "id": "11f9627b",
   "metadata": {},
   "outputs": [
    {
     "name": "stdout",
     "output_type": "stream",
     "text": [
      "(OLÁ ESTE TEXTO SERÁ FORMATADO)\n"
     ]
    }
   ],
   "source": [
    "def DeixaMaisculo(func):\n",
    "    def inner_func(texto):\n",
    "        return func(texto).upper()\n",
    "    return inner_func\n",
    "\n",
    "def InsereParenteses(func):\n",
    "    def inner_func(texto):\n",
    "        return '(' + func(texto) + ')'\n",
    "    return inner_func\n",
    "\n",
    "@DeixaMaisculo\n",
    "@InsereParenteses\n",
    "def formata_string(texto):\n",
    "    return texto\n",
    "\n",
    "print(formata_string(\"Olá este texto será formatado\"))\n"
   ]
  },
  {
   "cell_type": "markdown",
   "id": "4784c8b2",
   "metadata": {},
   "source": [
    "# Escopo"
   ]
  },
  {
   "cell_type": "code",
   "execution_count": 5,
   "id": "a310f29d",
   "metadata": {},
   "outputs": [
    {
     "name": "stdout",
     "output_type": "stream",
     "text": [
      "10\n"
     ]
    }
   ],
   "source": [
    "var2 = 10\n",
    "def func():\n",
    "    print(var2)\n",
    "    variavel_local = 10\n",
    "    \n",
    "func()\n"
   ]
  },
  {
   "cell_type": "code",
   "execution_count": 6,
   "id": "204c2d81",
   "metadata": {},
   "outputs": [
    {
     "name": "stdout",
     "output_type": "stream",
     "text": [
      "20\n"
     ]
    }
   ],
   "source": [
    "var2 = 10\n",
    "\n",
    "if (True):\n",
    "    var2 = 20\n",
    "\n",
    "    \n",
    "print(var2)\n"
   ]
  },
  {
   "cell_type": "code",
   "execution_count": 8,
   "id": "b9bc3918",
   "metadata": {},
   "outputs": [
    {
     "name": "stdout",
     "output_type": "stream",
     "text": [
      "20\n",
      "20\n"
     ]
    }
   ],
   "source": [
    "var2 = 10\n",
    "\n",
    "def func():\n",
    "    global var2 \n",
    "    var2 = 20 \n",
    "    print(var2)\n",
    "    \n",
    "func()\n",
    "print(var2)"
   ]
  },
  {
   "cell_type": "code",
   "execution_count": 9,
   "id": "962f8aaa",
   "metadata": {},
   "outputs": [
    {
     "name": "stdout",
     "output_type": "stream",
     "text": [
      "10\n"
     ]
    }
   ],
   "source": [
    "def func_pai():\n",
    "    pai = 10\n",
    "    def func_filho():\n",
    "        print(pai)\n",
    "    func_filho();\n",
    "    \n",
    "func_pai()"
   ]
  },
  {
   "cell_type": "code",
   "execution_count": 11,
   "id": "4de8cdc5",
   "metadata": {},
   "outputs": [
    {
     "name": "stdout",
     "output_type": "stream",
     "text": [
      "20\n",
      "10\n"
     ]
    }
   ],
   "source": [
    "def func_pai():\n",
    "    pai = 10\n",
    "    def func_filho():\n",
    "        pai = 20\n",
    "        print(pai)\n",
    "    func_filho();\n",
    "    print(pai)\n",
    "    \n",
    "func_pai()"
   ]
  },
  {
   "cell_type": "code",
   "execution_count": 12,
   "id": "52c470b2",
   "metadata": {},
   "outputs": [
    {
     "name": "stdout",
     "output_type": "stream",
     "text": [
      "20\n",
      "20\n"
     ]
    }
   ],
   "source": [
    "def func_pai():\n",
    "    pai = 10\n",
    "    def func_filho():\n",
    "        nonlocal pai \n",
    "        pai = 20\n",
    "        print(pai)\n",
    "    func_filho();\n",
    "    print(pai)\n",
    "    \n",
    "func_pai()"
   ]
  },
  {
   "cell_type": "code",
   "execution_count": 14,
   "id": "dd939907",
   "metadata": {},
   "outputs": [
    {
     "name": "stdout",
     "output_type": "stream",
     "text": [
      "20\n"
     ]
    },
    {
     "ename": "NameError",
     "evalue": "name 'var' is not defined",
     "output_type": "error",
     "traceback": [
      "\u001b[1;31m--------------------------------------------\u001b[0m",
      "\u001b[1;31mNameError\u001b[0m  Traceback (most recent call last)",
      "Cell \u001b[1;32mIn[14], line 4\u001b[0m\n\u001b[0;32m      2\u001b[0m \u001b[38;5;28mprint\u001b[39m(var)\n\u001b[0;32m      3\u001b[0m \u001b[38;5;28;01mdel\u001b[39;00m var\n\u001b[1;32m----> 4\u001b[0m \u001b[38;5;28mprint\u001b[39m(\u001b[43mvar\u001b[49m)\n",
      "\u001b[1;31mNameError\u001b[0m: name 'var' is not defined"
     ]
    }
   ],
   "source": [
    "var = 20\n",
    "print(var)\n",
    "del var\n",
    "print(var)"
   ]
  },
  {
   "cell_type": "code",
   "execution_count": 15,
   "id": "1712aa77",
   "metadata": {},
   "outputs": [
    {
     "name": "stdout",
     "output_type": "stream",
     "text": [
      "[2, 3]\n"
     ]
    }
   ],
   "source": [
    "array = [1,2,3]\n",
    "del array[0]\n",
    "print(array)"
   ]
  },
  {
   "cell_type": "code",
   "execution_count": 16,
   "id": "382897a5",
   "metadata": {},
   "outputs": [
    {
     "name": "stdout",
     "output_type": "stream",
     "text": [
      "[3]\n"
     ]
    }
   ],
   "source": [
    "array = [1,2,3]\n",
    "del array[:2]\n",
    "print(array)"
   ]
  }
 ],
 "metadata": {
  "kernelspec": {
   "display_name": "Python 3 (ipykernel)",
   "language": "python",
   "name": "python3"
  },
  "language_info": {
   "codemirror_mode": {
    "name": "ipython",
    "version": 3
   },
   "file_extension": ".py",
   "mimetype": "text/x-python",
   "name": "python",
   "nbconvert_exporter": "python",
   "pygments_lexer": "ipython3",
   "version": "3.10.9"
  }
 },
 "nbformat": 4,
 "nbformat_minor": 5
}
