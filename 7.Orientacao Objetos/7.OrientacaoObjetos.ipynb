{
 "cells": [
  {
   "cell_type": "code",
   "execution_count": 1,
   "id": "1e34f1b9",
   "metadata": {},
   "outputs": [
    {
     "name": "stdout",
     "output_type": "stream",
     "text": [
      "<class '__main__.Teste'>\n"
     ]
    }
   ],
   "source": [
    "class Teste:\n",
    "    pass\n",
    "\n",
    "minha_classe = Teste()\n",
    "print(type(minha_classe))"
   ]
  },
  {
   "cell_type": "code",
   "execution_count": 2,
   "id": "68cb7f5f",
   "metadata": {},
   "outputs": [
    {
     "name": "stdout",
     "output_type": "stream",
     "text": [
      "Eu existo\n",
      "<class '__main__.NossaClasse'>\n"
     ]
    }
   ],
   "source": [
    "class NossaClasse:\n",
    "    def __init__(self):\n",
    "        print(\"Eu existo\")\n",
    "        \n",
    "var = NossaClasse()\n",
    "print(type(var))"
   ]
  },
  {
   "cell_type": "code",
   "execution_count": 3,
   "id": "7d634b1d",
   "metadata": {},
   "outputs": [
    {
     "name": "stdout",
     "output_type": "stream",
     "text": [
      "Pessoa com nome Rodrigo e idade 34 criada\n",
      "Pessoa com nome Lucas e idade 21 criada\n",
      "Rodrigo\n",
      "21\n"
     ]
    }
   ],
   "source": [
    "class Pessoa:\n",
    "    def __init__(self, nome, idade):\n",
    "        self.nome = nome\n",
    "        self.idade = idade\n",
    "        print(\"Pessoa com nome %s e idade %d criada\" % (nome, idade))\n",
    "        \n",
    "pessoa1 = Pessoa(\"Rodrigo\",34)\n",
    "pessoa2 = Pessoa(\"Lucas\",21)\n",
    "\n",
    "print(pessoa1.nome)\n",
    "print(pessoa2.idade)"
   ]
  },
  {
   "cell_type": "code",
   "execution_count": 4,
   "id": "f1824894",
   "metadata": {},
   "outputs": [
    {
     "name": "stdout",
     "output_type": "stream",
     "text": [
      "Pessoa com nome Rodrigo e idade 34 criada\n",
      "Marcelo\n"
     ]
    }
   ],
   "source": [
    "class Pessoa:\n",
    "    def __init__(self, nome, idade):\n",
    "        self.nome = nome\n",
    "        self.idade = idade\n",
    "        print(\"Pessoa com nome %s e idade %d criada\" % (nome, idade))\n",
    "        \n",
    "pessoa1 = Pessoa(\"Rodrigo\",34)\n",
    "\n",
    "pessoa1.nome = \"Marcelo\"\n",
    "print(pessoa1.nome)"
   ]
  },
  {
   "cell_type": "code",
   "execution_count": 5,
   "id": "eb78fcde",
   "metadata": {},
   "outputs": [
    {
     "name": "stdout",
     "output_type": "stream",
     "text": [
      "Pessoa com nome Rodrigo e idade 34 criada\n",
      "Pessoa com nome Lucas e idade 21 criada\n",
      "Homo Sapiens\n",
      "Homo Sapiens\n"
     ]
    }
   ],
   "source": [
    "class Pessoa:\n",
    "    especie = \"Homo Sapiens\"\n",
    "    def __init__(self, nome, idade):\n",
    "        self.nome = nome\n",
    "        self.idade = idade\n",
    "        print(\"Pessoa com nome %s e idade %d criada\" % (nome, idade))\n",
    "        \n",
    "pessoa1 = Pessoa(\"Rodrigo\",34)\n",
    "pessoa2 = Pessoa(\"Lucas\",21)\n",
    "\n",
    "print(pessoa1.especie)\n",
    "print(pessoa2.especie)"
   ]
  },
  {
   "cell_type": "code",
   "execution_count": 7,
   "id": "1d556cc4",
   "metadata": {},
   "outputs": [
    {
     "name": "stdout",
     "output_type": "stream",
     "text": [
      "1\n",
      "2\n",
      "3\n"
     ]
    }
   ],
   "source": [
    "class Pessoa:\n",
    "    especie = \"Homo Sapiens\"\n",
    "    num_pessoas = 0\n",
    "    def __init__(self, nome, idade):\n",
    "        self.nome = nome\n",
    "        self.idade = idade\n",
    "        Pessoa.num_pessoas +=1\n",
    "        \n",
    "pessoa1 = Pessoa(\"Rodrigo\",34)\n",
    "print(Pessoa.num_pessoas)\n",
    "pessoa2 = Pessoa(\"Lucas\",21)\n",
    "print(Pessoa.num_pessoas)\n",
    "pessoa3 = Pessoa(\"Maria\",22)\n",
    "print(Pessoa.num_pessoas)"
   ]
  },
  {
   "cell_type": "markdown",
   "id": "c364e91e",
   "metadata": {},
   "source": [
    "### Funções de Objeto"
   ]
  },
  {
   "cell_type": "code",
   "execution_count": 8,
   "id": "24f3a811",
   "metadata": {},
   "outputs": [
    {
     "name": "stdout",
     "output_type": "stream",
     "text": [
      "Meu nome é Rodrigo \n",
      "Meu nome é Maria \n"
     ]
    }
   ],
   "source": [
    "class Pessoa:\n",
    "    def __init__(self, nome, idade):\n",
    "        self.nome = nome\n",
    "        self.idade = idade\n",
    "    def print_nome(self):\n",
    "        print(\"Meu nome é %s \" % (self.nome))\n",
    "        \n",
    "pessoa1 = Pessoa(\"Rodrigo\",\"34\")\n",
    "pessoa2 = Pessoa(\"Maria\",\"22\")\n",
    "\n",
    "pessoa1.print_nome()\n",
    "pessoa2.print_nome()"
   ]
  },
  {
   "cell_type": "code",
   "execution_count": 9,
   "id": "66c8ed07",
   "metadata": {},
   "outputs": [
    {
     "name": "stdout",
     "output_type": "stream",
     "text": [
      "Meu nome é Rodrigo \n",
      "Meu nome é Maria \n"
     ]
    }
   ],
   "source": [
    "class Pessoa:\n",
    "    def __init__(self, nome, idade):\n",
    "        self.nome = nome\n",
    "        self.idade = idade\n",
    "        \n",
    "    def print_string(self, nome):\n",
    "         print(\"Meu nome é %s \" % (nome))   \n",
    "            \n",
    "    def print_nome(self):\n",
    "        self.print_string(self.nome)\n",
    "        \n",
    "pessoa1 = Pessoa(\"Rodrigo\",\"34\")\n",
    "pessoa2 = Pessoa(\"Maria\",\"22\")\n",
    "\n",
    "pessoa1.print_nome()\n",
    "pessoa2.print_nome()"
   ]
  },
  {
   "cell_type": "code",
   "execution_count": 10,
   "id": "5850b4da",
   "metadata": {},
   "outputs": [
    {
     "name": "stdout",
     "output_type": "stream",
     "text": [
      "34\n"
     ]
    }
   ],
   "source": [
    "class Pessoa:\n",
    "    def __init__(self, nome):\n",
    "        self.nome = nome\n",
    "    def insere_idade(self, idade):\n",
    "        self.idade = idade\n",
    "\n",
    "rodrigo = Pessoa(\"Rodrigo\")\n",
    "rodrigo.insere_idade(34)\n",
    "\n",
    "print(rodrigo.idade)"
   ]
  },
  {
   "cell_type": "code",
   "execution_count": 1,
   "id": "c1c6da38",
   "metadata": {},
   "outputs": [
    {
     "name": "stdout",
     "output_type": "stream",
     "text": [
      "10\n"
     ]
    }
   ],
   "source": [
    "class Tipo1:\n",
    "    def __init__(self, outra_classe):\n",
    "        self.outra = outra_classe\n",
    "\n",
    "class Tipo2:\n",
    "    numero = 10\n",
    "    \n",
    "classe2 = Tipo2()\n",
    "classe1 = Tipo1(classe2)\n",
    "\n",
    "print(classe1.outra.numero)\n"
   ]
  },
  {
   "cell_type": "code",
   "execution_count": 2,
   "id": "94e1aefb",
   "metadata": {},
   "outputs": [
    {
     "name": "stdout",
     "output_type": "stream",
     "text": [
      "<class '__main__.Exemplo'>\n",
      "<class '__main__.Exemplo'>\n"
     ]
    }
   ],
   "source": [
    "class Exemplo:\n",
    "    def __init__(self):\n",
    "        pass\n",
    "    \n",
    "lista = []\n",
    "ex1 = Exemplo\n",
    "ex2 = Exemplo\n",
    "\n",
    "lista.append(ex1)\n",
    "lista.append(ex2)\n",
    "\n",
    "print(lista[0])\n",
    "print(lista[1])"
   ]
  },
  {
   "cell_type": "markdown",
   "id": "4216ee05",
   "metadata": {},
   "source": [
    "### Herança"
   ]
  },
  {
   "cell_type": "code",
   "execution_count": 4,
   "id": "ad61e594",
   "metadata": {},
   "outputs": [
    {
     "name": "stdout",
     "output_type": "stream",
     "text": [
      "100\n",
      "30\n"
     ]
    }
   ],
   "source": [
    "class FormaGeometrica:\n",
    "    def __init__(self, altura, largura):\n",
    "        self.altura = altura\n",
    "        self.largura = largura\n",
    "        \n",
    "class Quadrado(FormaGeometrica):\n",
    "    pass\n",
    "\n",
    "class Triangulo(FormaGeometrica):\n",
    "    pass\n",
    "\n",
    "\n",
    "quadrado = Quadrado(100,50)\n",
    "triangulo = Triangulo(10,30)\n",
    "\n",
    "print(quadrado.altura)\n",
    "print(triangulo.largura)"
   ]
  },
  {
   "cell_type": "code",
   "execution_count": 5,
   "id": "1cc5e9e1",
   "metadata": {},
   "outputs": [
    {
     "name": "stdout",
     "output_type": "stream",
     "text": [
      "100\n",
      "50\n",
      "10\n",
      "30\n",
      "10\n",
      "30\n"
     ]
    }
   ],
   "source": [
    "class FormaGeometrica:\n",
    "    def __init__(self, altura, largura):\n",
    "        self.altura = altura\n",
    "        self.largura = largura\n",
    "        \n",
    "class Quadrado(FormaGeometrica):\n",
    "    lado = 10\n",
    "\n",
    "class Triangulo(FormaGeometrica):\n",
    "    angulo = 30\n",
    "\n",
    "\n",
    "quadrado = Quadrado(100,50)\n",
    "triangulo = Triangulo(10,30)\n",
    "\n",
    "print(quadrado.altura)\n",
    "print(quadrado.largura)\n",
    "print(quadrado.lado)\n",
    "\n",
    "print(triangulo.largura)\n",
    "print(triangulo.altura)\n",
    "print(triangulo.angulo)"
   ]
  },
  {
   "cell_type": "code",
   "execution_count": 6,
   "id": "7b20c295",
   "metadata": {},
   "outputs": [
    {
     "name": "stdout",
     "output_type": "stream",
     "text": [
      "Sou herdado\n",
      "Sou herdado\n"
     ]
    }
   ],
   "source": [
    "class FormaGeometrica:\n",
    "    def __init__(self, altura, largura):\n",
    "        self.altura = altura\n",
    "        self.largura = largura\n",
    "    def funcao_herdada(self):\n",
    "        print(\"Sou herdado\")\n",
    "        \n",
    "class Quadrado(FormaGeometrica):\n",
    "    pass\n",
    "\n",
    "class Triangulo(FormaGeometrica):\n",
    "    pass\n",
    "\n",
    "\n",
    "quadrado = Quadrado(100,50)\n",
    "triangulo = Triangulo(10,30)\n",
    "\n",
    "quadrado.funcao_herdada()\n",
    "triangulo.funcao_herdada()\n"
   ]
  },
  {
   "cell_type": "markdown",
   "id": "12134df8",
   "metadata": {},
   "source": [
    "### Overrides: Sobreposição de Funções"
   ]
  },
  {
   "cell_type": "code",
   "execution_count": 7,
   "id": "864e754a",
   "metadata": {},
   "outputs": [
    {
     "name": "stdout",
     "output_type": "stream",
     "text": [
      "Sou a classe pai\n",
      "Sou a classe filha 1\n",
      "Sou a classe filha 2\n"
     ]
    }
   ],
   "source": [
    "class ClassePai:\n",
    "    def __init__(self):\n",
    "        print(\"Sou a classe pai\")\n",
    "\n",
    "class ClasseFilha1(ClassePai):\n",
    "    def __init__(self):\n",
    "        print(\"Sou a classe filha 1\")\n",
    "\n",
    "class ClasseFilha2(ClassePai):\n",
    "    def __init__(self):\n",
    "        print(\"Sou a classe filha 2\")    \n",
    "        \n",
    "pai = ClassePai()\n",
    "filha1 = ClasseFilha1()\n",
    "filha2 = ClasseFilha2()\n",
    "        "
   ]
  },
  {
   "cell_type": "code",
   "execution_count": 8,
   "id": "8f08e750",
   "metadata": {},
   "outputs": [
    {
     "name": "stdout",
     "output_type": "stream",
     "text": [
      "100\n",
      "quadrado\n",
      "100\n",
      "triangulo\n"
     ]
    }
   ],
   "source": [
    "class FormaGeometrica:\n",
    "    def __init__(self, altura, largura):\n",
    "        self.altura = altura\n",
    "        self.largura = largura\n",
    "        \n",
    "class Quadrado(FormaGeometrica):\n",
    "    def __init__(self, altura, largura, atributo_quadrado):\n",
    "        FormaGeometrica.__init__(self, altura, largura)\n",
    "        self.atributo_quadrado = atributo_quadrado\n",
    "        \n",
    "class Triangulo(FormaGeometrica):\n",
    "    def __init__(self, altura, largura, atributo_triangulo):\n",
    "        FormaGeometrica.__init__(self, altura, largura)\n",
    "        self.atributo_triangulo = atributo_triangulo\n",
    "        \n",
    "quadrado = Quadrado(100,200, 'quadrado')\n",
    "triangulo = Triangulo(100,200, 'triangulo')\n",
    "\n",
    "print(quadrado.altura)\n",
    "print(quadrado.atributo_quadrado)\n",
    "\n",
    "print(triangulo.altura)\n",
    "print(triangulo.atributo_triangulo)\n"
   ]
  },
  {
   "cell_type": "code",
   "execution_count": 9,
   "id": "34870c99",
   "metadata": {},
   "outputs": [
    {
     "name": "stdout",
     "output_type": "stream",
     "text": [
      "40000\n",
      "20000.0\n"
     ]
    }
   ],
   "source": [
    "class FormaGeometrica:\n",
    "    def __init__(self,altura,largura):\n",
    "        self.altura = altura\n",
    "        self.largura = largura\n",
    "    def calcula_area(self):\n",
    "        pass\n",
    "    \n",
    "class Quadrado(FormaGeometrica):\n",
    "    def calcula_area(self):\n",
    "        return self.altura * self.largura\n",
    "    \n",
    "class Triangulo(FormaGeometrica):\n",
    "    def calcula_area(self):\n",
    "        return (self.altura * self.largura) / 2\n",
    "    \n",
    "quadrado = Quadrado(200,200)\n",
    "triangulo = Triangulo(200,200)\n",
    "\n",
    "print(quadrado.calcula_area())\n",
    "print(triangulo.calcula_area())"
   ]
  },
  {
   "cell_type": "code",
   "execution_count": 13,
   "id": "9648bbfc",
   "metadata": {},
   "outputs": [
    {
     "name": "stdout",
     "output_type": "stream",
     "text": [
      "6\n",
      "6\n"
     ]
    }
   ],
   "source": [
    "class Veiculo:\n",
    "    def __init__(self, marcha):\n",
    "        self.marcha = marcha\n",
    "    def aumenta_marcha(self):\n",
    "        self.marcha += 1\n",
    "        self.marcha = min(self.marcha,5)\n",
    "    def diminui_marcha(self):\n",
    "        self.marcha -= 1\n",
    "        self.marcha = max(self.marcha,1)\n",
    "        \n",
    "class Palio(Veiculo):\n",
    "    def __init__(self, marcha):\n",
    "        Veiculo.__init__(self,marcha)\n",
    "        \n",
    "class EcoSport(Veiculo):\n",
    "    def __init__(self, marcha):\n",
    "        Veiculo.__init__(self,marcha)\n",
    "        \n",
    "    def aumenta_marcha(self):\n",
    "        self.marcha += 1\n",
    "        self.marcha = min(self.marcha,6)\n",
    "        \n",
    "        \n",
    "carro = EcoSport(5)\n",
    "carro.aumenta_marcha()\n",
    "print(carro.marcha)\n",
    "carro.aumenta_marcha()\n",
    "print(carro.marcha)"
   ]
  },
  {
   "cell_type": "markdown",
   "id": "dacb1ae3",
   "metadata": {},
   "source": [
    "### Herança Multipla"
   ]
  },
  {
   "cell_type": "code",
   "execution_count": 15,
   "id": "5f171d8b",
   "metadata": {},
   "outputs": [
    {
     "name": "stdout",
     "output_type": "stream",
     "text": [
      "10\n",
      "20\n",
      "Base1\n",
      "Base2\n"
     ]
    }
   ],
   "source": [
    "class Base1:\n",
    "    def __init__(self, atributo1):\n",
    "        self.atributo1 = atributo1\n",
    "    def Base1_print(self):\n",
    "        print(\"Base1\")\n",
    "\n",
    "class Base2:\n",
    "    def __init__(self, atributo2):\n",
    "        self.atributo2 = atributo2\n",
    "    def Base2_print(self):\n",
    "        print(\"Base2\") \n",
    "        \n",
    "class MinhaClasse(Base1,Base2):\n",
    "    def __init__(self):\n",
    "        Base1.__init__(self,10)\n",
    "        Base2.__init__(self,20)\n",
    "\n",
    "var = MinhaClasse()\n",
    "print(var.atributo1)\n",
    "print(var.atributo2)\n",
    "var.Base1_print()\n",
    "var.Base2_print()"
   ]
  },
  {
   "cell_type": "markdown",
   "id": "44e8bf19",
   "metadata": {},
   "source": [
    "### Modificadores de Acesso"
   ]
  },
  {
   "cell_type": "code",
   "execution_count": 18,
   "id": "e4eb8c49",
   "metadata": {},
   "outputs": [
    {
     "ename": "AttributeError",
     "evalue": "'Segredo' object has no attribute '__segredo'",
     "output_type": "error",
     "traceback": [
      "\u001b[1;31m---------------------------------------------------------------------------\u001b[0m",
      "\u001b[1;31mAttributeError\u001b[0m                            Traceback (most recent call last)",
      "Cell \u001b[1;32mIn[18], line 7\u001b[0m\n\u001b[0;32m      3\u001b[0m         \u001b[38;5;28mself\u001b[39m\u001b[38;5;241m.\u001b[39m__segredo \u001b[38;5;241m=\u001b[39m \u001b[38;5;124m'\u001b[39m\u001b[38;5;124mSenha123\u001b[39m\u001b[38;5;124m'\u001b[39m\n\u001b[0;32m      5\u001b[0m seg \u001b[38;5;241m=\u001b[39m Segredo()\n\u001b[1;32m----> 7\u001b[0m \u001b[38;5;28mprint\u001b[39m(\u001b[43mseg\u001b[49m\u001b[38;5;241;43m.\u001b[39;49m\u001b[43m__segredo\u001b[49m)\n",
      "\u001b[1;31mAttributeError\u001b[0m: 'Segredo' object has no attribute '__segredo'"
     ]
    }
   ],
   "source": [
    "class Segredo:\n",
    "    def __init__(self):\n",
    "        self.__segredo = 'Senha123'\n",
    "\n",
    "seg = Segredo()\n",
    "\n",
    "print(seg.__segredo)"
   ]
  },
  {
   "cell_type": "code",
   "execution_count": 19,
   "id": "494d3ec0",
   "metadata": {},
   "outputs": [
    {
     "name": "stdout",
     "output_type": "stream",
     "text": [
      "Senha123\n"
     ]
    }
   ],
   "source": [
    "class Segredo:\n",
    "    def __init__(self):\n",
    "        self.__segredo = 'Senha123'\n",
    "        \n",
    "    def __printa_segredo(self):\n",
    "        print(self.__segredo)\n",
    "\n",
    "    def printa_segredo(self):\n",
    "        self.__printa_segredo()\n",
    "\n",
    "    \n",
    "seg = Segredo()\n",
    "seg.printa_segredo()"
   ]
  },
  {
   "cell_type": "code",
   "execution_count": 21,
   "id": "76f04725",
   "metadata": {},
   "outputs": [
    {
     "name": "stdout",
     "output_type": "stream",
     "text": [
      "Pertenco a Base e a quem me herdar\n",
      "Pertenco a Base e a quem me herdar\n"
     ]
    }
   ],
   "source": [
    "class Base:\n",
    "    def __base_privada(self):\n",
    "        print(\"Pertenco somente a base\")\n",
    "    def _baseprotegida(self):\n",
    "        print(\"Pertenco a Base e a quem me herdar\")\n",
    "        \n",
    "class Filha(Base):\n",
    "    def acessa_protegida(self):\n",
    "        self._baseprotegida()\n",
    "        \n",
    "filha = Filha()\n",
    "filha.acessa_protegida()\n",
    "filha._baseprotegida()"
   ]
  },
  {
   "cell_type": "code",
   "execution_count": 30,
   "id": "3c463cd5",
   "metadata": {},
   "outputs": [
    {
     "name": "stdout",
     "output_type": "stream",
     "text": [
      "5\n",
      "1\n"
     ]
    }
   ],
   "source": [
    "class Veiculo:\n",
    "    def __init__(self):\n",
    "        self.__marcha = 1\n",
    "        \n",
    "    def aumenta_marcha(self):\n",
    "        self.__marcha += 1\n",
    "        self.__marcha = min(self.__marcha, 5)\n",
    "    \n",
    "    def diminui_marcha(self):\n",
    "        self.__marcha -= 1\n",
    "        self.__marcha = max(self.__marcha, 1)\n",
    "        \n",
    "    def marcha_atual(self):\n",
    "        return self.__marcha\n",
    "    \n",
    "carro = Veiculo()\n",
    "carro.aumenta_marcha()\n",
    "carro.aumenta_marcha()\n",
    "carro.aumenta_marcha()\n",
    "carro.aumenta_marcha()\n",
    "carro.aumenta_marcha()\n",
    "print(carro.marcha_atual())\n",
    "\n",
    "carro.diminui_marcha()\n",
    "carro.diminui_marcha()\n",
    "carro.diminui_marcha()\n",
    "carro.diminui_marcha()\n",
    "carro.diminui_marcha()\n",
    "print(carro.marcha_atual())\n"
   ]
  },
  {
   "cell_type": "code",
   "execution_count": 1,
   "id": "c8ee24f4",
   "metadata": {},
   "outputs": [
    {
     "name": "stdout",
     "output_type": "stream",
     "text": [
      "Pegando nome\n",
      "Maria\n"
     ]
    }
   ],
   "source": [
    "class Pessoa:\n",
    "    def __init__(self, nome):\n",
    "        self.__nome = nome\n",
    "    def get_nome(self):\n",
    "        print(\"Pegando nome\")\n",
    "        return self.__nome\n",
    "    \n",
    "    nome = property(get_nome)\n",
    "    \n",
    "instancia = Pessoa(\"Maria\")\n",
    "print(instancia.nome)\n"
   ]
  },
  {
   "cell_type": "code",
   "execution_count": 2,
   "id": "bebc045e",
   "metadata": {},
   "outputs": [
    {
     "name": "stdout",
     "output_type": "stream",
     "text": [
      "Pegando nome\n",
      "Maria\n",
      "Setando nome\n",
      "Pegando nome\n",
      "Marcos\n"
     ]
    }
   ],
   "source": [
    "class Pessoa:\n",
    "    def __init__(self, nome):\n",
    "        self.__nome = nome\n",
    "        \n",
    "    def get_nome(self):\n",
    "        print(\"Pegando nome\")\n",
    "        return self.__nome\n",
    "    \n",
    "    def set_nome(self, nome):\n",
    "        if len(nome) > 0:\n",
    "            print(\"Setando nome\")\n",
    "            self.__nome = nome\n",
    "    \n",
    "    nome = property(get_nome, set_nome)\n",
    "    \n",
    "instancia = Pessoa(\"Maria\")\n",
    "print(instancia.nome)\n",
    "instancia.nome = \"Marcos\"\n",
    "print(instancia.nome)"
   ]
  },
  {
   "cell_type": "code",
   "execution_count": 3,
   "id": "88240c17",
   "metadata": {},
   "outputs": [
    {
     "name": "stdout",
     "output_type": "stream",
     "text": [
      "Setando nome\n"
     ]
    }
   ],
   "source": [
    "class Pessoa:\n",
    "    def __init__(self, nome):\n",
    "        self.__nome = nome\n",
    "            \n",
    "    def set_nome(self, nome):\n",
    "        if len(nome) > 0:\n",
    "            print(\"Setando nome\")\n",
    "            self.__nome = nome\n",
    "    \n",
    "    nome = property(fset = set_nome)\n",
    "    \n",
    "instancia = Pessoa(\"Maria\")\n",
    "instancia.nome = \"Marcos\"\n"
   ]
  },
  {
   "cell_type": "markdown",
   "id": "36cc026d",
   "metadata": {},
   "source": [
    "# Parametros \n",
    "\n",
    "### fset\n",
    "### fget\n",
    "### fdel"
   ]
  },
  {
   "cell_type": "code",
   "execution_count": 6,
   "id": "1770e701",
   "metadata": {},
   "outputs": [
    {
     "name": "stdout",
     "output_type": "stream",
     "text": [
      "Pegando número\n",
      "10\n"
     ]
    }
   ],
   "source": [
    "class Natural:\n",
    "    def __init__(self, numero):\n",
    "        self.__numero = numero\n",
    "    \n",
    "    @property\n",
    "    def numero(self):\n",
    "        print(\"Pegando número\")\n",
    "        return self.__numero\n",
    "    \n",
    "    @numero.setter\n",
    "    def numero(self, value):\n",
    "        if value >= 0:\n",
    "            self.__numero = value\n",
    "            print(\"Setando número para \", value)\n",
    "            \n",
    "numero = Natural(10)\n",
    "numero.numero = -10\n",
    "print(numero.numero)"
   ]
  },
  {
   "cell_type": "code",
   "execution_count": 2,
   "id": "5d2b8126",
   "metadata": {},
   "outputs": [
    {
     "name": "stdout",
     "output_type": "stream",
     "text": [
      "Rodrigo\n",
      "Fernando\n",
      "Fernando\n"
     ]
    }
   ],
   "source": [
    "class Pessoa:\n",
    "    def __init__ (self,nome):\n",
    "        self.__nome = nome\n",
    "    \n",
    "    @property\n",
    "    def nome(self):\n",
    "        return self.__nome.capitalize()\n",
    "    \n",
    "    @nome.setter\n",
    "    def nome(self, value):\n",
    "        if (len(value)!= 0):\n",
    "            self.__nome = value\n",
    "\n",
    "pessoa= Pessoa(\"rodrigo\")\n",
    "print(pessoa.nome)\n",
    "pessoa.nome = \"fernando\"\n",
    "print(pessoa.nome)\n",
    "pessoa.nome = ''\n",
    "print(pessoa.nome)"
   ]
  },
  {
   "cell_type": "markdown",
   "id": "99b13768",
   "metadata": {},
   "source": [
    "# Métodos Estáticos"
   ]
  },
  {
   "cell_type": "code",
   "execution_count": 4,
   "id": "65c03c5d",
   "metadata": {},
   "outputs": [
    {
     "name": "stdout",
     "output_type": "stream",
     "text": [
      "<class '__main__.Teste'>\n",
      "static method\n",
      "<class '__main__.Teste'>\n"
     ]
    }
   ],
   "source": [
    "class Teste:\n",
    "    def __init__(self, gasolina):\n",
    "        pass\n",
    "    \n",
    "    @classmethod\n",
    "    def class_method(cls):\n",
    "        print(cls)\n",
    "        \n",
    "    @staticmethod\n",
    "    def static_method():\n",
    "        print(\"static method\")\n",
    "        \n",
    "Teste.class_method()\n",
    "Teste.static_method()\n",
    "\n",
    "testando = Teste(\"aditivada\")\n",
    "testando.class_method()\n"
   ]
  },
  {
   "cell_type": "code",
   "execution_count": 5,
   "id": "9ececb98",
   "metadata": {},
   "outputs": [
    {
     "name": "stdout",
     "output_type": "stream",
     "text": [
      "carro\n",
      "comum\n",
      "200\n",
      "trator\n"
     ]
    }
   ],
   "source": [
    "class Veiculo:\n",
    "    def __init__(self, nome, gasolina, potencia):\n",
    "        self.nome= nome\n",
    "        self.gasolina = gasolina\n",
    "        self.potencia = potencia\n",
    "    \n",
    "    @classmethod\n",
    "    def cria_carro(cls):\n",
    "        return cls('carro','comum',200)\n",
    "    \n",
    "    @classmethod\n",
    "    def cria_trator(cls):\n",
    "        return cls('trator','aditivida',500)\n",
    "        \n",
    "\n",
    "veiculo1 = Veiculo.cria_carro()\n",
    "veiculo2 = Veiculo.cria_trator()\n",
    "\n",
    "print(veiculo1.nome)\n",
    "print(veiculo1.gasolina)\n",
    "print(veiculo1.potencia)\n",
    "print(veiculo2.nome)\n"
   ]
  },
  {
   "cell_type": "code",
   "execution_count": 9,
   "id": "f0e7702f",
   "metadata": {},
   "outputs": [
    {
     "name": "stdout",
     "output_type": "stream",
     "text": [
      "2\n",
      "2\n"
     ]
    }
   ],
   "source": [
    "class Veiculo:\n",
    "    __numero_veiculos = 0\n",
    "    \n",
    "    def __init__(self, nome, gasolina, potencia):\n",
    "        self.nome= nome\n",
    "        self.gasolina = gasolina\n",
    "        self.potencia = potencia\n",
    "        Veiculo.__numero_veiculos += 1\n",
    "    \n",
    "    @staticmethod\n",
    "    def get_numero_carros():\n",
    "        return Veiculo.__numero_veiculos\n",
    "    \n",
    "carro = Veiculo(\"carro\",\"aditivida\",200)\n",
    "carro2 = Veiculo(\"caminhao\",\"aditivida\",1000)\n",
    "    \n",
    "print(Veiculo.get_numero_carros())\n",
    "print(carro.get_numero_carros())\n",
    "        "
   ]
  },
  {
   "cell_type": "markdown",
   "id": "3e8cee32",
   "metadata": {},
   "source": [
    "# Exemplos de Valor e Referência"
   ]
  },
  {
   "cell_type": "code",
   "execution_count": 10,
   "id": "24a95445",
   "metadata": {},
   "outputs": [
    {
     "name": "stdout",
     "output_type": "stream",
     "text": [
      "10\n"
     ]
    }
   ],
   "source": [
    "lst1 = 10\n",
    "lst2 = lst1\n",
    "lst2 = 20\n",
    "print(lst1)"
   ]
  },
  {
   "cell_type": "code",
   "execution_count": 11,
   "id": "8b725703",
   "metadata": {},
   "outputs": [
    {
     "name": "stdout",
     "output_type": "stream",
     "text": [
      "[1, 2, 3, 10]\n"
     ]
    }
   ],
   "source": [
    "lst1 = [1,2,3]\n",
    "lst2 = lst1\n",
    "lst2.append(10)\n",
    "print(lst1)"
   ]
  },
  {
   "cell_type": "code",
   "execution_count": 13,
   "id": "b4a5bdf4",
   "metadata": {},
   "outputs": [
    {
     "name": "stdout",
     "output_type": "stream",
     "text": [
      "20\n"
     ]
    }
   ],
   "source": [
    "class Classe:\n",
    "    def __init__(self):\n",
    "        self.num = 10\n",
    "        \n",
    "class1 = Classe()\n",
    "class2 = class1\n",
    "class1.num = 20\n",
    "print(class2.num)\n"
   ]
  },
  {
   "cell_type": "code",
   "execution_count": 14,
   "id": "069854b7",
   "metadata": {},
   "outputs": [
    {
     "name": "stdout",
     "output_type": "stream",
     "text": [
      "[1, 2, 3]\n"
     ]
    }
   ],
   "source": [
    "from copy import copy\n",
    "lst1 = [1,2,3]\n",
    "lst2 = copy(lst1)\n",
    "lst2.append(10)\n",
    "print(lst1)"
   ]
  },
  {
   "cell_type": "code",
   "execution_count": 15,
   "id": "78724664",
   "metadata": {},
   "outputs": [
    {
     "name": "stdout",
     "output_type": "stream",
     "text": [
      "10\n"
     ]
    }
   ],
   "source": [
    "from copy import copy\n",
    "\n",
    "class Classe:\n",
    "    def __init__(self):\n",
    "        self.num = 10\n",
    "        \n",
    "class1 = Classe()\n",
    "class2 = copy(class1)\n",
    "class1.num = 20\n",
    "print(class2.num)"
   ]
  },
  {
   "cell_type": "code",
   "execution_count": 18,
   "id": "78fbb7ff",
   "metadata": {},
   "outputs": [
    {
     "name": "stdout",
     "output_type": "stream",
     "text": [
      "True\n"
     ]
    }
   ],
   "source": [
    "class Classe:\n",
    "    def __init__(self):\n",
    "        self.num = 10\n",
    "        \n",
    "class1 = Classe()\n",
    "class2 = class1\n",
    "print(class2 is class1)\n"
   ]
  },
  {
   "cell_type": "code",
   "execution_count": 19,
   "id": "db493f0a",
   "metadata": {},
   "outputs": [
    {
     "name": "stdout",
     "output_type": "stream",
     "text": [
      "False\n"
     ]
    }
   ],
   "source": [
    "from copy import copy\n",
    "\n",
    "class Classe:\n",
    "    def __init__(self):\n",
    "        self.num = 10\n",
    "        \n",
    "class1 = Classe()\n",
    "class2 = copy(class1)\n",
    "print(class2 is class1)"
   ]
  },
  {
   "cell_type": "markdown",
   "id": "f61a70a0",
   "metadata": {},
   "source": [
    "# Deletando Objetos"
   ]
  },
  {
   "cell_type": "code",
   "execution_count": 1,
   "id": "9999cacc",
   "metadata": {},
   "outputs": [
    {
     "ename": "NameError",
     "evalue": "name 'numero' is not defined",
     "output_type": "error",
     "traceback": [
      "\u001b[1;31m------------------------------------------------\u001b[0m",
      "\u001b[1;31mNameError\u001b[0m      Traceback (most recent call last)",
      "Cell \u001b[1;32mIn[1], line 3\u001b[0m\n\u001b[0;32m      1\u001b[0m numero \u001b[38;5;241m=\u001b[39m \u001b[38;5;241m10\u001b[39m\n\u001b[0;32m      2\u001b[0m \u001b[38;5;28;01mdel\u001b[39;00m numero\n\u001b[1;32m----> 3\u001b[0m \u001b[38;5;28mprint\u001b[39m(\u001b[43mnumero\u001b[49m)\n",
      "\u001b[1;31mNameError\u001b[0m: name 'numero' is not defined"
     ]
    }
   ],
   "source": [
    "numero = 10\n",
    "del numero\n",
    "print(numero)"
   ]
  },
  {
   "cell_type": "code",
   "execution_count": 2,
   "id": "34bf97e5",
   "metadata": {},
   "outputs": [
    {
     "ename": "NameError",
     "evalue": "name 'arr' is not defined",
     "output_type": "error",
     "traceback": [
      "\u001b[1;31m------------------------------------------------\u001b[0m",
      "\u001b[1;31mNameError\u001b[0m      Traceback (most recent call last)",
      "Cell \u001b[1;32mIn[2], line 3\u001b[0m\n\u001b[0;32m      1\u001b[0m arr \u001b[38;5;241m=\u001b[39m [\u001b[38;5;241m1\u001b[39m,\u001b[38;5;241m2\u001b[39m,\u001b[38;5;241m3\u001b[39m]\n\u001b[0;32m      2\u001b[0m \u001b[38;5;28;01mdel\u001b[39;00m arr\n\u001b[1;32m----> 3\u001b[0m \u001b[38;5;28mprint\u001b[39m(\u001b[43marr\u001b[49m)\n",
      "\u001b[1;31mNameError\u001b[0m: name 'arr' is not defined"
     ]
    }
   ],
   "source": [
    "arr = [1,2,3]\n",
    "del arr\n",
    "print(arr)"
   ]
  },
  {
   "cell_type": "code",
   "execution_count": 3,
   "id": "24912f9d",
   "metadata": {},
   "outputs": [
    {
     "name": "stdout",
     "output_type": "stream",
     "text": [
      "[2, 3]\n"
     ]
    }
   ],
   "source": [
    "arr = [1,2,3]\n",
    "del arr[0]\n",
    "print(arr)"
   ]
  },
  {
   "cell_type": "code",
   "execution_count": 5,
   "id": "6784bd33",
   "metadata": {},
   "outputs": [
    {
     "ename": "NameError",
     "evalue": "name 'variavel' is not defined",
     "output_type": "error",
     "traceback": [
      "\u001b[1;31m------------------------------------------------\u001b[0m",
      "\u001b[1;31mNameError\u001b[0m      Traceback (most recent call last)",
      "Cell \u001b[1;32mIn[5], line 7\u001b[0m\n\u001b[0;32m      5\u001b[0m variavel \u001b[38;5;241m=\u001b[39m Teste()\n\u001b[0;32m      6\u001b[0m \u001b[38;5;28;01mdel\u001b[39;00m variavel\n\u001b[1;32m----> 7\u001b[0m \u001b[38;5;28mprint\u001b[39m(\u001b[43mvariavel\u001b[49m)\n",
      "\u001b[1;31mNameError\u001b[0m: name 'variavel' is not defined"
     ]
    }
   ],
   "source": [
    "class Teste:\n",
    "    def __init__(self):\n",
    "        pass\n",
    "    \n",
    "variavel = Teste()\n",
    "del variavel\n",
    "print(variavel)"
   ]
  },
  {
   "cell_type": "code",
   "execution_count": 8,
   "id": "ddc055d0",
   "metadata": {},
   "outputs": [
    {
     "name": "stdout",
     "output_type": "stream",
     "text": [
      "10\n"
     ]
    },
    {
     "ename": "AttributeError",
     "evalue": "'Teste' object has no attribute 'num'",
     "output_type": "error",
     "traceback": [
      "\u001b[1;31m------------------------------------------------\u001b[0m",
      "\u001b[1;31mAttributeError\u001b[0m Traceback (most recent call last)",
      "Cell \u001b[1;32mIn[8], line 10\u001b[0m\n\u001b[0;32m      6\u001b[0m \u001b[38;5;28mprint\u001b[39m(variavel\u001b[38;5;241m.\u001b[39mnum)\n\u001b[0;32m      8\u001b[0m \u001b[38;5;28;01mdel\u001b[39;00m variavel\u001b[38;5;241m.\u001b[39mnum\n\u001b[1;32m---> 10\u001b[0m \u001b[38;5;28mprint\u001b[39m(\u001b[43mvariavel\u001b[49m\u001b[38;5;241;43m.\u001b[39;49m\u001b[43mnum\u001b[49m)\n",
      "\u001b[1;31mAttributeError\u001b[0m: 'Teste' object has no attribute 'num'"
     ]
    }
   ],
   "source": [
    "class Teste:\n",
    "    def __init__(self, num):\n",
    "        self.num = num\n",
    "        \n",
    "variavel = Teste(10)\n",
    "print(variavel.num)\n",
    "\n",
    "del variavel.num\n",
    "\n",
    "print(variavel.num)"
   ]
  },
  {
   "cell_type": "code",
   "execution_count": 9,
   "id": "81672894",
   "metadata": {},
   "outputs": [
    {
     "name": "stdout",
     "output_type": "stream",
     "text": [
      "Fui deletado\n"
     ]
    }
   ],
   "source": [
    "class Teste:\n",
    "    def __init__(self):\n",
    "        self.lista = [1,2,3]\n",
    "        \n",
    "    def __del__(self):\n",
    "        print(\"Fui deletado\")\n",
    "        \n",
    "teste = Teste()\n",
    "del teste\n"
   ]
  },
  {
   "cell_type": "code",
   "execution_count": 10,
   "id": "4c8d431c",
   "metadata": {},
   "outputs": [
    {
     "name": "stdout",
     "output_type": "stream",
     "text": [
      "Deletando nome\n"
     ]
    }
   ],
   "source": [
    "class Pessoa:\n",
    "    def __init__(self, nome):\n",
    "        self.__nome = nome\n",
    "        \n",
    "    def get_nome(self):\n",
    "        print(\"Pegando nome\")\n",
    "        return self.__nome\n",
    "    \n",
    "    def set_nome(self, nome):\n",
    "        print(\"Setando nome\")\n",
    "        self.__nome = nome\n",
    "        \n",
    "    def del_nome(self):\n",
    "        print(\"Deletando nome\")\n",
    "        del self.__nome\n",
    "        \n",
    "    nome = property(get_nome, set_nome, del_nome)\n",
    "    \n",
    "instancia = Pessoa(\"Larissa\")\n",
    "\n",
    "del instancia.nome"
   ]
  },
  {
   "cell_type": "code",
   "execution_count": 11,
   "id": "d845464c",
   "metadata": {},
   "outputs": [
    {
     "name": "stdout",
     "output_type": "stream",
     "text": [
      "Deletando nome\n"
     ]
    }
   ],
   "source": [
    "class Pessoa:\n",
    "    def __init__(self, nome):\n",
    "        self.__nome = nome\n",
    "        \n",
    "    @property\n",
    "    def nome(self):\n",
    "        return self\n",
    "    \n",
    "    @nome.deleter\n",
    "    def nome(self):\n",
    "        print(\"Deletando nome\")\n",
    "        del self.__nome\n",
    "        \n",
    "instancia = Pessoa(\"Larissa\")\n",
    "del instancia.nome"
   ]
  },
  {
   "cell_type": "markdown",
   "id": "9e09a475",
   "metadata": {},
   "source": [
    "# Testando Tipos de Objetos"
   ]
  },
  {
   "cell_type": "code",
   "execution_count": 14,
   "id": "533dc756",
   "metadata": {},
   "outputs": [
    {
     "name": "stdout",
     "output_type": "stream",
     "text": [
      "True\n"
     ]
    }
   ],
   "source": [
    "e_inteiro = isinstance(5, int)\n",
    "print(e_inteiro)"
   ]
  },
  {
   "cell_type": "code",
   "execution_count": 16,
   "id": "850485e0",
   "metadata": {},
   "outputs": [
    {
     "name": "stdout",
     "output_type": "stream",
     "text": [
      "True\n"
     ]
    }
   ],
   "source": [
    "e_inteiro = isinstance(5, (int, float, str))\n",
    "print(e_inteiro)"
   ]
  },
  {
   "cell_type": "code",
   "execution_count": 18,
   "id": "6f4fa5f1",
   "metadata": {},
   "outputs": [
    {
     "name": "stdout",
     "output_type": "stream",
     "text": [
      "True\n"
     ]
    }
   ],
   "source": [
    "class Base:\n",
    "    def __init__(self):\n",
    "        pass\n",
    "    \n",
    "classe = Base()\n",
    "e_base = isinstance(classe, Base)\n",
    "print(e_base)"
   ]
  },
  {
   "cell_type": "code",
   "execution_count": 19,
   "id": "d465cd87",
   "metadata": {},
   "outputs": [
    {
     "name": "stdout",
     "output_type": "stream",
     "text": [
      "True\n",
      "True\n"
     ]
    }
   ],
   "source": [
    "class Base:\n",
    "    def __init__(self):\n",
    "        pass\n",
    "    \n",
    "class Herdeiro(Base):\n",
    "    def __init__(self):\n",
    "        pass\n",
    "    \n",
    "classe = Herdeiro()\n",
    "\n",
    "e_base = isinstance(classe, Base)\n",
    "e_herdeiro = isinstance(classe, Herdeiro)\n",
    "\n",
    "print(e_base)\n",
    "print(e_herdeiro)"
   ]
  },
  {
   "cell_type": "code",
   "execution_count": 20,
   "id": "25e705c8",
   "metadata": {},
   "outputs": [
    {
     "name": "stdout",
     "output_type": "stream",
     "text": [
      "True\n",
      "False\n"
     ]
    }
   ],
   "source": [
    "class Base:\n",
    "    def __init__(self):\n",
    "        pass\n",
    "    \n",
    "class Herdeiro(Base):\n",
    "    def __init__(self):\n",
    "        pass\n",
    "    \n",
    "classe = Base()\n",
    "\n",
    "e_base = isinstance(classe, Base)\n",
    "e_herdeiro = isinstance(classe, Herdeiro)\n",
    "\n",
    "print(e_base)\n",
    "print(e_herdeiro)"
   ]
  },
  {
   "cell_type": "code",
   "execution_count": 21,
   "id": "5ef23dd7",
   "metadata": {},
   "outputs": [
    {
     "name": "stdout",
     "output_type": "stream",
     "text": [
      "False\n",
      "True\n"
     ]
    }
   ],
   "source": [
    "class Base:\n",
    "    def __init__(self):\n",
    "        pass\n",
    "    \n",
    "class Herdeiro(Base):\n",
    "    def __init__(self):\n",
    "        pass\n",
    "    \n",
    "\n",
    "e_base = issubclass(Base, Herdeiro)\n",
    "e_herdeiro = issubclass(Herdeiro, Base)\n",
    "\n",
    "print(e_base)\n",
    "print(e_herdeiro)"
   ]
  },
  {
   "cell_type": "code",
   "execution_count": 25,
   "id": "289b3249",
   "metadata": {},
   "outputs": [
    {
     "name": "stdout",
     "output_type": "stream",
     "text": [
      "3.24\n",
      "None\n"
     ]
    }
   ],
   "source": [
    "def soma(num1, num2):\n",
    "    if isinstance(num1, (int, float)) and isinstance(num2, (int, float)):\n",
    "        return num1 + num2\n",
    "    else:\n",
    "        return None\n",
    "    \n",
    "print(soma(1,2.24))\n",
    "print(soma('teste',True))"
   ]
  },
  {
   "cell_type": "code",
   "execution_count": 27,
   "id": "72ddcd1a",
   "metadata": {},
   "outputs": [
    {
     "name": "stdout",
     "output_type": "stream",
     "text": [
      "Não tem ré\n",
      "Dando ré\n"
     ]
    }
   ],
   "source": [
    "class Veiculo:\n",
    "    def __init__(self):\n",
    "        pass\n",
    "    \n",
    "    def acelera(self):\n",
    "        pass\n",
    "    \n",
    "class Moto(Veiculo):\n",
    "    def __init__(self):\n",
    "        pass\n",
    "    \n",
    "class Carro(Veiculo):\n",
    "    def __init__(self):\n",
    "        pass\n",
    "    \n",
    "    def re(self):\n",
    "        print(\"Dando ré\")\n",
    "        \n",
    "\n",
    "def faz_re(var):\n",
    "    if isinstance(var, Carro):\n",
    "        var.re()\n",
    "    else:\n",
    "        print(\"Não tem ré\")\n",
    "    \n",
    "motinho = Moto()\n",
    "carrinho = Carro()\n",
    "\n",
    "faz_re(motinho)\n",
    "faz_re(carrinho)"
   ]
  },
  {
   "cell_type": "markdown",
   "id": "8e1d5d78",
   "metadata": {},
   "source": [
    "# Uso de With"
   ]
  },
  {
   "cell_type": "code",
   "execution_count": 3,
   "id": "ff58bcb9",
   "metadata": {},
   "outputs": [
    {
     "name": "stdout",
     "output_type": "stream",
     "text": [
      "Memória iniciada\n",
      "0\n",
      "1\n",
      "2\n",
      "3\n",
      "4\n",
      "5\n",
      "6\n",
      "7\n",
      "8\n",
      "9\n",
      "Memória liberada\n",
      "Aqui o objeto não existe mais\n"
     ]
    }
   ],
   "source": [
    "class Lista():\n",
    "    def __init__(self):\n",
    "        pass\n",
    "    \n",
    "    def __enter__(self):\n",
    "        print(\"Memória iniciada\")\n",
    "        self.lista = [i for i in range(0,10)]\n",
    "        return self.lista\n",
    "        \n",
    "    def __exit__(self, *args, **kwargs):\n",
    "        print(\"Memória liberada\")\n",
    "        del self.lista\n",
    "        \n",
    "minha_lista = Lista()\n",
    "        \n",
    "with minha_lista as temp_lista:\n",
    "    for i in temp_lista:\n",
    "        print(i)\n",
    "        \n",
    "print(\"Aqui o objeto não existe mais\")"
   ]
  },
  {
   "cell_type": "markdown",
   "id": "a4ef4066",
   "metadata": {},
   "source": [
    "# Sobrecarga de Operadores"
   ]
  },
  {
   "cell_type": "code",
   "execution_count": 6,
   "id": "dba6f991",
   "metadata": {},
   "outputs": [
    {
     "name": "stdout",
     "output_type": "stream",
     "text": [
      "30.5\n"
     ]
    }
   ],
   "source": [
    "class MeuNumero:\n",
    "    def __init__(self, numero):\n",
    "        self.numero = numero\n",
    "        \n",
    "    def __add__(self, outro):\n",
    "        return self.numero + outro.numero\n",
    "    \n",
    "num1 = MeuNumero(10)\n",
    "num2 = MeuNumero(20.5)\n",
    "\n",
    "print(num1 + num2)"
   ]
  },
  {
   "cell_type": "code",
   "execution_count": 7,
   "id": "f108ca2a",
   "metadata": {},
   "outputs": [
    {
     "name": "stdout",
     "output_type": "stream",
     "text": [
      "30.5\n"
     ]
    }
   ],
   "source": [
    "class MeuNumero:\n",
    "    def __init__(self, numero):\n",
    "        self.numero = numero\n",
    "        \n",
    "    def __add__(self, outro):\n",
    "        soma = self.numero + outro.numero\n",
    "        return MeuNumero(soma)\n",
    "    \n",
    "num1 = MeuNumero(10)\n",
    "num2 = MeuNumero(20.5)\n",
    "num3 = num1 + num2\n",
    "print(num3.numero)"
   ]
  },
  {
   "cell_type": "code",
   "execution_count": 9,
   "id": "96a5ea47",
   "metadata": {},
   "outputs": [
    {
     "name": "stdout",
     "output_type": "stream",
     "text": [
      "10.5\n"
     ]
    }
   ],
   "source": [
    "class MeuNumero:\n",
    "    def __init__(self, numero):\n",
    "        self.numero = numero\n",
    "        \n",
    "    def __sub__(self, outro):\n",
    "        return self.numero - outro.numero\n",
    "    \n",
    "num1 = MeuNumero(20.5)\n",
    "num2 = MeuNumero(10)\n",
    "\n",
    "print(num1 - num2)"
   ]
  }
 ],
 "metadata": {
  "kernelspec": {
   "display_name": "Python 3 (ipykernel)",
   "language": "python",
   "name": "python3"
  },
  "language_info": {
   "codemirror_mode": {
    "name": "ipython",
    "version": 3
   },
   "file_extension": ".py",
   "mimetype": "text/x-python",
   "name": "python",
   "nbconvert_exporter": "python",
   "pygments_lexer": "ipython3",
   "version": "3.10.9"
  }
 },
 "nbformat": 4,
 "nbformat_minor": 5
}
