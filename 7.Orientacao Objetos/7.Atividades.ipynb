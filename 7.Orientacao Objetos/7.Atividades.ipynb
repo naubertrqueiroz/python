{
 "cells": [
  {
   "cell_type": "markdown",
   "id": "b9682a04",
   "metadata": {},
   "source": [
    "### 1 - Crie uma classe para representar um carro. Ele deve ter um atributo que diga sua potência em cavalos. Outro atributo deve dizer quanto de gasolina por quilômetros ele consome. Cria duas instâncias e mostre os valores.\n",
    "#### Exemplo saída\n",
    "\n",
    "#### Potência do carro 1: 100 cavalos\n",
    "#### Alcance do carro 1: 200 km/l\n",
    "#### Potência do carro 2: 200 cavalos\n",
    "#### Alcance do carro 2: 350.5 km/l  \n"
   ]
  },
  {
   "cell_type": "code",
   "execution_count": 28,
   "id": "34b28f52",
   "metadata": {},
   "outputs": [
    {
     "name": "stdout",
     "output_type": "stream",
     "text": [
      "Potência do carro 1: 500 cavalos\n",
      "Alcance do carro 1: 300 km/l\n",
      "Potência do carro 2: 50 cavalos\n",
      "Alcance do carro 2: 60 km/l\n"
     ]
    }
   ],
   "source": [
    "class Carro():\n",
    "    def __init__(self, potencia, alcance):\n",
    "        self.potencia = potencia\n",
    "        self.alcance = alcance\n",
    "        \n",
    "ferrari = Carro(500,300)\n",
    "fusca = Carro(50,60)\n",
    "\n",
    "print(\"Potência do carro 1:\",ferrari.potencia,\"cavalos\")\n",
    "print(\"Alcance do carro 1: %s km/l\" %(ferrari.alcance) )\n",
    "\n",
    "print(\"Potência do carro 2:\",fusca.potencia,\"cavalos\")\n",
    "print(\"Alcance do carro 2: %s km/l\" %(fusca.alcance) )\n",
    "        "
   ]
  },
  {
   "cell_type": "markdown",
   "id": "186cf6ec",
   "metadata": {},
   "source": [
    "### 2 - Cria uma classe que represente uma pessoa. Ela deve possuir um nome, CPF e um dependente, onde o dependente é outra pessoa. Dependente não é obrigatório. Crie duas instâncias: pai e filho, e imprima as saídas.\n",
    "#### Exemplo saída:\n",
    "##### ```\n",
    "##### Nome: Rodrigo CPF: 200.300.400-45 Dependente: None\n",
    "##### Nome: Fernando CPF: 100.200.300-45 Dependente: Rodrigo\n",
    "##### ```"
   ]
  },
  {
   "cell_type": "code",
   "execution_count": 33,
   "id": "f3d39326",
   "metadata": {},
   "outputs": [
    {
     "name": "stdout",
     "output_type": "stream",
     "text": [
      "Nome: Bird Person Jr CPF: 22445617179 Dependente: None\n",
      "Nome: Bird Person CPF: 12345697979 Dependente: Bird Person Jr\n"
     ]
    }
   ],
   "source": [
    "class Pessoa():\n",
    "    def __init__(self, nome, cpf, dependente = None):\n",
    "        self.nome = nome\n",
    "        self.cpf = cpf\n",
    "        self.dependente = dependente            \n",
    "            \n",
    "Filho = Pessoa(\"Bird Person Jr\",'22445617179') \n",
    "Pai = Pessoa(\"Bird Person\",'12345697979',Filho) \n",
    "\n",
    "print(\"Nome: %s CPF: %s Dependente: %s\" % (Filho.nome,Filho.cpf,Filho.dependente) ) \n",
    "print(\"Nome: %s CPF: %s Dependente: %s\" % (Pai.nome,Pai.cpf,Pai.dependente.nome) ) "
   ]
  },
  {
   "cell_type": "markdown",
   "id": "efa908e2",
   "metadata": {},
   "source": [
    "### 3 - Crie uma classe base que represente um veículo. Os atributos devem ser peso do veiculo, número de rodas e potência. Em seguida crie três classes que herdam esse veículo: ônibus, carro e moto. Crie uma instância de cada tipo e imprima as instâncias\n",
    "#### ```\n",
    "#### Ônibus: Peso 1000 Potência 400 Rodas 6\n",
    "#### Carro: Peso 300 Potência 100 Rodas 4\n",
    "#### Moto: Peso 100 Potência 50 Rodas 2\n",
    "#### ```"
   ]
  },
  {
   "cell_type": "code",
   "execution_count": 35,
   "id": "ba474170",
   "metadata": {},
   "outputs": [
    {
     "name": "stdout",
     "output_type": "stream",
     "text": [
      "Ônibus: Peso: 1000 Potência: 400 Rodas: 6\n",
      "Carro: Peso: 300 Potência: 100 Rodas: 4\n",
      "Moto: Peso: 100 Potência: 50 Rodas: 2\n"
     ]
    }
   ],
   "source": [
    "class Veiculo():\n",
    "    def __init__(self,peso,potencia,rodas):\n",
    "        self.peso = peso\n",
    "        self.potencia = potencia\n",
    "        self.rodas = rodas\n",
    "       \n",
    "        \n",
    "class Onibus(Veiculo):\n",
    "     def __init__(self,peso,potencia,rodas):\n",
    "        Veiculo.__init__(self,peso,potencia,rodas)\n",
    "\n",
    "class Carro(Veiculo):\n",
    "     def __init__(self,peso,potencia,rodas):\n",
    "        Veiculo.__init__(self,peso,potencia,rodas)\n",
    "        \n",
    "        \n",
    "class Moto(Veiculo):\n",
    "    def __init__(self,peso,potencia,rodas):\n",
    "        Veiculo.__init__(self,peso,potencia,rodas)\n",
    "       \n",
    "        \n",
    "bus = Onibus(1000,400,6)\n",
    "car = Carro(300,100,4)\n",
    "mot = Moto(100,50,2)\n",
    "\n",
    "\n",
    "print (\"Ônibus: Peso: %s Potência: %s Rodas: %s\" %(bus.peso,bus.potencia,bus.rodas) )\n",
    "print (\"Carro: Peso: %s Potência: %s Rodas: %s\" %(car.peso,car.potencia,car.rodas) )\n",
    "print (\"Moto: Peso: %s Potência: %s Rodas: %s\" %(mot.peso,mot.potencia,mot.rodas) )"
   ]
  },
  {
   "cell_type": "markdown",
   "id": "554e9691",
   "metadata": {},
   "source": [
    "### 4 - Baseado no exercício anterior, cria uma função na classe base que diga a distância percorrida. Vamos supor que esse valor é dado pela peso do veículo dividido pela potência do veículo vezes mil. Crie uma moto, carro e um ônibus. Mostre esses valores.\n",
    "### Ex: (200 cavalos/ 400 cavalos) * 1000 = 500 quilômetros\n",
    "### Exemplo saída:\n",
    "#### ```\n",
    "#### Distância percorrida ônibus: 2500.0\n",
    "#### Distância percorrida carro: 3000.0\n",
    "#### Distância percorrida moto: 2000.0"
   ]
  },
  {
   "cell_type": "code",
   "execution_count": 39,
   "id": "70107844",
   "metadata": {},
   "outputs": [
    {
     "name": "stdout",
     "output_type": "stream",
     "text": [
      "Distancia Percorrida do Ônibus:  400.0\n",
      "Distancia Percorrida do Carro:  333.3333333333333\n",
      "Distancia Percorrida da Moto:  500.0\n"
     ]
    }
   ],
   "source": [
    "class Veiculo():\n",
    "    def __init__(self,peso,potencia,rodas):\n",
    "        self.peso = peso\n",
    "        self.potencia = potencia\n",
    "        self.rodas = rodas\n",
    "    def distancia_percorrida(self):\n",
    "        return (self.potencia / self.peso) * 1000\n",
    "        \n",
    "class Onibus(Veiculo):\n",
    "     def __init__(self,peso,potencia,rodas):\n",
    "        Veiculo.__init__(self,peso,potencia,rodas)\n",
    "\n",
    "class Carro(Veiculo):\n",
    "     def __init__(self,peso,potencia,rodas):\n",
    "        Veiculo.__init__(self,peso,potencia,rodas)\n",
    "        \n",
    "        \n",
    "class Moto(Veiculo):\n",
    "    def __init__(self,peso,potencia,rodas):\n",
    "        Veiculo.__init__(self,peso,potencia,rodas)\n",
    "        \n",
    "        \n",
    "bus = Onibus(1000,400,6)\n",
    "car = Carro(300,100,4)\n",
    "mot = Moto(100,50,2) \n",
    "\n",
    "print(\"Distancia Percorrida do Ônibus: \", bus.distancia_percorrida())\n",
    "print(\"Distancia Percorrida do Carro: \", car.distancia_percorrida())\n",
    "print(\"Distancia Percorrida da Moto: \", mot.distancia_percorrida())\n"
   ]
  },
  {
   "cell_type": "markdown",
   "id": "25615b6f",
   "metadata": {},
   "source": [
    "### 5 - Baseado no exercício anterior, crie os operador '>' e '<' para dizer qual veículo é mais potente. Compare um de cada tipo.\n",
    "### Observação, sobrescreva os métodos \"__lt__\" e \"__gt__\""
   ]
  },
  {
   "cell_type": "code",
   "execution_count": 4,
   "id": "f104c400",
   "metadata": {},
   "outputs": [
    {
     "name": "stdout",
     "output_type": "stream",
     "text": [
      "True\n",
      "False\n",
      "False\n"
     ]
    }
   ],
   "source": [
    "class Veiculo():\n",
    "    def __init__(self,peso,potencia,rodas):\n",
    "        self.peso = peso\n",
    "        self.potencia = potencia\n",
    "        self.rodas = rodas\n",
    "    def __lt__(self,outro):\n",
    "        return self.potencia < outro\n",
    "    def __gt__(self,outro):\n",
    "        return self.potencia > outro\n",
    "            \n",
    "\n",
    "class Onibus(Veiculo):\n",
    "    def __init__(self,peso,potencia,rodas):\n",
    "        Veiculo.__init__(self,peso,potencia,rodas)\n",
    "        \n",
    "        \n",
    "class Carro(Veiculo):\n",
    "    def __init__(self,peso,potencia,rodas):\n",
    "        Veiculo.__init__(self,peso,potencia,rodas)\n",
    "\n",
    "                 \n",
    "class Moto(Veiculo):\n",
    "    def __init__(self,peso,potencia,rodas):\n",
    "        Veiculo.__init__(self,peso,potencia,rodas)\n",
    "        \n",
    "\n",
    "bus = Onibus(1000,400,6)\n",
    "car = Carro(300,100,4)\n",
    "mot = Moto(100,50,2) \n",
    "\n",
    "print(bus > car)\n",
    "print(bus < mot)\n",
    "print(mot > car)\n"
   ]
  },
  {
   "cell_type": "markdown",
   "id": "6fb655c0",
   "metadata": {},
   "source": [
    "### 6 - Cria uma classe que represente um número negativo, use propriedades (@property) para controlar o valor guardado pela classe, sem deixar que ele fique positivo (0 pode). Além disso crie alguns operadores para comparação e de subtração. Cuide para que nenhum valor positivo surja."
   ]
  },
  {
   "cell_type": "code",
   "execution_count": 6,
   "id": "9f3ae7aa",
   "metadata": {},
   "outputs": [
    {
     "name": "stdout",
     "output_type": "stream",
     "text": [
      "-10 -20 0\n",
      "True\n",
      "0\n"
     ]
    }
   ],
   "source": [
    "class NumeroNegativo:\n",
    "    def __init__(self, numero):\n",
    "        self.__numero = 0\n",
    "        self.numero = numero\n",
    "    \n",
    "    @property\n",
    "    def numero(self):\n",
    "        return self.__numero\n",
    "    @numero.setter\n",
    "    def numero(self, value):\n",
    "        if value <= 0:\n",
    "            self.__numero = value\n",
    "    def __lt__(self, outro):\n",
    "        return self.__numero < outro.__numero\n",
    "    def __gt__(self, outro):\n",
    "        return self.__numero > outro.__numero\n",
    "    def __sub__(self, outro):\n",
    "        sub = self.__numero - outro.__numero\n",
    "        if sub > 0:\n",
    "            sub = 0\n",
    "        return sub\n",
    "\n",
    "\n",
    "num1 = NumeroNegativo(-10)\n",
    "num2 = NumeroNegativo(-20)\n",
    "num3 = NumeroNegativo(10)\n",
    "\n",
    "\n",
    "print(num1.numero, num2.numero,num3.numero)\n",
    "\n",
    "print(num1 > num2)\n",
    "print(num1 - num2)"
   ]
  },
  {
   "cell_type": "markdown",
   "id": "6168754e",
   "metadata": {},
   "source": [
    "### 7 - Cria uma função que diga se um objeto é um primitivo do Python, informando que é sempre passado valor Ex: [int, float, str, bool], ou se é um objeto passado por referência"
   ]
  },
  {
   "cell_type": "code",
   "execution_count": 8,
   "id": "fe75bc8a",
   "metadata": {},
   "outputs": [
    {
     "name": "stdout",
     "output_type": "stream",
     "text": [
      "Objeto por referência\n",
      "Objeto por valor\n"
     ]
    }
   ],
   "source": [
    "def testa_objeto(obj):\n",
    "    if isinstance(obj, (int, float, str, bool)):\n",
    "        print(\"Objeto por valor\")\n",
    "    else:\n",
    "        print(\"Objeto por referência\")\n",
    "    \n",
    "class Objeto:\n",
    "    def __init__(self):\n",
    "        pass\n",
    "    \n",
    "obj = Objeto()\n",
    "valor = 3\n",
    "\n",
    "testa_objeto(obj)\n",
    "testa_objeto(valor)\n"
   ]
  }
 ],
 "metadata": {
  "kernelspec": {
   "display_name": "Python 3 (ipykernel)",
   "language": "python",
   "name": "python3"
  },
  "language_info": {
   "codemirror_mode": {
    "name": "ipython",
    "version": 3
   },
   "file_extension": ".py",
   "mimetype": "text/x-python",
   "name": "python",
   "nbconvert_exporter": "python",
   "pygments_lexer": "ipython3",
   "version": "3.10.9"
  }
 },
 "nbformat": 4,
 "nbformat_minor": 5
}
