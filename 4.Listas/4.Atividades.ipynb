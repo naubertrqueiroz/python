{
 "cells": [
  {
   "cell_type": "markdown",
   "id": "b1dd7f68",
   "metadata": {},
   "source": [
    "# Atividades"
   ]
  },
  {
   "cell_type": "markdown",
   "id": "29d6df8d",
   "metadata": {},
   "source": [
    "### 1 - Crie uma lista com os seguintes números 1,10,6,7,8,10. Em seguida printe a soma destes números."
   ]
  },
  {
   "cell_type": "code",
   "execution_count": 52,
   "id": "1d295267",
   "metadata": {},
   "outputs": [
    {
     "name": "stdout",
     "output_type": "stream",
     "text": [
      "A soma é:  42\n"
     ]
    }
   ],
   "source": [
    "lista = (1,10,6,7,8,10)\n",
    "soma = 0\n",
    "for x in lista:\n",
    "    soma += x \n",
    "print(\"A soma é: \",soma)"
   ]
  },
  {
   "cell_type": "markdown",
   "id": "8797db3a",
   "metadata": {},
   "source": [
    "### 2 - Cria uma lista e preencha ela com valores de 1 a 100. Em seguida printe esses valores."
   ]
  },
  {
   "cell_type": "code",
   "execution_count": 53,
   "id": "52866e3c",
   "metadata": {},
   "outputs": [
    {
     "name": "stdout",
     "output_type": "stream",
     "text": [
      "[1, 2, 3, 4, 5, 6, 7, 8, 9, 10, 11, 12, 13, 14, 15, 16, 17, 18, 19, 20, 21, 22, 23, 24, 25, 26, 27, 28, 29, 30, 31, 32, 33, 34, 35, 36, 37, 38, 39, 40, 41, 42, 43, 44, 45, 46, 47, 48, 49, 50, 51, 52, 53, 54, 55, 56, 57, 58, 59, 60, 61, 62, 63, 64, 65, 66, 67, 68, 69, 70, 71, 72, 73, 74, 75, 76, 77, 78, 79, 80, 81, 82, 83, 84, 85, 86, 87, 88, 89, 90, 91, 92, 93, 94, 95, 96, 97, 98, 99, 100]\n"
     ]
    }
   ],
   "source": [
    "lista = []\n",
    "for i in range(1,101):\n",
    "    lista.append(i)\n",
    "print(lista)"
   ]
  },
  {
   "cell_type": "markdown",
   "id": "ec80a5a1",
   "metadata": {},
   "source": [
    "### 3 - Crie duas listas com os seguintes valores 30,4,43,52,65,-10 e 43,2,4,76,32,65,3. Agora faça a junção dessas listas, mas se houverem valores repetidos entre ambas eles não podem repetir na lista unida."
   ]
  },
  {
   "cell_type": "code",
   "execution_count": 21,
   "id": "2c2e031a",
   "metadata": {},
   "outputs": [
    {
     "name": "stdout",
     "output_type": "stream",
     "text": [
      "{32, 65, 2, 3, 4, 43, 76, 52, -10, 30}\n"
     ]
    }
   ],
   "source": [
    "lista_1 = { 30, 4, 43, 52, 65, -10}\n",
    "lista_2 = { 43, 2, 4, 76, 32, 65, 3}\n",
    "lista_union = lista_1.union(lista_2)\n",
    "print(lista_union)"
   ]
  },
  {
   "cell_type": "markdown",
   "id": "7226847b",
   "metadata": {},
   "source": [
    "### 4 - Crie uma lista contendo o nome de todos os meses do ano. Em seguida receba por input o mês (número) em que você nasceu e mostre qual o nome do mês que você nasceu. "
   ]
  },
  {
   "cell_type": "code",
   "execution_count": 59,
   "id": "95f28ade",
   "metadata": {},
   "outputs": [
    {
     "name": "stdout",
     "output_type": "stream",
     "text": [
      "Digite o número do mês que você nasceu: 8\n",
      "Você nasceu no mês de: Agosto\n"
     ]
    }
   ],
   "source": [
    "meses_ano = (\"Janeiro\", \"Fevereiro\",\"Março\",\"Abril\",\"Maio\",\"Junho\",\"Julho\",\"Agosto\",\"Setembro\",\n",
    "             \"Outubro\",\"Novembro\",\"Dezembro\")\n",
    "\n",
    "mes_numero = int(input(\"Digite o número do mês que você nasceu: \"))\n",
    "print(\"Você nasceu no mês de: \"+ meses_ano[mes_numero - 1])\n",
    "\n",
    "\n"
   ]
  },
  {
   "cell_type": "markdown",
   "id": "358596bd",
   "metadata": {},
   "source": [
    "### 5 - Crie uma lista contendo todos dias (número) do mês em que você nasceu. Em seguida receba por input o dia (número) em que você nasceu e remova desta lista. Ao final mostre o conteúdo da lista."
   ]
  },
  {
   "cell_type": "code",
   "execution_count": 62,
   "id": "212b2834",
   "metadata": {},
   "outputs": [
    {
     "name": "stdout",
     "output_type": "stream",
     "text": [
      "Digite o dia do seu aniversário: 5\n",
      "[1, 2, 3, 4, 6, 7, 8, 9, 10, 11, 12, 13, 14, 15, 16, 17, 18, 19, 20, 21, 22, 23, 24, 25, 26, 27, 28, 29, 30, 31]\n"
     ]
    }
   ],
   "source": [
    "dias_mes = []\n",
    "for d in range(1,32):\n",
    "    dias_mes.append(d)\n",
    "dia_aniversario = int(input(\"Digite o dia do seu aniversário: \"))\n",
    "dias_mes.remove(dia_aniversario)\n",
    "print(dias_mes)"
   ]
  },
  {
   "cell_type": "markdown",
   "id": "2ee9e0b5",
   "metadata": {},
   "source": [
    "# Atividades 2"
   ]
  },
  {
   "cell_type": "markdown",
   "id": "1d6fd662",
   "metadata": {},
   "source": [
    "### 6 - Escolha três objetos de sua escolha e em seguida cria uma lista para armazenar o objeto e sua função. Agora por input receba o nome desse objeto e imprima a sua função. Caso o objeto não exista, informa ao usuário."
   ]
  },
  {
   "cell_type": "code",
   "execution_count": 67,
   "id": "4cb7a790",
   "metadata": {},
   "outputs": [
    {
     "name": "stdout",
     "output_type": "stream",
     "text": [
      "Digite um objeto que você queria saber:) caixa\n",
      "Objeto não existe, por favor pesquise outro :(\n"
     ]
    }
   ],
   "source": [
    "objetos = {\n",
    "    \"Caderno\" : \"Anotar, escrever, desenhar usando tinta, lápis, caneta.\" ,\n",
    "    \"Caneta\"  : \"Pode escrever em papel, porém não pode ser apagado facilmente\",\n",
    "    \"Lápis\"   : \"Pode escrever em papel e pode apagar fácil com boracha\"\n",
    "}\n",
    "pesquisa = input(\"Digite um objeto que você queria saber:) \")\n",
    "if pesquisa not in objetos:\n",
    "    print(\"Objeto não existe, por favor pesquise outro :(\")\n",
    "else:\n",
    "    print(\"Objeto %s encontrado com a função de: %s\" %(pesquisa,objetos[pesquisa]) )"
   ]
  },
  {
   "cell_type": "markdown",
   "id": "983929ae",
   "metadata": {},
   "source": [
    "## Todas as atividades a seguir devem utilizar List Comprehension"
   ]
  },
  {
   "cell_type": "markdown",
   "id": "a13eebc3",
   "metadata": {},
   "source": [
    "### 7 - Crie uma lista contendo todos os números negativos de -30 até -20. Printe essa lista"
   ]
  },
  {
   "cell_type": "code",
   "execution_count": 71,
   "id": "773d8600",
   "metadata": {},
   "outputs": [
    {
     "name": "stdout",
     "output_type": "stream",
     "text": [
      "[-30, -29, -28, -27, -26, -25, -24, -23, -22, -21, -20]\n"
     ]
    }
   ],
   "source": [
    "lista = [x for x in range(-30,-19)]\n",
    "print(lista)\n"
   ]
  },
  {
   "cell_type": "markdown",
   "id": "dd872561",
   "metadata": {},
   "source": [
    "### 8 - Percorra os números de 4 a 100 e mantenha apenas aqueles divisíveis por 4. "
   ]
  },
  {
   "cell_type": "code",
   "execution_count": 15,
   "id": "39ac69e5",
   "metadata": {},
   "outputs": [
    {
     "name": "stdout",
     "output_type": "stream",
     "text": [
      "[4, 8, 12, 16, 20, 24, 28, 32, 36, 40, 44, 48, 52, 56, 60, 64, 68, 72, 76, 80, 84, 88, 92, 96, 100]\n"
     ]
    }
   ],
   "source": [
    "lista = [x for x in range(4,101) if x % 4 == 0]\n",
    "print(lista)"
   ]
  },
  {
   "cell_type": "markdown",
   "id": "30a05592",
   "metadata": {},
   "source": [
    "### 9 (DESAFIO) - Crie uma lista contendo todos os números de 0 a 100, mas filtre, mantendo apenas os números que terminam com 0."
   ]
  },
  {
   "cell_type": "code",
   "execution_count": 16,
   "id": "536002aa",
   "metadata": {},
   "outputs": [
    {
     "name": "stdout",
     "output_type": "stream",
     "text": [
      "[0, 10, 20, 30, 40, 50, 60, 70, 80, 90, 100]\n"
     ]
    }
   ],
   "source": [
    "lista = [x for x in range(0,101) if str(x)[-1] == '0']\n",
    "print(lista)"
   ]
  },
  {
   "cell_type": "markdown",
   "id": "3fd1c9c6",
   "metadata": {},
   "source": [
    "### 10 - Percorra os números de 0 a 20 e crie um array, onde caso o número terminar com zero o valor devera ser '0', caso contrario devera ser '-'"
   ]
  },
  {
   "cell_type": "code",
   "execution_count": 17,
   "id": "8808036d",
   "metadata": {},
   "outputs": [
    {
     "name": "stdout",
     "output_type": "stream",
     "text": [
      "['0', '-', '-', '-', '-', '-', '-', '-', '-', '-', '0', '-', '-', '-', '-', '-', '-', '-', '-', '-', '0']\n"
     ]
    }
   ],
   "source": [
    "lista = ['0' if str(x)[-1] == '0' else '-' for x in range(0,21)]\n",
    "print(lista)"
   ]
  }
 ],
 "metadata": {
  "kernelspec": {
   "display_name": "Python 3 (ipykernel)",
   "language": "python",
   "name": "python3"
  },
  "language_info": {
   "codemirror_mode": {
    "name": "ipython",
    "version": 3
   },
   "file_extension": ".py",
   "mimetype": "text/x-python",
   "name": "python",
   "nbconvert_exporter": "python",
   "pygments_lexer": "ipython3",
   "version": "3.10.9"
  }
 },
 "nbformat": 4,
 "nbformat_minor": 5
}
