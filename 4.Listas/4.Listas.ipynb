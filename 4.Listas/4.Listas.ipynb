{
 "cells": [
  {
   "cell_type": "markdown",
   "id": "fbfbb6fe",
   "metadata": {},
   "source": [
    "# List"
   ]
  },
  {
   "cell_type": "code",
   "execution_count": 2,
   "id": "30593afc",
   "metadata": {},
   "outputs": [
    {
     "name": "stdout",
     "output_type": "stream",
     "text": [
      "[]\n",
      "[1, 2, 3]\n",
      "[5.3, -2.3, 0.5]\n",
      "['A', 'B', 'C']\n",
      "[2, 2.3, 'ABC']\n"
     ]
    }
   ],
   "source": [
    "array = []\n",
    "array = list()\n",
    "\n",
    "array_numeros = [1,2,3]\n",
    "array_float = [5.3, -2.3, 0.5]\n",
    "array_str = [\"A\",\"B\",\"C\"]\n",
    "array_misto = [2,2.3,\"ABC\"]\n",
    "print(array)\n",
    "print(array_numeros)\n",
    "print(array_float)\n",
    "print(array_str)\n",
    "print(array_misto)"
   ]
  },
  {
   "cell_type": "code",
   "execution_count": 4,
   "id": "9c6f9d72",
   "metadata": {},
   "outputs": [
    {
     "name": "stdout",
     "output_type": "stream",
     "text": [
      "[1, 2, 3, 4, 5]\n"
     ]
    }
   ],
   "source": [
    "color = [1,2,\n",
    "         3,\n",
    "         4,5\n",
    "]\n",
    "print(color)"
   ]
  },
  {
   "cell_type": "code",
   "execution_count": 6,
   "id": "ebb30951",
   "metadata": {},
   "outputs": [
    {
     "name": "stdout",
     "output_type": "stream",
     "text": [
      "[1, 2, 3]\n",
      "1\n",
      "20\n",
      "3\n",
      "[20, 2, 3]\n"
     ]
    }
   ],
   "source": [
    "array = list([1,2,3])\n",
    "print(array)\n",
    "primeiro_elemento = array[0]\n",
    "print(primeiro_elemento)\n",
    "array[0] = 20\n",
    "primeiro_elemento = array[0]\n",
    "print(primeiro_elemento)\n",
    "print(array[-1])\n",
    "print(array)"
   ]
  },
  {
   "cell_type": "code",
   "execution_count": 7,
   "id": "a9b64116",
   "metadata": {},
   "outputs": [
    {
     "name": "stdout",
     "output_type": "stream",
     "text": [
      "['texto', 3]\n"
     ]
    }
   ],
   "source": [
    "array = [1,\"texto\",3]\n",
    "print(array[1:3])"
   ]
  },
  {
   "cell_type": "code",
   "execution_count": 1,
   "id": "0a343ca7",
   "metadata": {},
   "outputs": [
    {
     "name": "stdout",
     "output_type": "stream",
     "text": [
      "[10, 2, 3]\n",
      "[10, 2, 3, 2]\n",
      "[10, 2, '4', 3, 2]\n"
     ]
    }
   ],
   "source": [
    "array = [10,2,3]\n",
    "print(array)\n",
    "array.append(2)\n",
    "print(array)\n",
    "array.insert(2,\"4\")\n",
    "print(array)"
   ]
  },
  {
   "cell_type": "code",
   "execution_count": 3,
   "id": "931b74da",
   "metadata": {},
   "outputs": [
    {
     "name": "stdout",
     "output_type": "stream",
     "text": [
      "[2, 3, 20, '3']\n",
      "[2, 3, '3']\n"
     ]
    }
   ],
   "source": [
    "array = [10,2,3,20,\"3\"]\n",
    "array.remove(10)\n",
    "print(array)\n",
    "array.pop(2)\n",
    "print(array)"
   ]
  },
  {
   "cell_type": "code",
   "execution_count": 4,
   "id": "d82db129",
   "metadata": {},
   "outputs": [
    {
     "name": "stdout",
     "output_type": "stream",
     "text": [
      "3\n"
     ]
    }
   ],
   "source": [
    "print(len(array))"
   ]
  },
  {
   "cell_type": "code",
   "execution_count": 5,
   "id": "c2b41417",
   "metadata": {},
   "outputs": [
    {
     "name": "stdout",
     "output_type": "stream",
     "text": [
      "[]\n"
     ]
    }
   ],
   "source": [
    "array.clear()\n",
    "print(array)"
   ]
  },
  {
   "cell_type": "code",
   "execution_count": 6,
   "id": "ae23438f",
   "metadata": {},
   "outputs": [
    {
     "name": "stdout",
     "output_type": "stream",
     "text": [
      "True\n",
      "True\n"
     ]
    }
   ],
   "source": [
    "array = [1, 'Test',1.3, True]\n",
    "print(1 in array)\n",
    "print(False not in array)"
   ]
  },
  {
   "cell_type": "code",
   "execution_count": 7,
   "id": "766ee1f4",
   "metadata": {},
   "outputs": [
    {
     "name": "stdout",
     "output_type": "stream",
     "text": [
      "2\n"
     ]
    }
   ],
   "source": [
    "lista = [5,6,7,2,3,4,7]\n",
    "teste = lista.count(7)\n",
    "print(teste)"
   ]
  },
  {
   "cell_type": "code",
   "execution_count": 10,
   "id": "90b67e82",
   "metadata": {},
   "outputs": [
    {
     "name": "stdout",
     "output_type": "stream",
     "text": [
      "0\n"
     ]
    }
   ],
   "source": [
    "lista = [5,6,7,2,3,4,7]\n",
    "pos = lista.index(5)\n",
    "print(pos)"
   ]
  },
  {
   "cell_type": "code",
   "execution_count": 11,
   "id": "64e12ce8",
   "metadata": {},
   "outputs": [
    {
     "name": "stdout",
     "output_type": "stream",
     "text": [
      "[1, 2, 3, 3, 4, 5]\n"
     ]
    }
   ],
   "source": [
    "array1 = [1,2,3]\n",
    "array2 = [3,4,5]\n",
    "soma = array1 + array2\n",
    "print(soma)"
   ]
  },
  {
   "cell_type": "code",
   "execution_count": 12,
   "id": "75c12990",
   "metadata": {},
   "outputs": [
    {
     "name": "stdout",
     "output_type": "stream",
     "text": [
      "[1, 2, 3, 1, 2, 3, 1, 2, 3]\n"
     ]
    }
   ],
   "source": [
    "array1 = [1,2,3]\n",
    "multi = array1 * 3\n",
    "print(multi)"
   ]
  },
  {
   "cell_type": "code",
   "execution_count": 14,
   "id": "75fdb326",
   "metadata": {},
   "outputs": [
    {
     "name": "stdout",
     "output_type": "stream",
     "text": [
      "um\n",
      "dois\n",
      "três\n"
     ]
    }
   ],
   "source": [
    "numeros = [\"um\",\"dois\",\"três\"]\n",
    "x,y,z = numeros\n",
    "print(x)\n",
    "print(y)\n",
    "print(z)"
   ]
  },
  {
   "cell_type": "code",
   "execution_count": 15,
   "id": "dc4e6af6",
   "metadata": {},
   "outputs": [
    {
     "name": "stdout",
     "output_type": "stream",
     "text": [
      "um\n",
      "dois\n"
     ]
    }
   ],
   "source": [
    "numeros = [\"um\",\"dois\",\"três\"]\n",
    "x,y,_ = numeros\n",
    "print(x)\n",
    "print(y)\n"
   ]
  },
  {
   "cell_type": "code",
   "execution_count": 16,
   "id": "f0131d2f",
   "metadata": {},
   "outputs": [
    {
     "name": "stdout",
     "output_type": "stream",
     "text": [
      "azul\n",
      "preto\n",
      "amarelo\n"
     ]
    }
   ],
   "source": [
    "cores = [\"azul\",\"preto\",\"amarelo\"]\n",
    "for cor in cores:\n",
    "    print(cor)"
   ]
  },
  {
   "cell_type": "code",
   "execution_count": 17,
   "id": "1e675e0f",
   "metadata": {},
   "outputs": [
    {
     "name": "stdout",
     "output_type": "stream",
     "text": [
      "azul\n",
      "preto\n",
      "amarelo\n"
     ]
    }
   ],
   "source": [
    "cores = [\"azul\",\"preto\",\"amarelo\"]\n",
    "for i in range(0,len(cores)):\n",
    "    print(cores[i])"
   ]
  },
  {
   "cell_type": "code",
   "execution_count": 18,
   "id": "f26c4459",
   "metadata": {},
   "outputs": [
    {
     "name": "stdout",
     "output_type": "stream",
     "text": [
      "azul\n",
      "preto\n",
      "amarelo\n"
     ]
    }
   ],
   "source": [
    "cores = [\"azul\",\"preto\",\"amarelo\"]\n",
    "indice = 0\n",
    "while (indice < len(cores)):\n",
    "    print(cores[indice])\n",
    "    indice +=1"
   ]
  },
  {
   "cell_type": "code",
   "execution_count": 22,
   "id": "1d0ada46",
   "metadata": {},
   "outputs": [
    {
     "name": "stdout",
     "output_type": "stream",
     "text": [
      "[1, 2, 3]\n",
      "[4, 5, 6]\n",
      "1\n",
      "5\n"
     ]
    }
   ],
   "source": [
    "lista = [[1,2,3],[4,5,6]]\n",
    "primeira_lista = lista[0]\n",
    "segunda_lista = lista[1]\n",
    "print(primeira_lista)\n",
    "print(segunda_lista)\n",
    "primeiro_elemento_da_primeira_lista = lista[0][0]\n",
    "print(primeiro_elemento_da_primeira_lista)\n",
    "segundo_elemento_da_segunda_lista = lista[1][1]\n",
    "print(segundo_elemento_da_segunda_lista)"
   ]
  },
  {
   "cell_type": "markdown",
   "id": "df480a73",
   "metadata": {},
   "source": [
    "# Set"
   ]
  },
  {
   "cell_type": "code",
   "execution_count": 23,
   "id": "78121c40",
   "metadata": {},
   "outputs": [
    {
     "name": "stdout",
     "output_type": "stream",
     "text": [
      "{}\n",
      "{1, 2, 3}\n",
      "{1, 2, 3}\n"
     ]
    }
   ],
   "source": [
    "lista_set = {}\n",
    "lista2_set = {1,2,3}\n",
    "lista3_set = set({1,2,3})\n",
    "print(lista_set)\n",
    "print(lista2_set)\n",
    "print(lista3_set)"
   ]
  },
  {
   "cell_type": "code",
   "execution_count": 24,
   "id": "52f8aff0",
   "metadata": {},
   "outputs": [
    {
     "ename": "TypeError",
     "evalue": "'set' object is not subscriptable",
     "output_type": "error",
     "traceback": [
      "\u001b[1;31m---------------------------------------------------------------------------\u001b[0m",
      "\u001b[1;31mTypeError\u001b[0m                                 Traceback (most recent call last)",
      "Cell \u001b[1;32mIn[24], line 2\u001b[0m\n\u001b[0;32m      1\u001b[0m lista2_set \u001b[38;5;241m=\u001b[39m {\u001b[38;5;241m1\u001b[39m,\u001b[38;5;241m2\u001b[39m,\u001b[38;5;241m3\u001b[39m}\n\u001b[1;32m----> 2\u001b[0m \u001b[43mlista2_set\u001b[49m\u001b[43m[\u001b[49m\u001b[38;5;241;43m0\u001b[39;49m\u001b[43m]\u001b[49m\n",
      "\u001b[1;31mTypeError\u001b[0m: 'set' object is not subscriptable"
     ]
    }
   ],
   "source": [
    "lista2_set = {1,2,3}\n",
    "lista2_set[0]"
   ]
  },
  {
   "cell_type": "code",
   "execution_count": 25,
   "id": "0b56960c",
   "metadata": {},
   "outputs": [
    {
     "ename": "TypeError",
     "evalue": "'set' object does not support item assignment",
     "output_type": "error",
     "traceback": [
      "\u001b[1;31m---------------------------------------------------------------------------\u001b[0m",
      "\u001b[1;31mTypeError\u001b[0m                                 Traceback (most recent call last)",
      "Cell \u001b[1;32mIn[25], line 2\u001b[0m\n\u001b[0;32m      1\u001b[0m lista2_set \u001b[38;5;241m=\u001b[39m {\u001b[38;5;241m1\u001b[39m,\u001b[38;5;241m2\u001b[39m,\u001b[38;5;241m3\u001b[39m}\n\u001b[1;32m----> 2\u001b[0m \u001b[43mlista2_set\u001b[49m\u001b[43m[\u001b[49m\u001b[38;5;241;43m0\u001b[39;49m\u001b[43m]\u001b[49m \u001b[38;5;241m=\u001b[39m \u001b[38;5;241m2\u001b[39m\n",
      "\u001b[1;31mTypeError\u001b[0m: 'set' object does not support item assignment"
     ]
    }
   ],
   "source": [
    "lista2_set = {1,2,3}\n",
    "lista2_set[0] = 2"
   ]
  },
  {
   "cell_type": "code",
   "execution_count": 26,
   "id": "61956e9d",
   "metadata": {},
   "outputs": [
    {
     "name": "stdout",
     "output_type": "stream",
     "text": [
      "{1, 2, 3, 5}\n"
     ]
    }
   ],
   "source": [
    "lista_set = {1,2,3}\n",
    "lista_set.add(5)\n",
    "print(lista_set)"
   ]
  },
  {
   "cell_type": "code",
   "execution_count": 27,
   "id": "98537708",
   "metadata": {},
   "outputs": [
    {
     "name": "stdout",
     "output_type": "stream",
     "text": [
      "{1, 2, 3, 5}\n",
      "{2, 3, 5}\n"
     ]
    }
   ],
   "source": [
    "lista_set = {1,2,3}\n",
    "lista_set.add(5)\n",
    "print(lista_set)\n",
    "lista_set.remove(1)\n",
    "print(lista_set)"
   ]
  },
  {
   "cell_type": "code",
   "execution_count": 29,
   "id": "aaf47556",
   "metadata": {},
   "outputs": [
    {
     "name": "stdout",
     "output_type": "stream",
     "text": [
      "{1, 2, 3, 4}\n"
     ]
    }
   ],
   "source": [
    "lista_set = {1,2,3,4,2}\n",
    "lista_set.add(1)\n",
    "print(lista_set)"
   ]
  },
  {
   "cell_type": "code",
   "execution_count": 30,
   "id": "af581fe8",
   "metadata": {},
   "outputs": [
    {
     "name": "stdout",
     "output_type": "stream",
     "text": [
      "set()\n"
     ]
    }
   ],
   "source": [
    "lista_set = {1,2,3,4}\n",
    "lista_set.clear()\n",
    "print(lista_set)"
   ]
  },
  {
   "cell_type": "code",
   "execution_count": 31,
   "id": "caeaf3ef",
   "metadata": {},
   "outputs": [
    {
     "name": "stdout",
     "output_type": "stream",
     "text": [
      "4\n"
     ]
    }
   ],
   "source": [
    "lista_set = {1,2,3,4}\n",
    "print(len(lista_set))"
   ]
  },
  {
   "cell_type": "code",
   "execution_count": 32,
   "id": "aff1e4e2",
   "metadata": {},
   "outputs": [
    {
     "name": "stdout",
     "output_type": "stream",
     "text": [
      "True\n"
     ]
    }
   ],
   "source": [
    "lista_set = {1,2,3,4}\n",
    "print(1 in lista_set)"
   ]
  },
  {
   "cell_type": "code",
   "execution_count": 33,
   "id": "ae1b44e1",
   "metadata": {},
   "outputs": [
    {
     "name": "stdout",
     "output_type": "stream",
     "text": [
      "False\n"
     ]
    }
   ],
   "source": [
    "lista_set = {1,2,3,4}\n",
    "print(5 in lista_set)"
   ]
  },
  {
   "cell_type": "code",
   "execution_count": 34,
   "id": "c237626f",
   "metadata": {},
   "outputs": [
    {
     "name": "stdout",
     "output_type": "stream",
     "text": [
      "1\n",
      "2\n",
      "3\n",
      "6.1\n",
      "4\n"
     ]
    }
   ],
   "source": [
    "lista_set = {1,2,3,'4',True,6.1}\n",
    "for item in lista_set:\n",
    "    print(item)"
   ]
  },
  {
   "cell_type": "code",
   "execution_count": 35,
   "id": "d7a29fc4",
   "metadata": {},
   "outputs": [
    {
     "name": "stdout",
     "output_type": "stream",
     "text": [
      "{1, 2, 3, 4}\n"
     ]
    }
   ],
   "source": [
    "set1 = {1,2,3}\n",
    "set2 = {1,2,3,4}\n",
    "set_unido = set1.union(set2)\n",
    "print(set_unido)"
   ]
  },
  {
   "cell_type": "code",
   "execution_count": 36,
   "id": "f4470587",
   "metadata": {},
   "outputs": [
    {
     "name": "stdout",
     "output_type": "stream",
     "text": [
      "{1, 2, 3, 4, 5, 6, 7}\n"
     ]
    }
   ],
   "source": [
    "set1 = {1,2,3}\n",
    "set2 = {4,5,6,7}\n",
    "set_unido = set1.union(set2)\n",
    "print(set_unido)"
   ]
  },
  {
   "cell_type": "code",
   "execution_count": 37,
   "id": "6f9e9557",
   "metadata": {},
   "outputs": [
    {
     "name": "stdout",
     "output_type": "stream",
     "text": [
      "{1, 2, 3, 4, 5, 6}\n"
     ]
    }
   ],
   "source": [
    "set1 = {1,2,3}\n",
    "set2 = {3,4,5,6}\n",
    "set_unido = set1.union(set2)\n",
    "print(set_unido)"
   ]
  },
  {
   "cell_type": "code",
   "execution_count": 38,
   "id": "f21c747a",
   "metadata": {},
   "outputs": [
    {
     "name": "stdout",
     "output_type": "stream",
     "text": [
      "{1, 2, 3}\n"
     ]
    }
   ],
   "source": [
    "set1 = {1,2,3}\n",
    "set2 = {1,2,3,4}\n",
    "set_intersect = set1.intersection(set2)\n",
    "print(set_intersect)"
   ]
  },
  {
   "cell_type": "code",
   "execution_count": 40,
   "id": "c74ac9cf",
   "metadata": {},
   "outputs": [
    {
     "name": "stdout",
     "output_type": "stream",
     "text": [
      "{4}\n"
     ]
    }
   ],
   "source": [
    "set1 = {1,2,3}\n",
    "set2 = {1,2,3,4}\n",
    "set_dif = set2.difference(set1)\n",
    "print(set_dif)"
   ]
  },
  {
   "cell_type": "markdown",
   "id": "e5ded859",
   "metadata": {},
   "source": [
    "# Tuple"
   ]
  },
  {
   "cell_type": "code",
   "execution_count": 41,
   "id": "0c275f85",
   "metadata": {},
   "outputs": [
    {
     "name": "stdout",
     "output_type": "stream",
     "text": [
      "('chocolate', 'bom bom', 'paçoca')\n"
     ]
    }
   ],
   "source": [
    "doces = tuple((\"chocolate\",\"bom bom\",\"paçoca\"))\n",
    "doces = ('chocolate','bom bom','paçoca')\n",
    "print(doces)"
   ]
  },
  {
   "cell_type": "code",
   "execution_count": 42,
   "id": "ded34e40",
   "metadata": {},
   "outputs": [
    {
     "name": "stdout",
     "output_type": "stream",
     "text": [
      "3\n"
     ]
    }
   ],
   "source": [
    "nums = ('1','2','3')\n",
    "print(len(nums))"
   ]
  },
  {
   "cell_type": "code",
   "execution_count": 43,
   "id": "d59342f6",
   "metadata": {},
   "outputs": [
    {
     "name": "stdout",
     "output_type": "stream",
     "text": [
      "3\n"
     ]
    }
   ],
   "source": [
    "nums = ('1','2','3')\n",
    "print(nums[2])"
   ]
  },
  {
   "cell_type": "code",
   "execution_count": 44,
   "id": "e53b8a51",
   "metadata": {},
   "outputs": [
    {
     "name": "stdout",
     "output_type": "stream",
     "text": [
      "(3, 4)\n"
     ]
    }
   ],
   "source": [
    "nums = (1,2,3,4,5,6,7,8)\n",
    "sub_tupla = nums[2:4]\n",
    "print(sub_tupla)"
   ]
  },
  {
   "cell_type": "code",
   "execution_count": 45,
   "id": "cbb735bf",
   "metadata": {},
   "outputs": [
    {
     "name": "stdout",
     "output_type": "stream",
     "text": [
      "True\n"
     ]
    }
   ],
   "source": [
    "nums = (1,2,3,4,5,6,7,8)\n",
    "print(4 in nums)"
   ]
  },
  {
   "cell_type": "code",
   "execution_count": 46,
   "id": "f2e112a7",
   "metadata": {},
   "outputs": [
    {
     "name": "stdout",
     "output_type": "stream",
     "text": [
      "False\n"
     ]
    }
   ],
   "source": [
    "nums = (1,2,3,4,5,6,7,8)\n",
    "print(9 in nums)"
   ]
  },
  {
   "cell_type": "code",
   "execution_count": 47,
   "id": "e386a404",
   "metadata": {},
   "outputs": [
    {
     "ename": "TypeError",
     "evalue": "'tuple' object does not support item assignment",
     "output_type": "error",
     "traceback": [
      "\u001b[1;31m---------------------------------------------------------------------------\u001b[0m",
      "\u001b[1;31mTypeError\u001b[0m                                 Traceback (most recent call last)",
      "Cell \u001b[1;32mIn[47], line 2\u001b[0m\n\u001b[0;32m      1\u001b[0m tupla \u001b[38;5;241m=\u001b[39m \u001b[38;5;28mtuple\u001b[39m((\u001b[38;5;241m10\u001b[39m,\u001b[38;5;241m20\u001b[39m,\u001b[38;5;241m40\u001b[39m))\n\u001b[1;32m----> 2\u001b[0m \u001b[43mtupla\u001b[49m\u001b[43m[\u001b[49m\u001b[38;5;241;43m0\u001b[39;49m\u001b[43m]\u001b[49m \u001b[38;5;241m=\u001b[39m \u001b[38;5;241m20\u001b[39m\n",
      "\u001b[1;31mTypeError\u001b[0m: 'tuple' object does not support item assignment"
     ]
    }
   ],
   "source": [
    "tupla = tuple((10,20,40))\n",
    "tupla[0] = 20"
   ]
  },
  {
   "cell_type": "code",
   "execution_count": 49,
   "id": "6af113a1",
   "metadata": {},
   "outputs": [
    {
     "name": "stdout",
     "output_type": "stream",
     "text": [
      "3\n"
     ]
    }
   ],
   "source": [
    "tupla = (6,7,8,9,10,6,6)\n",
    "print(tupla.count(6))"
   ]
  },
  {
   "cell_type": "code",
   "execution_count": 50,
   "id": "a4cc2cc5",
   "metadata": {},
   "outputs": [
    {
     "name": "stdout",
     "output_type": "stream",
     "text": [
      "1\n"
     ]
    }
   ],
   "source": [
    "tupla = (5,'3',True,7234)\n",
    "pos = tupla.index('3')\n",
    "print(pos)"
   ]
  },
  {
   "cell_type": "code",
   "execution_count": 51,
   "id": "331dc234",
   "metadata": {},
   "outputs": [
    {
     "name": "stdout",
     "output_type": "stream",
     "text": [
      "5\n",
      "3\n",
      "True\n",
      "7234\n"
     ]
    }
   ],
   "source": [
    "tupla = (5,'3',True,7234)\n",
    "for x in tupla:\n",
    "    print(x)"
   ]
  },
  {
   "cell_type": "code",
   "execution_count": 53,
   "id": "bcacf442",
   "metadata": {},
   "outputs": [
    {
     "name": "stdout",
     "output_type": "stream",
     "text": [
      "5\n",
      "3\n",
      "True\n",
      "7234\n"
     ]
    }
   ],
   "source": [
    "tupla = (5,'3',True,7234)\n",
    "for i in range(0, len(tupla)):\n",
    "    print(tupla[i])"
   ]
  },
  {
   "cell_type": "code",
   "execution_count": 54,
   "id": "008ce445",
   "metadata": {},
   "outputs": [
    {
     "name": "stdout",
     "output_type": "stream",
     "text": [
      "5\n",
      "3\n",
      "True\n",
      "7234\n"
     ]
    }
   ],
   "source": [
    "tupla = (5,'3',True,7234)\n",
    "indice = 0\n",
    "while (indice < len(tupla)):\n",
    "    print(tupla[indice])\n",
    "    indice += 1"
   ]
  },
  {
   "cell_type": "code",
   "execution_count": 55,
   "id": "7a5bb0ae",
   "metadata": {},
   "outputs": [
    {
     "name": "stdout",
     "output_type": "stream",
     "text": [
      "(12, 2, 3, 'Fim')\n"
     ]
    }
   ],
   "source": [
    "numeros_set = (1,2,3)\n",
    "numeros_lista = list(numeros_set)\n",
    "numeros_lista[0] = 12\n",
    "numeros_lista.append(\"Fim\")\n",
    "numeros_set = tuple(numeros_lista)\n",
    "print(numeros_set)"
   ]
  },
  {
   "cell_type": "markdown",
   "id": "3218ce2b",
   "metadata": {},
   "source": [
    "# Dictionaries"
   ]
  },
  {
   "cell_type": "code",
   "execution_count": 57,
   "id": "76ab0a15",
   "metadata": {},
   "outputs": [
    {
     "name": "stdout",
     "output_type": "stream",
     "text": [
      "{'ana': 10, 'maria': 20, 'joao': 34, 'fernando': 'indefinido'}\n"
     ]
    }
   ],
   "source": [
    "idades = {'ana':10 ,'maria':20, 'joao':34, 'fernando':'indefinido' }\n",
    "print(idades)"
   ]
  },
  {
   "cell_type": "code",
   "execution_count": 58,
   "id": "500a78f2",
   "metadata": {},
   "outputs": [
    {
     "name": "stdout",
     "output_type": "stream",
     "text": [
      "{7.1: 'sete virgula um', 9.8: 'nove virgula oito', 10.43: 'dez virgula quarenta e três'}\n"
     ]
    }
   ],
   "source": [
    "nome_numeros = {7.1: \"sete virgula um\", 9.8: \"nove virgula oito\", 10.43: \"dez virgula quarenta e três\" }\n",
    "print(nome_numeros)"
   ]
  },
  {
   "cell_type": "code",
   "execution_count": 61,
   "id": "9075ac7e",
   "metadata": {
    "scrolled": true
   },
   "outputs": [
    {
     "name": "stdout",
     "output_type": "stream",
     "text": [
      "20\n",
      "indefinido\n"
     ]
    },
    {
     "data": {
      "text/plain": [
       "'indefinido'"
      ]
     },
     "execution_count": 61,
     "metadata": {},
     "output_type": "execute_result"
    }
   ],
   "source": [
    "idades = {'ana':10 ,'maria':20, 'joao':34, 'fernando':'indefinido' }\n",
    "print(idades['maria'])\n",
    "print(idades['fernando'])\n",
    "\n",
    "idades.get('fernando')"
   ]
  },
  {
   "cell_type": "code",
   "execution_count": 62,
   "id": "a090fa30",
   "metadata": {},
   "outputs": [
    {
     "name": "stdout",
     "output_type": "stream",
     "text": [
      "sete virgula um\n",
      "dez virgula quarenta e três\n"
     ]
    }
   ],
   "source": [
    "nome_numeros = {\n",
    "    7.1: \"sete virgula um\", \n",
    "    9.8: \"nove virgula oito\", \n",
    "    10.43: \"dez virgula quarenta e três\" \n",
    "}\n",
    "\n",
    "print(nome_numeros[7.1])\n",
    "print(nome_numeros.get(10.43))"
   ]
  },
  {
   "cell_type": "code",
   "execution_count": 63,
   "id": "99a33ec6",
   "metadata": {},
   "outputs": [
    {
     "name": "stdout",
     "output_type": "stream",
     "text": [
      "True\n",
      "True\n"
     ]
    }
   ],
   "source": [
    "idades = {'ana':10 ,'maria':20, 'joao':34, 'fernando':'indefinido' }\n",
    "print(\"ana\" in idades)\n",
    "print(\"roberto\" not in idades)"
   ]
  },
  {
   "cell_type": "code",
   "execution_count": 64,
   "id": "255775fd",
   "metadata": {},
   "outputs": [
    {
     "name": "stdout",
     "output_type": "stream",
     "text": [
      "{'ana': 10, 'maria': 30, 'joao': 40, 'fernando': 'indefinido'}\n"
     ]
    }
   ],
   "source": [
    "idades = {'ana':10 ,'maria':20, 'joao':34, 'fernando':'indefinido' }\n",
    "idades['maria'] = 30\n",
    "idades.update({'joao':40})\n",
    "print(idades)"
   ]
  },
  {
   "cell_type": "code",
   "execution_count": 66,
   "id": "15bcbb64",
   "metadata": {},
   "outputs": [
    {
     "name": "stdout",
     "output_type": "stream",
     "text": [
      "{'maria': 20, 'joao': 34, 'fernando': 'indefinido', 'marcos': 90}\n",
      "{'maria': 20, 'joao': 34, 'fernando': 'indefinido'}\n"
     ]
    }
   ],
   "source": [
    "idades = {'ana':10 ,'maria':20, 'joao':34, 'fernando':'indefinido' }\n",
    "idades['marcos'] = 90\n",
    "idades.pop('ana')\n",
    "print(idades)\n",
    "idades.popitem()\n",
    "print(idades)"
   ]
  },
  {
   "cell_type": "code",
   "execution_count": 71,
   "id": "c9773e4f",
   "metadata": {},
   "outputs": [
    {
     "name": "stdout",
     "output_type": "stream",
     "text": [
      "dict_items([('ana', 10), ('maria', 20), ('joao', 34), ('fernando', 'indefinido')])\n",
      "\n",
      "ana 10\n",
      "maria 20\n",
      "joao 34\n",
      "fernando indefinido\n"
     ]
    }
   ],
   "source": [
    "idades = {'ana':10 ,'maria':20, 'joao':34, 'fernando':'indefinido' }\n",
    "lista = idades.items()\n",
    "print(lista, end='\\n\\n')\n",
    "for item in lista:\n",
    "    print(item[0], item[1])"
   ]
  },
  {
   "cell_type": "code",
   "execution_count": 73,
   "id": "4f66644e",
   "metadata": {},
   "outputs": [
    {
     "name": "stdout",
     "output_type": "stream",
     "text": [
      "ana\n",
      "maria\n",
      "joao\n",
      "fernando\n",
      "----------\n",
      "10\n",
      "20\n",
      "34\n",
      "indefinido\n"
     ]
    }
   ],
   "source": [
    "idades = {'ana':10 ,'maria':20, 'joao':34, 'fernando':'indefinido' }\n",
    "chaves = idades.keys()\n",
    "valores = idades.values()\n",
    "for item in chaves:\n",
    "    print(item)\n",
    "print(\"----------\")\n",
    "for item in valores:\n",
    "    print(item)"
   ]
  },
  {
   "cell_type": "code",
   "execution_count": 75,
   "id": "131bb29d",
   "metadata": {},
   "outputs": [
    {
     "name": "stdout",
     "output_type": "stream",
     "text": [
      "2\n"
     ]
    }
   ],
   "source": [
    "idades = {'ana':10 ,'maria':20, 'joao':34, 'fernando':20 }\n",
    "lista_nomes = list(idades.values())\n",
    "pessoas_com_20_anos = lista_nomes.count(20)\n",
    "print(pessoas_com_20_anos)"
   ]
  },
  {
   "cell_type": "code",
   "execution_count": 76,
   "id": "169f9b36",
   "metadata": {},
   "outputs": [
    {
     "name": "stdout",
     "output_type": "stream",
     "text": [
      "{}\n"
     ]
    }
   ],
   "source": [
    "idades = {'ana':10 ,'maria':20, 'joao':34, 'fernando':20 }\n",
    "idades.clear()\n",
    "print(idades)"
   ]
  },
  {
   "cell_type": "code",
   "execution_count": 79,
   "id": "2a9f4451",
   "metadata": {},
   "outputs": [
    {
     "name": "stdout",
     "output_type": "stream",
     "text": [
      "12345678910\n",
      "masculino\n"
     ]
    }
   ],
   "source": [
    "dados_maria = {\n",
    "    'sexo' : 'feminino',\n",
    "    'cpf'  : '12345678910',\n",
    "    'rg'   : '19478748'\n",
    "}\n",
    "dados_joao = {\n",
    "    'sexo' : 'masculino',\n",
    "    'cpf'  : '12345678948',\n",
    "    'rg'   : '19478745'\n",
    "}\n",
    "dados_ana = {\n",
    "    'sexo' : 'feminino',\n",
    "    'cpf'  : '14545678948',\n",
    "    'rg'   : '78778745'\n",
    "}\n",
    "\n",
    "dados_por_nome = {\n",
    "    'ana'   : dados_ana,\n",
    "    'maria' : dados_maria,\n",
    "    'joao'  : dados_joao  \n",
    "}\n",
    "\n",
    "print(dados_por_nome['maria']['cpf'])\n",
    "print(dados_por_nome['joao']['sexo'])"
   ]
  },
  {
   "cell_type": "code",
   "execution_count": 82,
   "id": "5a2c016d",
   "metadata": {},
   "outputs": [
    {
     "name": "stdout",
     "output_type": "stream",
     "text": [
      "78778745\n"
     ]
    }
   ],
   "source": [
    "dados_por_nome = {\n",
    "    'ana'  : {\n",
    "        'sexo' : 'feminino',\n",
    "        'cpf'  : '14545678948',\n",
    "        'rg'   : '78778745'\n",
    "    }, \n",
    "    \n",
    "    'maria': {\n",
    "        'sexo' : 'feminino',\n",
    "        'cpf'  : '12345678910',\n",
    "        'rg'   : '19478748'\n",
    "    },       \n",
    "        \n",
    "    'joao' : {\n",
    "        'sexo' : 'masculino',\n",
    "        'cpf'  : '12345678948',\n",
    "        'rg'   : '19478745'  \n",
    "    }\n",
    "    \n",
    "}\n",
    "\n",
    "print(dados_por_nome['ana']['rg'])"
   ]
  },
  {
   "cell_type": "markdown",
   "id": "d429a50e",
   "metadata": {},
   "source": [
    "# List Comprehensions"
   ]
  },
  {
   "cell_type": "code",
   "execution_count": 84,
   "id": "fe27a4c4",
   "metadata": {},
   "outputs": [
    {
     "name": "stdout",
     "output_type": "stream",
     "text": [
      "[0, 1, 2, 3, 4, 5, 6, 7, 8, 9]\n"
     ]
    }
   ],
   "source": [
    "lista = [x for x in range(0,10)]\n",
    "print(lista)"
   ]
  },
  {
   "cell_type": "code",
   "execution_count": 86,
   "id": "ab3da2c6",
   "metadata": {},
   "outputs": [
    {
     "name": "stdout",
     "output_type": "stream",
     "text": [
      "['1', 'zero', 'quatro']\n"
     ]
    }
   ],
   "source": [
    "lista = ['1','zero','quatro']\n",
    "lista = [x for x in lista]\n",
    "print(lista)"
   ]
  },
  {
   "cell_type": "code",
   "execution_count": 88,
   "id": "d1281d0a",
   "metadata": {},
   "outputs": [
    {
     "name": "stdout",
     "output_type": "stream",
     "text": [
      "[2, 4, 6, 8, 10]\n"
     ]
    }
   ],
   "source": [
    "lista = [x for x in range(1,11) if x % 2 ==0 ]\n",
    "print(lista)"
   ]
  },
  {
   "cell_type": "code",
   "execution_count": 89,
   "id": "c2d2f43e",
   "metadata": {},
   "outputs": [
    {
     "name": "stdout",
     "output_type": "stream",
     "text": [
      "[0, 2, 3, 4, 6, 7, 8, 10]\n"
     ]
    }
   ],
   "source": [
    "lista_auxiliar = [1,5,9]\n",
    "lista = [x for x in range(0,11) if x not in lista_auxiliar]\n",
    "print(lista)"
   ]
  },
  {
   "cell_type": "code",
   "execution_count": 93,
   "id": "bdd87d6f",
   "metadata": {},
   "outputs": [
    {
     "name": "stdout",
     "output_type": "stream",
     "text": [
      "[0, 1, 2, 3, 4, 5, 6, 7, 8, 9, 10]\n"
     ]
    }
   ],
   "source": [
    "lista = [x for x in range(-10,20) if x <= 10 if x >=0]\n",
    "print(lista)"
   ]
  },
  {
   "cell_type": "code",
   "execution_count": 94,
   "id": "b3ea56be",
   "metadata": {},
   "outputs": [
    {
     "name": "stdout",
     "output_type": "stream",
     "text": [
      "[0, 2, 4, 6, 8, 10, 12, 14, 16, 18, 20]\n"
     ]
    }
   ],
   "source": [
    "lista = [x*2 for x in range(0,11)]\n",
    "print(lista)"
   ]
  },
  {
   "cell_type": "code",
   "execution_count": 96,
   "id": "3cea181b",
   "metadata": {},
   "outputs": [
    {
     "name": "stdout",
     "output_type": "stream",
     "text": [
      "['0', '1', '2', '3', '4', '5', '6', '7', '8', '9', '1', '1', '1', '1', '1', '1', '1', '1', '1', '1', '2']\n"
     ]
    }
   ],
   "source": [
    "lista = [str(x)[0] for x in range(0,21)]\n",
    "print(lista)"
   ]
  },
  {
   "cell_type": "code",
   "execution_count": 97,
   "id": "2d0d082e",
   "metadata": {},
   "outputs": [
    {
     "name": "stdout",
     "output_type": "stream",
     "text": [
      "['negativo', 'negativo', 'negativo', 'positivo', 'positivo', 'positivo', 'positivo']\n"
     ]
    }
   ],
   "source": [
    "lista = ['negativo' if x < 0 else 'positivo' for x in range(-3,4)]\n",
    "print(lista)"
   ]
  },
  {
   "cell_type": "code",
   "execution_count": 102,
   "id": "187ca170",
   "metadata": {},
   "outputs": [
    {
     "name": "stdout",
     "output_type": "stream",
     "text": [
      "['2 par', '3 impar', '4 par', '5 impar', '6 par', '7 impar', '8 par', '9 impar', '10 par']\n"
     ]
    }
   ],
   "source": [
    "lista = [str(x) + ' par' if x % 2 ==0 else str(x) +' impar' for x in range(2,11)]\n",
    "print(lista)"
   ]
  },
  {
   "cell_type": "code",
   "execution_count": 103,
   "id": "6bbe90e0",
   "metadata": {},
   "outputs": [
    {
     "name": "stdout",
     "output_type": "stream",
     "text": [
      "[2, 4, 6, 8]\n"
     ]
    }
   ],
   "source": [
    "lista = [1,2,3,4,5,6,7,8,9]\n",
    "lista = list(filter(lambda x: x % 2 == 0, lista ))\n",
    "print(lista)"
   ]
  },
  {
   "cell_type": "code",
   "execution_count": 106,
   "id": "eff2750b",
   "metadata": {},
   "outputs": [
    {
     "name": "stdout",
     "output_type": "stream",
     "text": [
      "[[1, 2, 3, 4], [1, 2, 3, 4], [1, 2, 3, 4], [1, 2, 3, 4]]\n"
     ]
    }
   ],
   "source": [
    "lista = [[x for x in range(1,5)] for y in range(1,5) ]\n",
    "print(lista)"
   ]
  },
  {
   "cell_type": "code",
   "execution_count": 109,
   "id": "680db9b7",
   "metadata": {},
   "outputs": [
    {
     "data": {
      "text/plain": [
       "[['11', '21', '31', '41'],\n",
       " ['12', '22', '32', '42'],\n",
       " ['13', '23', '33', '43'],\n",
       " ['14', '24', '34', '44']]"
      ]
     },
     "execution_count": 109,
     "metadata": {},
     "output_type": "execute_result"
    }
   ],
   "source": [
    "lista = [[ str(x) + str(y) for x in range(1,5)] for y in range(1,5)]\n",
    "lista"
   ]
  },
  {
   "cell_type": "code",
   "execution_count": 114,
   "id": "5c781205",
   "metadata": {},
   "outputs": [
    {
     "data": {
      "text/plain": [
       "[['1*1=1',\n",
       "  '2*1=2',\n",
       "  '3*1=3',\n",
       "  '4*1=4',\n",
       "  '5*1=5',\n",
       "  '6*1=6',\n",
       "  '7*1=7',\n",
       "  '8*1=8',\n",
       "  '9*1=9',\n",
       "  '10*1=10'],\n",
       " ['1*2=2',\n",
       "  '2*2=4',\n",
       "  '3*2=6',\n",
       "  '4*2=8',\n",
       "  '5*2=10',\n",
       "  '6*2=12',\n",
       "  '7*2=14',\n",
       "  '8*2=16',\n",
       "  '9*2=18',\n",
       "  '10*2=20'],\n",
       " ['1*3=3',\n",
       "  '2*3=6',\n",
       "  '3*3=9',\n",
       "  '4*3=12',\n",
       "  '5*3=15',\n",
       "  '6*3=18',\n",
       "  '7*3=21',\n",
       "  '8*3=24',\n",
       "  '9*3=27',\n",
       "  '10*3=30'],\n",
       " ['1*4=4',\n",
       "  '2*4=8',\n",
       "  '3*4=12',\n",
       "  '4*4=16',\n",
       "  '5*4=20',\n",
       "  '6*4=24',\n",
       "  '7*4=28',\n",
       "  '8*4=32',\n",
       "  '9*4=36',\n",
       "  '10*4=40'],\n",
       " ['1*5=5',\n",
       "  '2*5=10',\n",
       "  '3*5=15',\n",
       "  '4*5=20',\n",
       "  '5*5=25',\n",
       "  '6*5=30',\n",
       "  '7*5=35',\n",
       "  '8*5=40',\n",
       "  '9*5=45',\n",
       "  '10*5=50'],\n",
       " ['1*6=6',\n",
       "  '2*6=12',\n",
       "  '3*6=18',\n",
       "  '4*6=24',\n",
       "  '5*6=30',\n",
       "  '6*6=36',\n",
       "  '7*6=42',\n",
       "  '8*6=48',\n",
       "  '9*6=54',\n",
       "  '10*6=60'],\n",
       " ['1*7=7',\n",
       "  '2*7=14',\n",
       "  '3*7=21',\n",
       "  '4*7=28',\n",
       "  '5*7=35',\n",
       "  '6*7=42',\n",
       "  '7*7=49',\n",
       "  '8*7=56',\n",
       "  '9*7=63',\n",
       "  '10*7=70'],\n",
       " ['1*8=8',\n",
       "  '2*8=16',\n",
       "  '3*8=24',\n",
       "  '4*8=32',\n",
       "  '5*8=40',\n",
       "  '6*8=48',\n",
       "  '7*8=56',\n",
       "  '8*8=64',\n",
       "  '9*8=72',\n",
       "  '10*8=80'],\n",
       " ['1*9=9',\n",
       "  '2*9=18',\n",
       "  '3*9=27',\n",
       "  '4*9=36',\n",
       "  '5*9=45',\n",
       "  '6*9=54',\n",
       "  '7*9=63',\n",
       "  '8*9=72',\n",
       "  '9*9=81',\n",
       "  '10*9=90'],\n",
       " ['1*10=10',\n",
       "  '2*10=20',\n",
       "  '3*10=30',\n",
       "  '4*10=40',\n",
       "  '5*10=50',\n",
       "  '6*10=60',\n",
       "  '7*10=70',\n",
       "  '8*10=80',\n",
       "  '9*10=90',\n",
       "  '10*10=100']]"
      ]
     },
     "execution_count": 114,
     "metadata": {},
     "output_type": "execute_result"
    }
   ],
   "source": [
    " [[ str(x) + '*' + str(y) + '=' + str(x*y) for x in range(1,11)] for y in range(1,11) ]"
   ]
  }
 ],
 "metadata": {
  "kernelspec": {
   "display_name": "Python 3 (ipykernel)",
   "language": "python",
   "name": "python3"
  },
  "language_info": {
   "codemirror_mode": {
    "name": "ipython",
    "version": 3
   },
   "file_extension": ".py",
   "mimetype": "text/x-python",
   "name": "python",
   "nbconvert_exporter": "python",
   "pygments_lexer": "ipython3",
   "version": "3.10.9"
  }
 },
 "nbformat": 4,
 "nbformat_minor": 5
}
