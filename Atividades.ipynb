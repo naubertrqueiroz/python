{
 "cells": [
  {
   "cell_type": "markdown",
   "metadata": {},
   "source": [
    "# Atividades 1"
   ]
  },
  {
   "cell_type": "markdown",
   "metadata": {
    "id": "mH-Vcf1rGrG7"
   },
   "source": [
    "### 1 - Realize o print do seu nome completo, sua idade e sua altura utilizando um print para cada valor"
   ]
  },
  {
   "cell_type": "code",
   "execution_count": 1,
   "metadata": {
    "colab": {
     "base_uri": "https://localhost:8080/"
    },
    "id": "ftDOY_qFHRrn",
    "outputId": "f4d92931-d802-47ca-a011-0ac29763a240"
   },
   "outputs": [
    {
     "name": "stdout",
     "output_type": "stream",
     "text": [
      "Meu nome completo é Naubert\n",
      "Minha idade é 25 anos\n",
      "Tenho 1.68 de altura\n"
     ]
    }
   ],
   "source": [
    "print(\"Meu nome completo é Naubert\")\n",
    "print(\"Minha idade é 25 anos\")\n",
    "print(\"Tenho 1.68 de altura\")"
   ]
  },
  {
   "cell_type": "markdown",
   "metadata": {
    "id": "EZTdOFqpHwXI"
   },
   "source": [
    "### 2 - Realize o print do seu nome completo, sua idade e sua altura utilizando apenas um print para todos valores."
   ]
  },
  {
   "cell_type": "code",
   "execution_count": 2,
   "metadata": {
    "colab": {
     "base_uri": "https://localhost:8080/"
    },
    "id": "tdTqwfnyILJm",
    "outputId": "8dc089bc-6ea2-44b8-8c82-926fc701ed78"
   },
   "outputs": [
    {
     "name": "stdout",
     "output_type": "stream",
     "text": [
      "Nome:Naubert, idade:25, altura:1.68\n"
     ]
    }
   ],
   "source": [
    "print(\"Nome:{}, idade:{}, altura:{}\".format(\"Naubert\",\"25\",\"1.68\"))"
   ]
  },
  {
   "cell_type": "markdown",
   "metadata": {
    "id": "SDPStetnIi61"
   },
   "source": [
    "### 3 - Realize o print de 3 números de sua escolha em um mesmo print, mas separados pelo caractere '-'."
   ]
  },
  {
   "cell_type": "code",
   "execution_count": 3,
   "metadata": {
    "colab": {
     "base_uri": "https://localhost:8080/"
    },
    "id": "p2gQCRukIvN9",
    "outputId": "9778c245-16c9-4166-b5ba-6db533e2c434"
   },
   "outputs": [
    {
     "name": "stdout",
     "output_type": "stream",
     "text": [
      "66-77-88\n"
     ]
    }
   ],
   "source": [
    "print(\"66\",\"77\",\"88\", sep='-' )"
   ]
  },
  {
   "cell_type": "markdown",
   "metadata": {},
   "source": [
    "# Atividades 2"
   ]
  },
  {
   "cell_type": "markdown",
   "metadata": {},
   "source": [
    "### 1 - Crie uma variável de cada tipo e ponha algum valor escolhido. Em seguida, print todos esses valores."
   ]
  },
  {
   "cell_type": "code",
   "execution_count": 4,
   "metadata": {},
   "outputs": [
    {
     "name": "stdout",
     "output_type": "stream",
     "text": [
      "10\n",
      "20.45\n",
      "Atividade\n",
      "True\n"
     ]
    }
   ],
   "source": [
    "int = 10\n",
    "dec = 20.45\n",
    "text = \"Atividade\"\n",
    "bol = True\n",
    "print(int)\n",
    "print(dec)\n",
    "print(text)\n",
    "print(bol)"
   ]
  },
  {
   "cell_type": "markdown",
   "metadata": {},
   "source": [
    "### 2 - Crie variáveis para guardar seu nome, CPF e uma que indique se você está casado, em seguida printe esses valores separadamente, mas não esqueça de printar junto o que eles significam"
   ]
  },
  {
   "cell_type": "code",
   "execution_count": 6,
   "metadata": {},
   "outputs": [
    {
     "name": "stdout",
     "output_type": "stream",
     "text": [
      "Nome: Naubert\n",
      "CPF: 999.999.999-99\n",
      "Estado_Civil: Solteiro\n"
     ]
    }
   ],
   "source": [
    "Nome = \"Naubert\"\n",
    "CPF = \"999.999.999-99\"\n",
    "Estado_Civil = \"Solteiro\"\n",
    "print(\"Nome:\",Nome)\n",
    "print(\"CPF:\",CPF )\n",
    "print(\"Estado_Civil:\",Estado_Civil )"
   ]
  },
  {
   "cell_type": "markdown",
   "metadata": {},
   "source": [
    "# Atividades 3"
   ]
  },
  {
   "cell_type": "markdown",
   "metadata": {},
   "source": [
    "### 1 - Escreva e formate a data em que você nasceu no formato dia/mês/ano. Não esqueça de criar 3 variáveis para guardar o dia, mês e ano.\n",
    "### Exemplo de saída:\n",
    "### Eu nasci em 30/9/1998"
   ]
  },
  {
   "cell_type": "code",
   "execution_count": 33,
   "metadata": {},
   "outputs": [
    {
     "name": "stdout",
     "output_type": "stream",
     "text": [
      "Eu nasci em 15/8/1997\n"
     ]
    }
   ],
   "source": [
    "dia, mes, ano =  15, 8, 1997\n",
    "print(\"Eu nasci em {}/{}/{}\".format(dia, mes, ano))"
   ]
  },
  {
   "cell_type": "markdown",
   "metadata": {},
   "source": [
    "### 2 - Escreva e formate a hora e minuto atual. Não esqueça de criar duas variáveis para guardar a hora e minuto.\n",
    "### Exemplo de saída:\n",
    "### Agora são 22 horas e 37 minutos"
   ]
  },
  {
   "cell_type": "code",
   "execution_count": 32,
   "metadata": {},
   "outputs": [
    {
     "name": "stdout",
     "output_type": "stream",
     "text": [
      "Agora são 7 horas e 45 minutos\n"
     ]
    }
   ],
   "source": [
    "hora = 7\n",
    "minutos = 45\n",
    "print(\"Agora são {} horas e {} minutos\".format(hora,minutos))"
   ]
  },
  {
   "cell_type": "markdown",
   "metadata": {},
   "source": [
    "### 3 - Escreva um programa que contêm o número PI, que deve ter o valor exato de 3.14159265359. Agora formate para ter apenas cinco casas decimais.\n",
    "### Exemplo de saída:\n",
    "### O PI é 3.14159"
   ]
  },
  {
   "cell_type": "code",
   "execution_count": 27,
   "metadata": {},
   "outputs": [
    {
     "name": "stdout",
     "output_type": "stream",
     "text": [
      "O PI é 3.14159\n"
     ]
    }
   ],
   "source": [
    "PI = 3.14159265359\n",
    "print(\"O PI é %.5f\" %(PI))"
   ]
  },
  {
   "cell_type": "code",
   "execution_count": null,
   "metadata": {},
   "outputs": [],
   "source": []
  }
 ],
 "metadata": {
  "colab": {
   "provenance": []
  },
  "kernelspec": {
   "display_name": "Python 3 (ipykernel)",
   "language": "python",
   "name": "python3"
  },
  "language_info": {
   "codemirror_mode": {
    "name": "ipython",
    "version": 3
   },
   "file_extension": ".py",
   "mimetype": "text/x-python",
   "name": "python",
   "nbconvert_exporter": "python",
   "pygments_lexer": "ipython3",
   "version": "3.10.9"
  }
 },
 "nbformat": 4,
 "nbformat_minor": 1
}
