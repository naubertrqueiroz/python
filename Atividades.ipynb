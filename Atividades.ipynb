{
  "nbformat": 4,
  "nbformat_minor": 0,
  "metadata": {
    "colab": {
      "provenance": []
    },
    "kernelspec": {
      "name": "python3",
      "display_name": "Python 3"
    },
    "language_info": {
      "name": "python"
    }
  },
  "cells": [
    {
      "cell_type": "code",
      "execution_count": null,
      "metadata": {
        "id": "mH-Vcf1rGrG7"
      },
      "outputs": [],
      "source": [
        "# 1 Realize o print do seu nome completo, sua idade e sua altura utilizando um print para cada valor"
      ]
    },
    {
      "cell_type": "code",
      "source": [
        "print(\"Meu nome completo é Naubert Roque Queiroz\")\n",
        "print(\"Minha idade é 25 anos\")\n",
        "print(\"Tenho 1.68 de altura\")"
      ],
      "metadata": {
        "colab": {
          "base_uri": "https://localhost:8080/"
        },
        "id": "ftDOY_qFHRrn",
        "outputId": "f4d92931-d802-47ca-a011-0ac29763a240"
      },
      "execution_count": null,
      "outputs": [
        {
          "output_type": "stream",
          "name": "stdout",
          "text": [
            "Meu nome completo é Naubert Roque Queiroz\n",
            "Minha idade é 25 anos\n",
            "Tenho 1.68 de altura\n"
          ]
        }
      ]
    },
    {
      "cell_type": "code",
      "source": [
        "# 2 Realize o print do seu nome completo, sua idade e sua altura utilizando apenas um print para todos valores."
      ],
      "metadata": {
        "id": "EZTdOFqpHwXI"
      },
      "execution_count": null,
      "outputs": []
    },
    {
      "cell_type": "code",
      "source": [
        "print(\"Nome:{}, idade:{}, altura:{}\".format(\"Naubert Roque Queiroz\",\"25\",\"1.68\"))"
      ],
      "metadata": {
        "colab": {
          "base_uri": "https://localhost:8080/"
        },
        "id": "tdTqwfnyILJm",
        "outputId": "8dc089bc-6ea2-44b8-8c82-926fc701ed78"
      },
      "execution_count": null,
      "outputs": [
        {
          "output_type": "stream",
          "name": "stdout",
          "text": [
            "Nome:Naubert Roque Queiroz, idade:25, altura:1.68\n"
          ]
        }
      ]
    },
    {
      "cell_type": "code",
      "source": [
        "# 3 Realize o print de 3 números de sua escolha em um mesmo print, mas separados pelo caractere '-'."
      ],
      "metadata": {
        "id": "SDPStetnIi61"
      },
      "execution_count": null,
      "outputs": []
    },
    {
      "cell_type": "code",
      "source": [
        "print(\"66\",\"77\",\"88\", sep='-' )"
      ],
      "metadata": {
        "colab": {
          "base_uri": "https://localhost:8080/"
        },
        "id": "p2gQCRukIvN9",
        "outputId": "9778c245-16c9-4166-b5ba-6db533e2c434"
      },
      "execution_count": null,
      "outputs": [
        {
          "output_type": "stream",
          "name": "stdout",
          "text": [
            "66-77-88\n"
          ]
        }
      ]
    }
  ]
}