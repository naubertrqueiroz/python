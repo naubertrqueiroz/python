{
 "cells": [
  {
   "cell_type": "code",
   "execution_count": 1,
   "id": "7ec0a40f",
   "metadata": {},
   "outputs": [
    {
     "name": "stdout",
     "output_type": "stream",
     "text": [
      "10\n",
      "10\n",
      "20\n"
     ]
    }
   ],
   "source": [
    "num1 = -10\n",
    "num2 = 10\n",
    "print(abs(num1))\n",
    "print(abs(num2))\n",
    "print(abs(num1) + abs(num2))"
   ]
  },
  {
   "cell_type": "code",
   "execution_count": 2,
   "id": "30275834",
   "metadata": {},
   "outputs": [
    {
     "name": "stdout",
     "output_type": "stream",
     "text": [
      "30\n"
     ]
    }
   ],
   "source": [
    "maior_valor = max(10,20,30)\n",
    "print(maior_valor)"
   ]
  },
  {
   "cell_type": "code",
   "execution_count": 3,
   "id": "c2b8f45b",
   "metadata": {},
   "outputs": [
    {
     "name": "stdout",
     "output_type": "stream",
     "text": [
      "3\n"
     ]
    }
   ],
   "source": [
    "list = [-20,1,2.3,3]\n",
    "print(max(list))"
   ]
  },
  {
   "cell_type": "code",
   "execution_count": 4,
   "id": "44dbf026",
   "metadata": {},
   "outputs": [
    {
     "name": "stdout",
     "output_type": "stream",
     "text": [
      "-20\n"
     ]
    }
   ],
   "source": [
    "list = [-20,1,2.3,3]\n",
    "print(min(list))"
   ]
  },
  {
   "cell_type": "code",
   "execution_count": 5,
   "id": "5fb210d7",
   "metadata": {},
   "outputs": [
    {
     "name": "stdout",
     "output_type": "stream",
     "text": [
      "8\n",
      "8\n"
     ]
    }
   ],
   "source": [
    "x = 2\n",
    "y = 3\n",
    "print(x**y)\n",
    "print(pow(x,y))"
   ]
  },
  {
   "cell_type": "code",
   "execution_count": 7,
   "id": "a60eddf8",
   "metadata": {},
   "outputs": [
    {
     "name": "stdout",
     "output_type": "stream",
     "text": [
      "5.0\n"
     ]
    }
   ],
   "source": [
    "import math\n",
    "print(math.sqrt(25))"
   ]
  },
  {
   "cell_type": "code",
   "execution_count": 8,
   "id": "6dee8232",
   "metadata": {},
   "outputs": [
    {
     "name": "stdout",
     "output_type": "stream",
     "text": [
      "2.46\n"
     ]
    }
   ],
   "source": [
    "print(round(2.4565656,2))"
   ]
  },
  {
   "cell_type": "code",
   "execution_count": 10,
   "id": "0ceb6704",
   "metadata": {},
   "outputs": [
    {
     "name": "stdout",
     "output_type": "stream",
     "text": [
      "2\n",
      "3\n"
     ]
    }
   ],
   "source": [
    "from math import floor, ceil\n",
    "print(floor(2.4565656))\n",
    "print(ceil(2.4565656))"
   ]
  },
  {
   "cell_type": "code",
   "execution_count": 11,
   "id": "32f8aa3d",
   "metadata": {},
   "outputs": [
    {
     "name": "stdout",
     "output_type": "stream",
     "text": [
      "(2, 2)\n"
     ]
    }
   ],
   "source": [
    "print(divmod(10,4))"
   ]
  },
  {
   "cell_type": "code",
   "execution_count": 13,
   "id": "ff694fdd",
   "metadata": {},
   "outputs": [
    {
     "name": "stdout",
     "output_type": "stream",
     "text": [
      "O número 71 é mapeado para o caractere G\n"
     ]
    }
   ],
   "source": [
    "numero = 71\n",
    "caractere = chr(numero)\n",
    "print(\"O número %d é mapeado para o caractere %s\" % (numero,caractere))"
   ]
  },
  {
   "cell_type": "code",
   "execution_count": 17,
   "id": "20f4c185",
   "metadata": {},
   "outputs": [
    {
     "name": "stdout",
     "output_type": "stream",
     "text": [
      "1 - \u0001 \n",
      "2 - \u0002 \n",
      "3 - \u0003 \n",
      "4 - \u0004 \n",
      "5 - \u0005 \n",
      "6 - \u0006 \n",
      "7 - \u0007 \n",
      "8 - \b \n",
      "9 - \t \n",
      "10 - \n",
      " \n",
      "11 - \u000b",
      " \n",
      "12 - \f",
      " \n",
      "13 - \r",
      " \n",
      "14 - \u000e \n",
      "15 - \u000f \n",
      "16 - \u0010 \n",
      "17 - \u0011 \n",
      "18 - \u0012 \n",
      "19 - \u0013 \n",
      "20 - \u0014 \n",
      "21 - \u0015 \n",
      "22 - \u0016 \n",
      "23 - \u0017 \n",
      "24 - \u0018 \n",
      "25 - \u0019 \n",
      "26 - \u001a \n",
      "27 - \u001b \n",
      "28 - \u001c",
      " \n",
      "29 - \u001d",
      " \n",
      "30 - \u001e",
      " \n",
      "31 - \u001f \n",
      "32 -   \n",
      "33 - ! \n",
      "34 - \" \n",
      "35 - # \n",
      "36 - $ \n",
      "37 - % \n",
      "38 - & \n",
      "39 - ' \n",
      "40 - ( \n",
      "41 - ) \n",
      "42 - * \n",
      "43 - + \n",
      "44 - , \n",
      "45 - - \n",
      "46 - . \n",
      "47 - / \n",
      "48 - 0 \n",
      "49 - 1 \n",
      "50 - 2 \n",
      "51 - 3 \n",
      "52 - 4 \n",
      "53 - 5 \n",
      "54 - 6 \n",
      "55 - 7 \n",
      "56 - 8 \n",
      "57 - 9 \n",
      "58 - : \n",
      "59 - ; \n",
      "60 - < \n",
      "61 - = \n",
      "62 - > \n",
      "63 - ? \n",
      "64 - @ \n",
      "65 - A \n",
      "66 - B \n",
      "67 - C \n",
      "68 - D \n",
      "69 - E \n",
      "70 - F \n",
      "71 - G \n",
      "72 - H \n",
      "73 - I \n",
      "74 - J \n",
      "75 - K \n",
      "76 - L \n",
      "77 - M \n",
      "78 - N \n",
      "79 - O \n",
      "80 - P \n",
      "81 - Q \n",
      "82 - R \n",
      "83 - S \n",
      "84 - T \n",
      "85 - U \n",
      "86 - V \n",
      "87 - W \n",
      "88 - X \n",
      "89 - Y \n",
      "90 - Z \n",
      "91 - [ \n",
      "92 - \\ \n",
      "93 - ] \n",
      "94 - ^ \n",
      "95 - _ \n",
      "96 - ` \n",
      "97 - a \n",
      "98 - b \n",
      "99 - c \n",
      "100 - d \n"
     ]
    }
   ],
   "source": [
    "for i in range(1,101):\n",
    "    caractere = chr(i)\n",
    "    print(\"%d - %s \" % (i,caractere), end = '\\n' )"
   ]
  },
  {
   "cell_type": "code",
   "execution_count": 19,
   "id": "763db1de",
   "metadata": {},
   "outputs": [
    {
     "name": "stdout",
     "output_type": "stream",
     "text": [
      "O caracteres Ç se mapeia para o número 199\n"
     ]
    }
   ],
   "source": [
    "caractere =\"Ç\"\n",
    "numero = ord(caractere)\n",
    "print(\"O caracteres %s se mapeia para o número %d\" %(caractere, numero) )"
   ]
  },
  {
   "cell_type": "code",
   "execution_count": 2,
   "id": "401c1bc5",
   "metadata": {},
   "outputs": [
    {
     "name": "stdout",
     "output_type": "stream",
     "text": [
      "Olá, tudo bem\n"
     ]
    }
   ],
   "source": [
    "texto  = \"olá, tudo bem\"\n",
    "print(texto.capitalize())\n"
   ]
  },
  {
   "cell_type": "code",
   "execution_count": 3,
   "id": "092fc584",
   "metadata": {},
   "outputs": [
    {
     "name": "stdout",
     "output_type": "stream",
     "text": [
      "isto é estranho\n",
      "ISTO É ESTRANHO\n",
      "ISTO é eSTRANHo\n"
     ]
    }
   ],
   "source": [
    "texto = \"isto É EstranhO\"\n",
    "print(texto.lower())\n",
    "print(texto.upper())\n",
    "print(texto.swapcase())"
   ]
  },
  {
   "cell_type": "code",
   "execution_count": 4,
   "id": "af2d9c86",
   "metadata": {},
   "outputs": [
    {
     "name": "stdout",
     "output_type": "stream",
     "text": [
      "Eu Sou Um Ótimo Programador Python\n"
     ]
    }
   ],
   "source": [
    "texto = \"eu sou um ótimo programador python\"\n",
    "print(texto.title())"
   ]
  },
  {
   "cell_type": "code",
   "execution_count": 6,
   "id": "98ff3ea3",
   "metadata": {},
   "outputs": [
    {
     "name": "stdout",
     "output_type": "stream",
     "text": [
      " 1234567 \n",
      "   1234567    \n",
      "---1234567----\n"
     ]
    }
   ],
   "source": [
    "texto = \"1234567\"\n",
    "print(texto.center(9))\n",
    "print(texto.center(14))\n",
    "print(texto.center(14,'-'))"
   ]
  },
  {
   "cell_type": "code",
   "execution_count": 8,
   "id": "a5a846d4",
   "metadata": {},
   "outputs": [
    {
     "name": "stdout",
     "output_type": "stream",
     "text": [
      "  1234567\n",
      "1234567  \n"
     ]
    }
   ],
   "source": [
    "texto = \"1234567\"\n",
    "print(texto.rjust(9))\n",
    "print(texto.ljust(9))"
   ]
  },
  {
   "cell_type": "code",
   "execution_count": 9,
   "id": "38ba4031",
   "metadata": {},
   "outputs": [
    {
     "name": "stdout",
     "output_type": "stream",
     "text": [
      "5\n"
     ]
    }
   ],
   "source": [
    "texto = \"1212121212\"\n",
    "print(texto.count(\"12\"))"
   ]
  },
  {
   "cell_type": "code",
   "execution_count": 10,
   "id": "e15d97bf",
   "metadata": {},
   "outputs": [
    {
     "name": "stdout",
     "output_type": "stream",
     "text": [
      "2\n"
     ]
    }
   ],
   "source": [
    "texto = \"1212121212\"\n",
    "print(texto.count(\"121\"))"
   ]
  },
  {
   "cell_type": "code",
   "execution_count": 12,
   "id": "9864dca7",
   "metadata": {},
   "outputs": [
    {
     "name": "stdout",
     "output_type": "stream",
     "text": [
      "True\n",
      "True\n"
     ]
    }
   ],
   "source": [
    "texto = \"1212121212\"\n",
    "print(texto.startswith(\"12\"))\n",
    "print(texto.endswith(\"12\"))"
   ]
  },
  {
   "cell_type": "code",
   "execution_count": 13,
   "id": "ac0944cf",
   "metadata": {},
   "outputs": [
    {
     "name": "stdout",
     "output_type": "stream",
     "text": [
      "15\n",
      "-1\n"
     ]
    }
   ],
   "source": [
    "texto = 'me encontra 20 10 5'\n",
    "pos = texto.find('10')\n",
    "print(pos)\n",
    "pos = texto.find('4')\n",
    "print(pos)"
   ]
  },
  {
   "cell_type": "code",
   "execution_count": 15,
   "id": "e8b4c778",
   "metadata": {},
   "outputs": [
    {
     "name": "stdout",
     "output_type": "stream",
     "text": [
      "15\n"
     ]
    }
   ],
   "source": [
    "texto = 'me encontra 20 10 5'\n",
    "pos = texto.index('10')\n",
    "print(pos)\n",
    "#pos = texto.index('4')\n",
    "#print(pos)"
   ]
  },
  {
   "cell_type": "code",
   "execution_count": 16,
   "id": "c25dfb69",
   "metadata": {},
   "outputs": [
    {
     "name": "stdout",
     "output_type": "stream",
     "text": [
      "Ola eu sou a fulana\n"
     ]
    }
   ],
   "source": [
    "texto = \"Ol@ eu sou @ ful@n@\"\n",
    "novo_texto = texto.replace(\"@\",\"a\")\n",
    "print(novo_texto)"
   ]
  },
  {
   "cell_type": "code",
   "execution_count": 17,
   "id": "cd2efa41",
   "metadata": {},
   "outputs": [
    {
     "name": "stdout",
     "output_type": "stream",
     "text": [
      "['10', '20', '30']\n"
     ]
    }
   ],
   "source": [
    "texto = '10,20,30'\n",
    "print(texto.split(\",\"))"
   ]
  },
  {
   "cell_type": "code",
   "execution_count": 18,
   "id": "ffa3f6d9",
   "metadata": {},
   "outputs": [
    {
     "name": "stdout",
     "output_type": "stream",
     "text": [
      "['Olá, bom dia', ' este é um curso de python', ' seja bem vindo']\n"
     ]
    }
   ],
   "source": [
    "texto = \"Olá, bom dia\\n este é um curso de python\\n seja bem vindo\"\n",
    "print(texto.splitlines())"
   ]
  },
  {
   "cell_type": "code",
   "execution_count": 20,
   "id": "fc91e26e",
   "metadata": {},
   "outputs": [
    {
     "name": "stdout",
     "output_type": "stream",
     "text": [
      "False\n"
     ]
    }
   ],
   "source": [
    "print(\"abcdE3 \".isalpha())"
   ]
  },
  {
   "cell_type": "code",
   "execution_count": 22,
   "id": "4a9ba55d",
   "metadata": {},
   "outputs": [
    {
     "name": "stdout",
     "output_type": "stream",
     "text": [
      "True\n",
      "False\n"
     ]
    }
   ],
   "source": [
    "print(\"abcdE3\".isalnum())\n",
    "print(\"abcd,E3 \".isalnum())"
   ]
  },
  {
   "cell_type": "code",
   "execution_count": 25,
   "id": "96bb2e13",
   "metadata": {},
   "outputs": [
    {
     "name": "stdout",
     "output_type": "stream",
     "text": [
      "False\n",
      "True\n",
      "False\n"
     ]
    }
   ],
   "source": [
    "print(\"123.4\".isdecimal())\n",
    "print(\"123\".isdecimal())\n",
    "print(\"123s\".isdecimal())"
   ]
  },
  {
   "cell_type": "code",
   "execution_count": 26,
   "id": "211a9c2a",
   "metadata": {},
   "outputs": [
    {
     "name": "stdout",
     "output_type": "stream",
     "text": [
      "False\n",
      "False\n",
      "True\n"
     ]
    }
   ],
   "source": [
    "print(\"123\".isspace())\n",
    "print(\"1   \".isspace())\n",
    "print(\" \".isspace())"
   ]
  },
  {
   "cell_type": "code",
   "execution_count": 27,
   "id": "dabb19df",
   "metadata": {},
   "outputs": [
    {
     "name": "stdout",
     "output_type": "stream",
     "text": [
      "True\n",
      "True\n"
     ]
    }
   ],
   "source": [
    "print(\"abc\".islower())\n",
    "print(\"ABC\".isupper())"
   ]
  },
  {
   "cell_type": "code",
   "execution_count": 1,
   "id": "a6680b94",
   "metadata": {},
   "outputs": [
    {
     "name": "stdout",
     "output_type": "stream",
     "text": [
      "[1, 1, 2, 2, 5, 8, 10]\n"
     ]
    }
   ],
   "source": [
    "lista = [5,10,1,2,2,1,8]\n",
    "lista.sort()\n",
    "print(lista)"
   ]
  },
  {
   "cell_type": "code",
   "execution_count": 2,
   "id": "fdfb3311",
   "metadata": {},
   "outputs": [
    {
     "name": "stdout",
     "output_type": "stream",
     "text": [
      "['a', 'ab', 'b', 'c', 'd', 'x']\n"
     ]
    }
   ],
   "source": [
    "lista = [\"a\",\"b\",\"x\",\"ab\",\"c\",\"d\"]\n",
    "lista.sort()\n",
    "print(lista)"
   ]
  },
  {
   "cell_type": "code",
   "execution_count": 3,
   "id": "c66fbf5d",
   "metadata": {},
   "outputs": [
    {
     "name": "stdout",
     "output_type": "stream",
     "text": [
      "[10, 8, 5, 2, 2, 1, 1]\n"
     ]
    }
   ],
   "source": [
    "lista = [5,10,1,2,2,1,8]\n",
    "lista.sort(reverse=True)\n",
    "print(lista)"
   ]
  },
  {
   "cell_type": "code",
   "execution_count": 7,
   "id": "4044e9e7",
   "metadata": {},
   "outputs": [
    {
     "name": "stdout",
     "output_type": "stream",
     "text": [
      "['b', 'a', 'ab', 'de', 'abc', 'abcd']\n"
     ]
    }
   ],
   "source": [
    "def sort_por_tamanho(item):\n",
    "    return len(item)\n",
    "\n",
    "lista = [\"b\",\"ab\",\"de\",\"abcd\",\"abc\",\"a\"]\n",
    "\n",
    "lista.sort(key=sort_por_tamanho)\n",
    "print(lista)"
   ]
  },
  {
   "cell_type": "code",
   "execution_count": 8,
   "id": "089a835f",
   "metadata": {},
   "outputs": [
    {
     "name": "stdout",
     "output_type": "stream",
     "text": [
      "[8, 1, 2, 2, 1, 10, 5]\n"
     ]
    }
   ],
   "source": [
    "lista = [5,10,1,2,2,1,8]\n",
    "lista.reverse()\n",
    "print(lista)"
   ]
  },
  {
   "cell_type": "code",
   "execution_count": 10,
   "id": "4904f7ef",
   "metadata": {},
   "outputs": [
    {
     "name": "stdout",
     "output_type": "stream",
     "text": [
      "carro R$ 100.000\n",
      "cadeira R$ 1000\n",
      "Moto R$ 40000\n",
      "Geladeira R$ 20000\n",
      "armário R$ 1500\n"
     ]
    }
   ],
   "source": [
    "produtos =[\n",
    "           ['carro','R$ 100.000'] ,\n",
    "           ['cadeira', 'R$ 1000'] ,\n",
    "           ['Moto', 'R$ 40000'] ,\n",
    "           ['Geladeira', 'R$ 20000'],\n",
    "           ['armário', 'R$ 1500' ]\n",
    "]\n",
    "for produto, valor in produtos:\n",
    "    print(produto, valor)"
   ]
  },
  {
   "cell_type": "code",
   "execution_count": 11,
   "id": "075a6707",
   "metadata": {},
   "outputs": [
    {
     "name": "stdout",
     "output_type": "stream",
     "text": [
      "{'José': 10, 'Carlos': 10, 'João': 10}\n"
     ]
    }
   ],
   "source": [
    "nomes = ('José','Carlos','João')\n",
    "dicionario = dict.fromkeys(nomes,10)\n",
    "print(dicionario)"
   ]
  },
  {
   "cell_type": "code",
   "execution_count": 12,
   "id": "2fd61b97",
   "metadata": {},
   "outputs": [
    {
     "name": "stdout",
     "output_type": "stream",
     "text": [
      "2023-07-11 14:42:07.520926\n",
      "2023-07-11\n",
      "14:42:07.520926\n"
     ]
    }
   ],
   "source": [
    "import datetime\n",
    "\n",
    "data_completa = datetime.datetime.now()\n",
    "data = data_completa.date()\n",
    "hora = data_completa.time()\n",
    "\n",
    "print(data_completa)\n",
    "print(data)\n",
    "print(hora)"
   ]
  },
  {
   "cell_type": "code",
   "execution_count": 13,
   "id": "df839034",
   "metadata": {},
   "outputs": [
    {
     "name": "stdout",
     "output_type": "stream",
     "text": [
      "Dia  11\n",
      "Mês  7\n",
      "Ano  2023\n",
      "Hora  14\n",
      "Minuto  45\n",
      "Segundo  25\n"
     ]
    }
   ],
   "source": [
    "import datetime\n",
    "\n",
    "data_completa = datetime.datetime.now()\n",
    "\n",
    "print(\"Dia \", data_completa.day)\n",
    "print(\"Mês \", data_completa.month)\n",
    "print(\"Ano \", data_completa.year)\n",
    "print(\"Hora \", data_completa.hour)\n",
    "print(\"Minuto \", data_completa.minute)\n",
    "print(\"Segundo \", data_completa.second)"
   ]
  },
  {
   "cell_type": "code",
   "execution_count": 16,
   "id": "3f4c4c1f",
   "metadata": {},
   "outputs": [
    {
     "name": "stdout",
     "output_type": "stream",
     "text": [
      "2000-09-30\n",
      "<class 'datetime.date'>\n"
     ]
    }
   ],
   "source": [
    "import datetime\n",
    "\n",
    "data = datetime.date(2000, 9, 30)\n",
    "data = datetime.date(day = 30,month = 9, year = 2000)\n",
    "print(data)\n",
    "print(type(data))"
   ]
  },
  {
   "cell_type": "code",
   "execution_count": 17,
   "id": "ad0d71b6",
   "metadata": {},
   "outputs": [
    {
     "name": "stdout",
     "output_type": "stream",
     "text": [
      "10:30:20\n",
      "<class 'datetime.time'>\n"
     ]
    }
   ],
   "source": [
    "import datetime\n",
    "hora = datetime.time(10,30,20)\n",
    "print(hora)\n",
    "print(type(hora))"
   ]
  },
  {
   "cell_type": "code",
   "execution_count": 19,
   "id": "90305432",
   "metadata": {},
   "outputs": [
    {
     "name": "stdout",
     "output_type": "stream",
     "text": [
      "2000-09-30 10:30:20\n"
     ]
    }
   ],
   "source": [
    "import datetime\n",
    "data = datetime.datetime(2000, 9, 30, 10, 30, 20)\n",
    "print(data)"
   ]
  },
  {
   "cell_type": "code",
   "execution_count": 21,
   "id": "ef93f443",
   "metadata": {},
   "outputs": [
    {
     "name": "stdout",
     "output_type": "stream",
     "text": [
      "23/07/11 14:56:50\n",
      "<class 'str'>\n"
     ]
    }
   ],
   "source": [
    "import datetime\n",
    "# y ano\n",
    "# m Mês\n",
    "# d dia\n",
    "# H hora\n",
    "# M minuto\n",
    "# S segundo\n",
    "\n",
    "atual = datetime.datetime.now()\n",
    "current_time = atual.strftime(\"%y/%m/%d %H:%M:%S\")\n",
    "print(current_time)\n",
    "print(type(current_time))"
   ]
  },
  {
   "cell_type": "code",
   "execution_count": 23,
   "id": "be2bc83f",
   "metadata": {},
   "outputs": [
    {
     "name": "stdout",
     "output_type": "stream",
     "text": [
      "Saturday - Sat\n",
      "September - Sep\n",
      "10 - 10\n",
      "10 - AM\n"
     ]
    }
   ],
   "source": [
    "import datetime\n",
    "# y ano\n",
    "# m Mês\n",
    "# d dia\n",
    "# H hora formato 00-23\n",
    "# M minuto\n",
    "# S segundo\n",
    "\n",
    "# A dia da semana\n",
    "# a dia da semana abreviado\n",
    "# B Nome do Mês\n",
    "# b nome do mês abreviado\n",
    "# I hora no formato 12 horas\n",
    "# p AM PM\n",
    "\n",
    "data = datetime.datetime(2000, 9, 30, 10, 30, 20)\n",
    "print(data.strftime(\"%A - %a\"))\n",
    "print(data.strftime(\"%B - %b\"))\n",
    "print(data.strftime(\"%H - %I\"))\n",
    "print(data.strftime(\"%I - %p\"))"
   ]
  },
  {
   "cell_type": "code",
   "execution_count": 24,
   "id": "9e1ab276",
   "metadata": {},
   "outputs": [
    {
     "name": "stdout",
     "output_type": "stream",
     "text": [
      "31 days, 0:00:00\n",
      "<class 'datetime.timedelta'>\n"
     ]
    }
   ],
   "source": [
    "import datetime\n",
    "data1 = datetime.datetime(2020,10,20)\n",
    "data2 = datetime.datetime(2020,11,20)\n",
    "diferenca = data2 - data1\n",
    "print(diferenca)\n",
    "print(type(diferenca))"
   ]
  },
  {
   "cell_type": "code",
   "execution_count": 25,
   "id": "d247e773",
   "metadata": {},
   "outputs": [
    {
     "name": "stdout",
     "output_type": "stream",
     "text": [
      "Data atual:  2023-07-11 15:12:22.105252\n",
      "Mais 4 semanas:  2023-08-08 15:12:22.105252\n",
      "Mais 30 dias:  2023-08-10 15:12:22.105252\n",
      "Mais 12 horas:  2023-07-12 03:12:22.105252\n",
      "Mais 60 minutos:  2023-07-11 16:12:22.105252\n"
     ]
    }
   ],
   "source": [
    "from datetime import datetime, timedelta\n",
    "\n",
    "data_atual = datetime.now()\n",
    "data_futura1 = data_atual + timedelta(weeks= 4)\n",
    "data_futura2 = data_atual + timedelta(days= 30)\n",
    "data_futura3 = data_atual + timedelta(hours = 12)\n",
    "data_futura4 = data_atual + timedelta(minutes = 60)\n",
    "\n",
    "print(\"Data atual: \",data_atual)\n",
    "print(\"Mais 4 semanas: \",data_futura1)\n",
    "print(\"Mais 30 dias: \",data_futura2)\n",
    "print(\"Mais 12 horas: \",data_futura3)\n",
    "print(\"Mais 60 minutos: \",data_futura4)\n"
   ]
  },
  {
   "cell_type": "code",
   "execution_count": 30,
   "id": "cd0a1970",
   "metadata": {},
   "outputs": [
    {
     "name": "stdout",
     "output_type": "stream",
     "text": [
      "Desde o ano de 2000 passou  8592  dias\n",
      "Desde o ano de 2000 passou  54742  segundos\n",
      "Desde o ano de 2000 passou  105252  microsegundos\n",
      "Desde o ano de 2000 passou  23  anos\n",
      "Desde o ano de 2000 passou  276  meses\n",
      "8592 days, 15:12:22.105252\n"
     ]
    }
   ],
   "source": [
    "import datetime\n",
    "\n",
    "data_2000 = datetime.datetime(2000,1,1,0,0,0)\n",
    "data_agora = datetime.datetime.now()\n",
    "diferenca = data_atual - data_2000\n",
    "\n",
    "print(\"Desde o ano de 2000 passou \", diferenca.days, \" dias\")\n",
    "print(\"Desde o ano de 2000 passou \", diferenca.seconds, \" segundos\")\n",
    "print(\"Desde o ano de 2000 passou \", diferenca.microseconds, \" microsegundos\")\n",
    "\n",
    "anos = int(diferenca.days/365)\n",
    "meses = anos * 12\n",
    "\n",
    "print(\"Desde o ano de 2000 passou \", anos, \" anos\")\n",
    "print(\"Desde o ano de 2000 passou \", meses, \" meses\")\n",
    "\n",
    "print(diferenca)"
   ]
  },
  {
   "cell_type": "code",
   "execution_count": 31,
   "id": "870f98f3",
   "metadata": {},
   "outputs": [
    {
     "name": "stdout",
     "output_type": "stream",
     "text": [
      "Digite a data no formato dia/mês/ano:15/08/1997\n",
      "1997-08-15 00:00:00\n",
      "<class 'datetime.datetime'>\n"
     ]
    }
   ],
   "source": [
    "import datetime\n",
    "\n",
    "data_txt = input(\"Digite a data no formato dia/mês/ano:\")\n",
    "datetime = datetime.datetime.strptime(data_txt,\"%d/%m/%Y\")\n",
    "print(datetime)\n",
    "print(type(datetime))"
   ]
  }
 ],
 "metadata": {
  "kernelspec": {
   "display_name": "Python 3 (ipykernel)",
   "language": "python",
   "name": "python3"
  },
  "language_info": {
   "codemirror_mode": {
    "name": "ipython",
    "version": 3
   },
   "file_extension": ".py",
   "mimetype": "text/x-python",
   "name": "python",
   "nbconvert_exporter": "python",
   "pygments_lexer": "ipython3",
   "version": "3.10.9"
  }
 },
 "nbformat": 4,
 "nbformat_minor": 5
}
