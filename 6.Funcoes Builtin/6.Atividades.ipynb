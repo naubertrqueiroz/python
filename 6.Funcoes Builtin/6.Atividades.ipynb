{
 "cells": [
  {
   "cell_type": "markdown",
   "id": "688be0af",
   "metadata": {},
   "source": [
    "# Atividades 1"
   ]
  },
  {
   "cell_type": "markdown",
   "id": "ad9bb615",
   "metadata": {},
   "source": [
    "### 1 - Crie uma função que retorne a subtração de dois elementos, mas que considere o valor absoluto deste valores."
   ]
  },
  {
   "cell_type": "code",
   "execution_count": 1,
   "id": "8dbda393",
   "metadata": {},
   "outputs": [
    {
     "name": "stdout",
     "output_type": "stream",
     "text": [
      "100\n"
     ]
    }
   ],
   "source": [
    "def subtracao(num1,num2):\n",
    "    return (abs(num1) - abs(num2))\n",
    "\n",
    "print(subtracao(200,-100))"
   ]
  },
  {
   "cell_type": "markdown",
   "id": "80c1ef5d",
   "metadata": {},
   "source": [
    "### 2 – Sem usar “ifs”, crie uma função que receba dois números e retorne a soma dos mesmos, mas o valor retornado não pode passar de 10000 e deve ser sempre maior que 0. "
   ]
  },
  {
   "cell_type": "code",
   "execution_count": 2,
   "id": "9109a6b4",
   "metadata": {},
   "outputs": [
    {
     "name": "stdout",
     "output_type": "stream",
     "text": [
      "40\n",
      "10000\n",
      "0\n"
     ]
    }
   ],
   "source": [
    "def somase(num1,num2):\n",
    "    soma = num1 + num2 \n",
    "    soma = min(10000,soma)\n",
    "    soma = max(0,soma)\n",
    "    return soma\n",
    "\n",
    "print(somase(20,20))\n",
    "print(somase(5000,6000))\n",
    "print(somase(10,-20))"
   ]
  },
  {
   "cell_type": "markdown",
   "id": "641ace54",
   "metadata": {},
   "source": [
    "### 3 (DESAFIO) - Crie uma função que receba argumentos de tamanho arbitrário.Todos esses argumentos serão números. Em seguida retorne o menor número entre todos os recebidos."
   ]
  },
  {
   "cell_type": "code",
   "execution_count": 4,
   "id": "e5973c28",
   "metadata": {},
   "outputs": [
    {
     "name": "stdout",
     "output_type": "stream",
     "text": [
      "-1\n"
     ]
    }
   ],
   "source": [
    "def menor(*numeros):\n",
    "    menor = numeros[0]\n",
    "    for i in numeros:\n",
    "        menor = min(i, menor)\n",
    "    return menor\n",
    "\n",
    "print(menor(10,15,5,1,7,151,57,54,5,57,8,48,7,85,78,4,85,42,-1))"
   ]
  },
  {
   "cell_type": "markdown",
   "id": "ba453e6b",
   "metadata": {},
   "source": [
    "### 4 - Crie uma função que calcule a formula de Bhaskara, encontrado o X. Os coeficientes a,b e c devem ser lidos por input."
   ]
  },
  {
   "cell_type": "code",
   "execution_count": 21,
   "id": "7e109130",
   "metadata": {},
   "outputs": [
    {
     "name": "stdout",
     "output_type": "stream",
     "text": [
      "Digite o coeficiente a: 2\n",
      "Digite o coeficiente b: 9\n",
      "Digite o coeficiente c: 10\n",
      "O valor de x1 é: -2 e o valor de x2 é: -2\n"
     ]
    }
   ],
   "source": [
    "import math\n",
    "\n",
    "def bhaskara():\n",
    "    a = float(input(\"Digite o coeficiente a: \"))\n",
    "    b = float(input(\"Digite o coeficiente b: \"))\n",
    "    c = float(input(\"Digite o coeficiente c: \"))\n",
    "\n",
    "    delta = pow(b,2) - (4*a*c)\n",
    "    if delta < 0:\n",
    "        return \"Não foi possivel calcular com esses resultados a = %2.f,  b = %2.f, c = %2.f \" % (a,b,c) \n",
    "    else:\n",
    "        x1 = ( -b + math.sqrt(delta)) / (2*a)\n",
    "        x2 = ( -b - math.sqrt(delta)) / (2*a)\n",
    "    return \"O valor de x1 é: %2.f e o valor de x2 é: %2.f\" % (x1, x2)\n",
    "\n",
    "print(bhaskara())\n",
    "             "
   ]
  },
  {
   "cell_type": "markdown",
   "id": "78494a18",
   "metadata": {},
   "source": [
    "### 5 - Crie uma função que receba uma string, e para cada letra minúscula a transforme em uma letra maiúscula e vice versa"
   ]
  },
  {
   "cell_type": "code",
   "execution_count": 22,
   "id": "12118c19",
   "metadata": {},
   "outputs": [
    {
     "name": "stdout",
     "output_type": "stream",
     "text": [
      "tESTE\n"
     ]
    }
   ],
   "source": [
    "def contrario(palavra):\n",
    "    return palavra.swapcase()\n",
    "    \n",
    "print(contrario('Teste'))"
   ]
  },
  {
   "cell_type": "markdown",
   "id": "5f3f1b13",
   "metadata": {},
   "source": [
    "# Atividades 2"
   ]
  },
  {
   "cell_type": "markdown",
   "id": "970abe39",
   "metadata": {},
   "source": [
    "### 6 - Crie uma função receba uma string e uma letra do alfabeto. Retorne a quantidade de vezes que essa letra tem na string. Caso não ocorra nenhuma vez, retorne 0."
   ]
  },
  {
   "cell_type": "code",
   "execution_count": 100,
   "id": "da2ea8be",
   "metadata": {},
   "outputs": [
    {
     "name": "stdout",
     "output_type": "stream",
     "text": [
      "4\n",
      "0\n"
     ]
    }
   ],
   "source": [
    "def contaletra(palavra,caractere):\n",
    "    return palavra.count(caractere)\n",
    "    \n",
    "print(contaletra('Textooooeeee','o'))\n",
    "print(contaletra('Texto','z'))"
   ]
  },
  {
   "cell_type": "markdown",
   "id": "874263ba",
   "metadata": {},
   "source": [
    "### 7 (DESAFIO) - Crie uma função receba uma string e uma letra do alfabeto. Retorne uma lista contendo o índice de onde todas as ocorrências aparecem."
   ]
  },
  {
   "cell_type": "code",
   "execution_count": 102,
   "id": "8ca5ed8e",
   "metadata": {},
   "outputs": [
    {
     "name": "stdout",
     "output_type": "stream",
     "text": [
      "[0, 3, 4]\n",
      "[1, 4]\n"
     ]
    }
   ],
   "source": [
    "def conta_letra_lista(palavra,caractere):\n",
    "    lista = []\n",
    "    for x in range(len(palavra)):\n",
    "        if palavra[x] == caractere:\n",
    "            lista.append(x)\n",
    "    return lista\n",
    "    \n",
    "print(conta_letra_lista('abcaa','a'))\n",
    "print(conta_letra_lista('abcab','b'))"
   ]
  },
  {
   "cell_type": "markdown",
   "id": "d57bf137",
   "metadata": {},
   "source": [
    "### 8 - Crie uma função que receba o que foi digitado pelo usuário no chat e também uma lista contendo todas as palavras não permitidas a serem digitadas. Essa função então retornara o que foi digitado pelo usuário mas no lugar das palavras não permitidas retorna o caractere '*’."
   ]
  },
  {
   "cell_type": "code",
   "execution_count": 104,
   "id": "43852a54",
   "metadata": {},
   "outputs": [
    {
     "name": "stdout",
     "output_type": "stream",
     "text": [
      "não pode falar a palavra * ou * no chat\n"
     ]
    }
   ],
   "source": [
    "def texto_chat(texto, palavras):\n",
    "    for palavra in palavras:\n",
    "        if palavra in texto:\n",
    "            texto = texto.replace(palavra,\"*\")\n",
    "    return texto\n",
    "\n",
    "texto_usuario = \"não pode falar a palavra droga ou diabo no chat\"\n",
    "palavras_proibidas = ['droga','diabo']\n",
    "print(texto_chat(texto_usuario,palavras_proibidas))"
   ]
  },
  {
   "cell_type": "markdown",
   "id": "958de9cb",
   "metadata": {},
   "source": [
    "### 9 - Crie uma função que retorne verdadeiro se uma string é totalmente maiúscula ou totalmente minúscula."
   ]
  },
  {
   "cell_type": "code",
   "execution_count": 108,
   "id": "30828676",
   "metadata": {},
   "outputs": [
    {
     "name": "stdout",
     "output_type": "stream",
     "text": [
      "True\n",
      "True\n",
      "False\n"
     ]
    }
   ],
   "source": [
    "def e_maiscula_ou_minuscula(palavra):\n",
    "    return palavra.isupper() or palavra.islower() \n",
    "\n",
    "    \n",
    "print(e_maiscula_ou_minuscula(\"TESTE\"))\n",
    "print(e_maiscula_ou_minuscula(\"teste\"))\n",
    "print(e_maiscula_ou_minuscula(\"Teste\"))"
   ]
  },
  {
   "cell_type": "markdown",
   "id": "0d5bac34",
   "metadata": {},
   "source": [
    "### 10 - Crie uma função que receba uma lista de textos. Detecte quais os valores dessa lista são inteiros e em seguida transforme eles para um número do tipo inteiro. Todos esses valores encontrados serão retornados em uma nova lista que deve estar ordenada."
   ]
  },
  {
   "cell_type": "code",
   "execution_count": 113,
   "id": "25ae2eff",
   "metadata": {},
   "outputs": [
    {
     "name": "stdout",
     "output_type": "stream",
     "text": [
      "[1, 10, 1000]\n"
     ]
    }
   ],
   "source": [
    "def textos_numeros(*texto):\n",
    "    lista_inteiros = []\n",
    "    for x in texto:\n",
    "        if x.isdecimal():\n",
    "            lista_inteiros.append(int(x))\n",
    "    lista_inteiros.sort()\n",
    "    return lista_inteiros\n",
    "    \n",
    "print(textos_numeros('Teste','10','23.88','1000','1'))"
   ]
  },
  {
   "cell_type": "markdown",
   "id": "1609cb76",
   "metadata": {},
   "source": [
    "### 11 - Leia por input sua data de nascimento no formado Dia/Mês/Ano e mostre quantos dias você já viveu"
   ]
  },
  {
   "cell_type": "code",
   "execution_count": 114,
   "id": "ac9bd332",
   "metadata": {},
   "outputs": [
    {
     "name": "stdout",
     "output_type": "stream",
     "text": [
      "Digite a data de nascimento no formato dia/mês/ano:15/08/1997\n",
      "Você já viveu 9462 dias até agora.\n"
     ]
    }
   ],
   "source": [
    "import datetime\n",
    "\n",
    "def quantos_dias_viveu():\n",
    "    data_atual = datetime.datetime.now()\n",
    "    data_nascimento = datetime.datetime.strptime(input(\"Digite a data de nascimento no formato dia/mês/ano:\"),\"%d/%m/%Y\")\n",
    "    return 'Você já viveu %d dias até agora.' % ((data_atual - data_nascimento).days)\n",
    "\n",
    "print(quantos_dias_viveu())"
   ]
  },
  {
   "cell_type": "markdown",
   "id": "0a25d453",
   "metadata": {},
   "source": [
    "### 12 - Leia por input sua próxima data de aniversario no formado Dia/Mês/Ano e mostre quantos dias faltam para seu próximo aniversario."
   ]
  },
  {
   "cell_type": "code",
   "execution_count": 115,
   "id": "bdbb0af3",
   "metadata": {},
   "outputs": [
    {
     "name": "stdout",
     "output_type": "stream",
     "text": [
      "Digite a data do próximo aniversário no formato dia/mês/ano:15/08/2023\n",
      "Falta 33 dias para seu próximo aniversário \n"
     ]
    }
   ],
   "source": [
    "def falta_quanto_aniversario():\n",
    "    data_proximo_aniversario = datetime.datetime.strptime(input(\"Digite a data do próximo aniversário no formato dia/mês/ano:\"),\"%d/%m/%Y\")\n",
    "    data_atual = datetime.datetime.now()\n",
    "    return 'Falta %d dias para seu próximo aniversário ' % ((data_proximo_aniversario-data_atual).days)\n",
    "    \n",
    "print(falta_quanto_aniversario())"
   ]
  }
 ],
 "metadata": {
  "kernelspec": {
   "display_name": "Python 3 (ipykernel)",
   "language": "python",
   "name": "python3"
  },
  "language_info": {
   "codemirror_mode": {
    "name": "ipython",
    "version": 3
   },
   "file_extension": ".py",
   "mimetype": "text/x-python",
   "name": "python",
   "nbconvert_exporter": "python",
   "pygments_lexer": "ipython3",
   "version": "3.10.9"
  }
 },
 "nbformat": 4,
 "nbformat_minor": 5
}
