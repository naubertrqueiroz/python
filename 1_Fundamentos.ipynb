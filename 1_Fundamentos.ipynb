{
 "cells": [
  {
   "cell_type": "markdown",
   "id": "786aaa45",
   "metadata": {},
   "source": [
    "# Comando Print"
   ]
  },
  {
   "cell_type": "code",
   "execution_count": 1,
   "id": "6109c459",
   "metadata": {},
   "outputs": [
    {
     "name": "stdout",
     "output_type": "stream",
     "text": [
      "Olá mundo\n"
     ]
    }
   ],
   "source": [
    "\n",
    "# isto é um comentário\n",
    "# isto é outro comentário\n",
    "print(\"Olá mundo\") # linha de comando\n"
   ]
  },
  {
   "cell_type": "code",
   "execution_count": 3,
   "id": "a4f51fe6",
   "metadata": {},
   "outputs": [
    {
     "data": {
      "text/plain": [
       "' Este é um comentário\\no comentário continua aqui\\naqui ainda continua\\ne aqui termina '"
      ]
     },
     "execution_count": 3,
     "metadata": {},
     "output_type": "execute_result"
    }
   ],
   "source": [
    "\n",
    "''' Este é um comentário\n",
    "o comentário continua aqui\n",
    "aqui ainda continua\n",
    "e aqui termina '''"
   ]
  },
  {
   "cell_type": "code",
   "execution_count": 4,
   "id": "74ead345",
   "metadata": {},
   "outputs": [
    {
     "name": "stdout",
     "output_type": "stream",
     "text": [
      "olá mundo\n",
      "10\n",
      "20.5\n"
     ]
    }
   ],
   "source": [
    "print(\"olá mundo\")\n",
    "print(10)\n",
    "print(20.5)"
   ]
  },
  {
   "cell_type": "code",
   "execution_count": 5,
   "id": "9aa6528e",
   "metadata": {},
   "outputs": [
    {
     "name": "stdout",
     "output_type": "stream",
     "text": [
      "Maça 20 30.45\n"
     ]
    }
   ],
   "source": [
    "print(\"Maça\", 20, 30.45)"
   ]
  },
  {
   "cell_type": "code",
   "execution_count": 6,
   "id": "9ce1b15e",
   "metadata": {},
   "outputs": [
    {
     "name": "stdout",
     "output_type": "stream",
     "text": [
      "Maça - Pera - Uva\n"
     ]
    }
   ],
   "source": [
    "print(\"Maça\", \"Pera\", \"Uva\", sep=' - ')"
   ]
  },
  {
   "cell_type": "code",
   "execution_count": 9,
   "id": "4bd98342",
   "metadata": {},
   "outputs": [
    {
     "name": "stdout",
     "output_type": "stream",
     "text": [
      "Maça Pera Fim"
     ]
    }
   ],
   "source": [
    "print(\"Maça\", \"Pera\", end =' Fim', sep=' ' )"
   ]
  },
  {
   "cell_type": "code",
   "execution_count": 10,
   "id": "9b8c5c74",
   "metadata": {},
   "outputs": [
    {
     "name": "stdout",
     "output_type": "stream",
     "text": [
      "Este é um texto longo, \n",
      " eu quero quebrar a linha\n"
     ]
    }
   ],
   "source": [
    "print(\"Este é um texto longo, \\n eu quero quebrar a linha\")"
   ]
  },
  {
   "cell_type": "code",
   "execution_count": 11,
   "id": "8e003ed1",
   "metadata": {},
   "outputs": [
    {
     "name": "stdout",
     "output_type": "stream",
     "text": [
      "Maça\n",
      "Pera\n"
     ]
    }
   ],
   "source": [
    "print(\"Maça\", \"Pera\", sep='\\n' )"
   ]
  },
  {
   "cell_type": "code",
   "execution_count": 12,
   "id": "289fb62f",
   "metadata": {},
   "outputs": [
    {
     "name": "stdout",
     "output_type": "stream",
     "text": [
      "A pontuação total de Fernando foi 10 pontos\n"
     ]
    }
   ],
   "source": [
    "print(\"A pontuação total de %s foi %s pontos\" % (\"Fernando\",\"10\") )"
   ]
  },
  {
   "cell_type": "code",
   "execution_count": 13,
   "id": "a6948c79",
   "metadata": {},
   "outputs": [
    {
     "name": "stdout",
     "output_type": "stream",
     "text": [
      "A pontuação total de Fernando foi de 10 pontos\n"
     ]
    }
   ],
   "source": [
    "print(\"A pontuação total de {} foi de {} pontos\".format(\"Fernando\",\"10\") )"
   ]
  },
  {
   "cell_type": "code",
   "execution_count": 14,
   "id": "accff379",
   "metadata": {},
   "outputs": [
    {
     "name": "stdout",
     "output_type": "stream",
     "text": [
      "A pontuação total de Fernando foi 10 pontos\n"
     ]
    }
   ],
   "source": [
    "print(\"A pontuação total de\" + \" Fernando\" + \" foi\" + \" 10 \" + \"pontos\" )"
   ]
  },
  {
   "cell_type": "markdown",
   "id": "979359ee",
   "metadata": {},
   "source": [
    "# Variáveis"
   ]
  },
  {
   "cell_type": "code",
   "execution_count": 15,
   "id": "1071626b",
   "metadata": {},
   "outputs": [
    {
     "name": "stdout",
     "output_type": "stream",
     "text": [
      "1 2 3 4\n"
     ]
    }
   ],
   "source": [
    "_numero = 1\n",
    "Numero  = 2 \n",
    "numero  = 3\n",
    "numero123 = 4\n",
    "print(_numero, Numero, numero, numero123)"
   ]
  },
  {
   "cell_type": "code",
   "execution_count": 16,
   "id": "a9aa5c84",
   "metadata": {},
   "outputs": [
    {
     "name": "stdout",
     "output_type": "stream",
     "text": [
      "10\n",
      "20\n"
     ]
    }
   ],
   "source": [
    "numero = 10\n",
    "print(numero)\n",
    "numero =20\n",
    "print(numero)"
   ]
  },
  {
   "cell_type": "code",
   "execution_count": 17,
   "id": "44399885",
   "metadata": {},
   "outputs": [
    {
     "name": "stdout",
     "output_type": "stream",
     "text": [
      "Olá mundo!\n"
     ]
    }
   ],
   "source": [
    "texto = \"Olá mundo!\"\n",
    "print(texto)"
   ]
  },
  {
   "cell_type": "markdown",
   "id": "f0bcda41",
   "metadata": {},
   "source": [
    "# Tipos Primitivos"
   ]
  },
  {
   "cell_type": "code",
   "execution_count": 18,
   "id": "c7fdc282",
   "metadata": {},
   "outputs": [
    {
     "name": "stdout",
     "output_type": "stream",
     "text": [
      "None\n"
     ]
    }
   ],
   "source": [
    "variavel = None\n",
    "print(variavel)"
   ]
  },
  {
   "cell_type": "code",
   "execution_count": 19,
   "id": "a4916d92",
   "metadata": {},
   "outputs": [
    {
     "name": "stdout",
     "output_type": "stream",
     "text": [
      "10\n"
     ]
    }
   ],
   "source": [
    "inteiro = 10\n",
    "print(inteiro)"
   ]
  },
  {
   "cell_type": "code",
   "execution_count": 20,
   "id": "1e9844b4",
   "metadata": {},
   "outputs": [
    {
     "name": "stdout",
     "output_type": "stream",
     "text": [
      "1.53\n"
     ]
    }
   ],
   "source": [
    "decimal = 1.53\n",
    "print(decimal)"
   ]
  },
  {
   "cell_type": "code",
   "execution_count": 21,
   "id": "dd30c9a7",
   "metadata": {},
   "outputs": [
    {
     "name": "stdout",
     "output_type": "stream",
     "text": [
      "olá, isto é um texto\n"
     ]
    }
   ],
   "source": [
    "texto = \"olá, isto é um texto\"\n",
    "print(texto)"
   ]
  },
  {
   "cell_type": "code",
   "execution_count": 23,
   "id": "7eca4aae",
   "metadata": {},
   "outputs": [
    {
     "name": "stdout",
     "output_type": "stream",
     "text": [
      "True\n",
      "False\n"
     ]
    }
   ],
   "source": [
    "var = True\n",
    "print(var)\n",
    "var = False\n",
    "print(var)"
   ]
  },
  {
   "cell_type": "code",
   "execution_count": 24,
   "id": "3d520a89",
   "metadata": {},
   "outputs": [
    {
     "name": "stdout",
     "output_type": "stream",
     "text": [
      "10\n"
     ]
    }
   ],
   "source": [
    "var1 = 10\n",
    "var2 = var1\n",
    "print(var2)\n"
   ]
  },
  {
   "cell_type": "code",
   "execution_count": 25,
   "id": "798adb5f",
   "metadata": {},
   "outputs": [
    {
     "name": "stdout",
     "output_type": "stream",
     "text": [
      "None\n",
      "1\n",
      "Texto\n"
     ]
    }
   ],
   "source": [
    "var = None\n",
    "print(var)\n",
    "var = 1\n",
    "print(var)\n",
    "var = \"Texto\"\n",
    "print(var)"
   ]
  },
  {
   "cell_type": "code",
   "execution_count": null,
   "id": "1a1fdb29",
   "metadata": {},
   "outputs": [],
   "source": [
    "saldoBancario = 100\n",
    "SaldoBancario = 100\n",
    "saldo_bancario = 100\n"
   ]
  }
 ],
 "metadata": {
  "kernelspec": {
   "display_name": "Python 3 (ipykernel)",
   "language": "python",
   "name": "python3"
  },
  "language_info": {
   "codemirror_mode": {
    "name": "ipython",
    "version": 3
   },
   "file_extension": ".py",
   "mimetype": "text/x-python",
   "name": "python",
   "nbconvert_exporter": "python",
   "pygments_lexer": "ipython3",
   "version": "3.10.9"
  }
 },
 "nbformat": 4,
 "nbformat_minor": 5
}
