{
 "cells": [
  {
   "cell_type": "code",
   "execution_count": 1,
   "id": "9d746410",
   "metadata": {},
   "outputs": [
    {
     "name": "stdout",
     "output_type": "stream",
     "text": [
      "Olá mundo\n"
     ]
    }
   ],
   "source": [
    "\n",
    "# isto é um comentário\n",
    "# isto é outro comentário\n",
    "print(\"Olá mundo\") # linha de comando\n"
   ]
  },
  {
   "cell_type": "code",
   "execution_count": 3,
   "id": "c43e739a",
   "metadata": {},
   "outputs": [
    {
     "data": {
      "text/plain": [
       "' Este é um comentário\\no comentário continua aqui\\naqui ainda continua\\ne aqui termina '"
      ]
     },
     "execution_count": 3,
     "metadata": {},
     "output_type": "execute_result"
    }
   ],
   "source": [
    "\n",
    "''' Este é um comentário\n",
    "o comentário continua aqui\n",
    "aqui ainda continua\n",
    "e aqui termina '''"
   ]
  },
  {
   "cell_type": "code",
   "execution_count": 4,
   "id": "7e294112",
   "metadata": {},
   "outputs": [
    {
     "name": "stdout",
     "output_type": "stream",
     "text": [
      "olá mundo\n",
      "10\n",
      "20.5\n"
     ]
    }
   ],
   "source": [
    "print(\"olá mundo\")\n",
    "print(10)\n",
    "print(20.5)"
   ]
  },
  {
   "cell_type": "code",
   "execution_count": 5,
   "id": "30f6c927",
   "metadata": {},
   "outputs": [
    {
     "name": "stdout",
     "output_type": "stream",
     "text": [
      "Maça 20 30.45\n"
     ]
    }
   ],
   "source": [
    "print(\"Maça\", 20, 30.45)"
   ]
  },
  {
   "cell_type": "code",
   "execution_count": 6,
   "id": "42b6662e",
   "metadata": {},
   "outputs": [
    {
     "name": "stdout",
     "output_type": "stream",
     "text": [
      "Maça - Pera - Uva\n"
     ]
    }
   ],
   "source": [
    "print(\"Maça\", \"Pera\", \"Uva\", sep=' - ')"
   ]
  },
  {
   "cell_type": "code",
   "execution_count": 9,
   "id": "d72978ea",
   "metadata": {},
   "outputs": [
    {
     "name": "stdout",
     "output_type": "stream",
     "text": [
      "Maça Pera Fim"
     ]
    }
   ],
   "source": [
    "print(\"Maça\", \"Pera\", end =' Fim', sep=' ' )"
   ]
  },
  {
   "cell_type": "code",
   "execution_count": 10,
   "id": "d86fd04f",
   "metadata": {},
   "outputs": [
    {
     "name": "stdout",
     "output_type": "stream",
     "text": [
      "Este é um texto longo, \n",
      " eu quero quebrar a linha\n"
     ]
    }
   ],
   "source": [
    "print(\"Este é um texto longo, \\n eu quero quebrar a linha\")"
   ]
  },
  {
   "cell_type": "code",
   "execution_count": 11,
   "id": "d170d37e",
   "metadata": {},
   "outputs": [
    {
     "name": "stdout",
     "output_type": "stream",
     "text": [
      "Maça\n",
      "Pera\n"
     ]
    }
   ],
   "source": [
    "print(\"Maça\", \"Pera\", sep='\\n' )"
   ]
  },
  {
   "cell_type": "code",
   "execution_count": 12,
   "id": "8c8e161b",
   "metadata": {},
   "outputs": [
    {
     "name": "stdout",
     "output_type": "stream",
     "text": [
      "A pontuação total de Fernando foi 10 pontos\n"
     ]
    }
   ],
   "source": [
    "print(\"A pontuação total de %s foi %s pontos\" % (\"Fernando\",\"10\") )"
   ]
  },
  {
   "cell_type": "code",
   "execution_count": 13,
   "id": "edc9e2eb",
   "metadata": {},
   "outputs": [
    {
     "name": "stdout",
     "output_type": "stream",
     "text": [
      "A pontuação total de Fernando foi de 10 pontos\n"
     ]
    }
   ],
   "source": [
    "print(\"A pontuação total de {} foi de {} pontos\".format(\"Fernando\",\"10\") )"
   ]
  },
  {
   "cell_type": "code",
   "execution_count": 14,
   "id": "469322cd",
   "metadata": {},
   "outputs": [
    {
     "name": "stdout",
     "output_type": "stream",
     "text": [
      "A pontuação total de Fernando foi 10 pontos\n"
     ]
    }
   ],
   "source": [
    "print(\"A pontuação total de\" + \" Fernando\" + \" foi\" + \" 10 \" + \"pontos\" )"
   ]
  },
  {
   "cell_type": "code",
   "execution_count": null,
   "id": "b9891422",
   "metadata": {},
   "outputs": [],
   "source": [
    "# Variáveis"
   ]
  },
  {
   "cell_type": "code",
   "execution_count": 15,
   "id": "8989415b",
   "metadata": {},
   "outputs": [
    {
     "name": "stdout",
     "output_type": "stream",
     "text": [
      "1 2 3 4\n"
     ]
    }
   ],
   "source": [
    "_numero = 1\n",
    "Numero  = 2 \n",
    "numero  = 3\n",
    "numero123 = 4\n",
    "print(_numero, Numero, numero, numero123)"
   ]
  },
  {
   "cell_type": "code",
   "execution_count": null,
   "id": "1235b9cc",
   "metadata": {},
   "outputs": [],
   "source": [
    "#Variáveis"
   ]
  }
 ],
 "metadata": {
  "kernelspec": {
   "display_name": "Python 3 (ipykernel)",
   "language": "python",
   "name": "python3"
  },
  "language_info": {
   "codemirror_mode": {
    "name": "ipython",
    "version": 3
   },
   "file_extension": ".py",
   "mimetype": "text/x-python",
   "name": "python",
   "nbconvert_exporter": "python",
   "pygments_lexer": "ipython3",
   "version": "3.10.9"
  }
 },
 "nbformat": 4,
 "nbformat_minor": 5
}
