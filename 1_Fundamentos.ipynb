{
 "cells": [
  {
   "cell_type": "code",
   "execution_count": 1,
   "id": "f8686a6a",
   "metadata": {},
   "outputs": [
    {
     "name": "stdout",
     "output_type": "stream",
     "text": [
      "Olá mundo\n"
     ]
    }
   ],
   "source": [
    "\n",
    "# isto é um comentário\n",
    "# isto é outro comentário\n",
    "print(\"Olá mundo\") # linha de comando\n"
   ]
  },
  {
   "cell_type": "code",
   "execution_count": 3,
   "id": "9eda1bb1",
   "metadata": {},
   "outputs": [
    {
     "data": {
      "text/plain": [
       "' Este é um comentário\\no comentário continua aqui\\naqui ainda continua\\ne aqui termina '"
      ]
     },
     "execution_count": 3,
     "metadata": {},
     "output_type": "execute_result"
    }
   ],
   "source": [
    "\n",
    "''' Este é um comentário\n",
    "o comentário continua aqui\n",
    "aqui ainda continua\n",
    "e aqui termina '''"
   ]
  },
  {
   "cell_type": "code",
   "execution_count": 4,
   "id": "f9f6419d",
   "metadata": {},
   "outputs": [
    {
     "name": "stdout",
     "output_type": "stream",
     "text": [
      "olá mundo\n",
      "10\n",
      "20.5\n"
     ]
    }
   ],
   "source": [
    "print(\"olá mundo\")\n",
    "print(10)\n",
    "print(20.5)"
   ]
  },
  {
   "cell_type": "code",
   "execution_count": 5,
   "id": "d20f0cf4",
   "metadata": {},
   "outputs": [
    {
     "name": "stdout",
     "output_type": "stream",
     "text": [
      "Maça 20 30.45\n"
     ]
    }
   ],
   "source": [
    "print(\"Maça\", 20, 30.45)"
   ]
  },
  {
   "cell_type": "code",
   "execution_count": 6,
   "id": "04216e96",
   "metadata": {},
   "outputs": [
    {
     "name": "stdout",
     "output_type": "stream",
     "text": [
      "Maça - Pera - Uva\n"
     ]
    }
   ],
   "source": [
    "print(\"Maça\", \"Pera\", \"Uva\", sep=' - ')"
   ]
  },
  {
   "cell_type": "code",
   "execution_count": 9,
   "id": "e5a6f3be",
   "metadata": {},
   "outputs": [
    {
     "name": "stdout",
     "output_type": "stream",
     "text": [
      "Maça Pera Fim"
     ]
    }
   ],
   "source": [
    "print(\"Maça\", \"Pera\", end =' Fim', sep=' ' )"
   ]
  },
  {
   "cell_type": "code",
   "execution_count": 10,
   "id": "eb7530ba",
   "metadata": {},
   "outputs": [
    {
     "name": "stdout",
     "output_type": "stream",
     "text": [
      "Este é um texto longo, \n",
      " eu quero quebrar a linha\n"
     ]
    }
   ],
   "source": [
    "print(\"Este é um texto longo, \\n eu quero quebrar a linha\")"
   ]
  },
  {
   "cell_type": "code",
   "execution_count": 11,
   "id": "eba0fe24",
   "metadata": {},
   "outputs": [
    {
     "name": "stdout",
     "output_type": "stream",
     "text": [
      "Maça\n",
      "Pera\n"
     ]
    }
   ],
   "source": [
    "print(\"Maça\", \"Pera\", sep='\\n' )"
   ]
  },
  {
   "cell_type": "code",
   "execution_count": 12,
   "id": "5648d44c",
   "metadata": {},
   "outputs": [
    {
     "name": "stdout",
     "output_type": "stream",
     "text": [
      "A pontuação total de Fernando foi 10 pontos\n"
     ]
    }
   ],
   "source": [
    "print(\"A pontuação total de %s foi %s pontos\" % (\"Fernando\",\"10\") )"
   ]
  },
  {
   "cell_type": "code",
   "execution_count": 13,
   "id": "0d771a01",
   "metadata": {},
   "outputs": [
    {
     "name": "stdout",
     "output_type": "stream",
     "text": [
      "A pontuação total de Fernando foi de 10 pontos\n"
     ]
    }
   ],
   "source": [
    "print(\"A pontuação total de {} foi de {} pontos\".format(\"Fernando\",\"10\") )"
   ]
  },
  {
   "cell_type": "code",
   "execution_count": 14,
   "id": "fcad1bdb",
   "metadata": {},
   "outputs": [
    {
     "name": "stdout",
     "output_type": "stream",
     "text": [
      "A pontuação total de Fernando foi 10 pontos\n"
     ]
    }
   ],
   "source": [
    "print(\"A pontuação total de\" + \" Fernando\" + \" foi\" + \" 10 \" + \"pontos\" )"
   ]
  },
  {
   "cell_type": "code",
   "execution_count": null,
   "id": "702658cd",
   "metadata": {},
   "outputs": [],
   "source": [
    "# Variáveis"
   ]
  },
  {
   "cell_type": "code",
   "execution_count": 15,
   "id": "02f7fdbc",
   "metadata": {},
   "outputs": [
    {
     "name": "stdout",
     "output_type": "stream",
     "text": [
      "1 2 3 4\n"
     ]
    }
   ],
   "source": [
    "_numero = 1\n",
    "Numero  = 2 \n",
    "numero  = 3\n",
    "numero123 = 4\n",
    "print(_numero, Numero, numero, numero123)"
   ]
  },
  {
   "cell_type": "code",
   "execution_count": null,
   "id": "e1c29a6e",
   "metadata": {},
   "outputs": [],
   "source": []
  }
 ],
 "metadata": {
  "kernelspec": {
   "display_name": "Python 3 (ipykernel)",
   "language": "python",
   "name": "python3"
  },
  "language_info": {
   "codemirror_mode": {
    "name": "ipython",
    "version": 3
   },
   "file_extension": ".py",
   "mimetype": "text/x-python",
   "name": "python",
   "nbconvert_exporter": "python",
   "pygments_lexer": "ipython3",
   "version": "3.10.9"
  }
 },
 "nbformat": 4,
 "nbformat_minor": 5
}
