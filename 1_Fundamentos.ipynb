{
 "cells": [
  {
   "cell_type": "markdown",
   "id": "8e28773a",
   "metadata": {},
   "source": [
    "# Comando Print"
   ]
  },
  {
   "cell_type": "code",
   "execution_count": 1,
   "id": "fd9101eb",
   "metadata": {},
   "outputs": [
    {
     "name": "stdout",
     "output_type": "stream",
     "text": [
      "Olá mundo\n"
     ]
    }
   ],
   "source": [
    "\n",
    "# isto é um comentário\n",
    "# isto é outro comentário\n",
    "print(\"Olá mundo\") # linha de comando\n"
   ]
  },
  {
   "cell_type": "code",
   "execution_count": 2,
   "id": "e03f931c",
   "metadata": {
    "scrolled": true
   },
   "outputs": [
    {
     "data": {
      "text/plain": [
       "' Este é um comentário\\no comentário continua aqui\\naqui ainda continua\\ne aqui termina '"
      ]
     },
     "execution_count": 2,
     "metadata": {},
     "output_type": "execute_result"
    }
   ],
   "source": [
    "\n",
    "''' Este é um comentário\n",
    "o comentário continua aqui\n",
    "aqui ainda continua\n",
    "e aqui termina '''"
   ]
  },
  {
   "cell_type": "code",
   "execution_count": 3,
   "id": "df60fada",
   "metadata": {},
   "outputs": [
    {
     "name": "stdout",
     "output_type": "stream",
     "text": [
      "olá mundo\n",
      "10\n",
      "20.5\n"
     ]
    }
   ],
   "source": [
    "print(\"olá mundo\")\n",
    "print(10)\n",
    "print(20.5)"
   ]
  },
  {
   "cell_type": "code",
   "execution_count": 4,
   "id": "1be98398",
   "metadata": {},
   "outputs": [
    {
     "name": "stdout",
     "output_type": "stream",
     "text": [
      "Maça 20 30.45\n"
     ]
    }
   ],
   "source": [
    "print(\"Maça\", 20, 30.45)"
   ]
  },
  {
   "cell_type": "code",
   "execution_count": 5,
   "id": "1a86eda3",
   "metadata": {},
   "outputs": [
    {
     "name": "stdout",
     "output_type": "stream",
     "text": [
      "Maça - Pera - Uva\n"
     ]
    }
   ],
   "source": [
    "print(\"Maça\", \"Pera\", \"Uva\", sep=' - ')"
   ]
  },
  {
   "cell_type": "code",
   "execution_count": 6,
   "id": "74af31f9",
   "metadata": {},
   "outputs": [
    {
     "name": "stdout",
     "output_type": "stream",
     "text": [
      "Maça Pera Fim"
     ]
    }
   ],
   "source": [
    "print(\"Maça\", \"Pera\", end =' Fim', sep=' ' )"
   ]
  },
  {
   "cell_type": "code",
   "execution_count": 7,
   "id": "57a92e3f",
   "metadata": {},
   "outputs": [
    {
     "name": "stdout",
     "output_type": "stream",
     "text": [
      "Este é um texto longo, \n",
      " eu quero quebrar a linha\n"
     ]
    }
   ],
   "source": [
    "print(\"Este é um texto longo, \\n eu quero quebrar a linha\")"
   ]
  },
  {
   "cell_type": "code",
   "execution_count": 8,
   "id": "2f251f1d",
   "metadata": {},
   "outputs": [
    {
     "name": "stdout",
     "output_type": "stream",
     "text": [
      "Maça\n",
      "Pera\n"
     ]
    }
   ],
   "source": [
    "print(\"Maça\", \"Pera\", sep='\\n' )"
   ]
  },
  {
   "cell_type": "code",
   "execution_count": 9,
   "id": "05190426",
   "metadata": {},
   "outputs": [
    {
     "name": "stdout",
     "output_type": "stream",
     "text": [
      "A pontuação total de Fernando foi 10 pontos\n"
     ]
    }
   ],
   "source": [
    "print(\"A pontuação total de %s foi %s pontos\" % (\"Fernando\",\"10\") )"
   ]
  },
  {
   "cell_type": "code",
   "execution_count": 10,
   "id": "8672eedb",
   "metadata": {},
   "outputs": [
    {
     "name": "stdout",
     "output_type": "stream",
     "text": [
      "A pontuação total de Fernando foi de 10 pontos\n"
     ]
    }
   ],
   "source": [
    "print(\"A pontuação total de {} foi de {} pontos\".format(\"Fernando\",\"10\") )"
   ]
  },
  {
   "cell_type": "code",
   "execution_count": 11,
   "id": "966fcdb0",
   "metadata": {},
   "outputs": [
    {
     "name": "stdout",
     "output_type": "stream",
     "text": [
      "A pontuação total de Fernando foi 10 pontos\n"
     ]
    }
   ],
   "source": [
    "print(\"A pontuação total de\" + \" Fernando\" + \" foi\" + \" 10 \" + \"pontos\" )"
   ]
  },
  {
   "cell_type": "markdown",
   "id": "a273bf3a",
   "metadata": {},
   "source": [
    "# Variáveis"
   ]
  },
  {
   "cell_type": "code",
   "execution_count": 12,
   "id": "ae5a4a05",
   "metadata": {},
   "outputs": [
    {
     "name": "stdout",
     "output_type": "stream",
     "text": [
      "1 2 3 4\n"
     ]
    }
   ],
   "source": [
    "_numero = 1\n",
    "Numero  = 2 \n",
    "numero  = 3\n",
    "numero123 = 4\n",
    "print(_numero, Numero, numero, numero123)"
   ]
  },
  {
   "cell_type": "code",
   "execution_count": 13,
   "id": "7ee19f0e",
   "metadata": {},
   "outputs": [
    {
     "name": "stdout",
     "output_type": "stream",
     "text": [
      "10\n",
      "20\n"
     ]
    }
   ],
   "source": [
    "numero = 10\n",
    "print(numero)\n",
    "numero =20\n",
    "print(numero)"
   ]
  },
  {
   "cell_type": "code",
   "execution_count": 14,
   "id": "faccb99e",
   "metadata": {},
   "outputs": [
    {
     "name": "stdout",
     "output_type": "stream",
     "text": [
      "Olá mundo!\n"
     ]
    }
   ],
   "source": [
    "texto = \"Olá mundo!\"\n",
    "print(texto)"
   ]
  },
  {
   "cell_type": "markdown",
   "id": "bde8cd82",
   "metadata": {},
   "source": [
    "# Tipos Primitivos"
   ]
  },
  {
   "cell_type": "code",
   "execution_count": 15,
   "id": "c284569a",
   "metadata": {},
   "outputs": [
    {
     "name": "stdout",
     "output_type": "stream",
     "text": [
      "None\n"
     ]
    }
   ],
   "source": [
    "variavel = None\n",
    "print(variavel)"
   ]
  },
  {
   "cell_type": "code",
   "execution_count": 16,
   "id": "e60895a3",
   "metadata": {},
   "outputs": [
    {
     "name": "stdout",
     "output_type": "stream",
     "text": [
      "10\n"
     ]
    }
   ],
   "source": [
    "inteiro = 10\n",
    "print(inteiro)"
   ]
  },
  {
   "cell_type": "code",
   "execution_count": 17,
   "id": "e2472753",
   "metadata": {},
   "outputs": [
    {
     "name": "stdout",
     "output_type": "stream",
     "text": [
      "1.53\n"
     ]
    }
   ],
   "source": [
    "decimal = 1.53\n",
    "print(decimal)"
   ]
  },
  {
   "cell_type": "code",
   "execution_count": 18,
   "id": "7cef2277",
   "metadata": {},
   "outputs": [
    {
     "name": "stdout",
     "output_type": "stream",
     "text": [
      "olá, isto é um texto\n"
     ]
    }
   ],
   "source": [
    "texto = \"olá, isto é um texto\"\n",
    "print(texto)"
   ]
  },
  {
   "cell_type": "code",
   "execution_count": 19,
   "id": "eab9691d",
   "metadata": {},
   "outputs": [
    {
     "name": "stdout",
     "output_type": "stream",
     "text": [
      "True\n",
      "False\n"
     ]
    }
   ],
   "source": [
    "var = True\n",
    "print(var)\n",
    "var = False\n",
    "print(var)"
   ]
  },
  {
   "cell_type": "code",
   "execution_count": 20,
   "id": "d9f57b82",
   "metadata": {},
   "outputs": [
    {
     "name": "stdout",
     "output_type": "stream",
     "text": [
      "10\n"
     ]
    }
   ],
   "source": [
    "var1 = 10\n",
    "var2 = var1\n",
    "print(var2)\n"
   ]
  },
  {
   "cell_type": "code",
   "execution_count": 21,
   "id": "7462e570",
   "metadata": {},
   "outputs": [
    {
     "name": "stdout",
     "output_type": "stream",
     "text": [
      "None\n",
      "1\n",
      "Texto\n"
     ]
    }
   ],
   "source": [
    "var = None\n",
    "print(var)\n",
    "var = 1\n",
    "print(var)\n",
    "var = \"Texto\"\n",
    "print(var)"
   ]
  },
  {
   "cell_type": "code",
   "execution_count": 22,
   "id": "fb7fe2b1",
   "metadata": {},
   "outputs": [],
   "source": [
    "saldoBancario = 100\n",
    "SaldoBancario = 100\n",
    "saldo_bancario = 100\n"
   ]
  },
  {
   "cell_type": "markdown",
   "id": "f8a1fff3",
   "metadata": {},
   "source": [
    "# Formatação"
   ]
  },
  {
   "cell_type": "code",
   "execution_count": null,
   "id": "9e7b5f1a",
   "metadata": {},
   "outputs": [],
   "source": [
    "# %s texto\n",
    "# %d inteiro\n",
    "# %f real\n"
   ]
  },
  {
   "cell_type": "code",
   "execution_count": 23,
   "id": "c12b2c09",
   "metadata": {},
   "outputs": [
    {
     "name": "stdout",
     "output_type": "stream",
     "text": [
      "O nome dela é Carolina \n"
     ]
    }
   ],
   "source": [
    "nome = \"Carolina\"\n",
    "texto_formatado = \"O nome dela é %s \" % (nome)\n",
    "print(texto_formatado)"
   ]
  },
  {
   "cell_type": "code",
   "execution_count": 25,
   "id": "bfa9481c",
   "metadata": {},
   "outputs": [
    {
     "name": "stdout",
     "output_type": "stream",
     "text": [
      "Meu nome é Rodrigo. Tenho 23 anos e tenho 1.730000 metros de altura.\n"
     ]
    }
   ],
   "source": [
    "nome = \"Rodrigo\"\n",
    "idade = 23\n",
    "altura = 1.73\n",
    "texto = \"Meu nome é %s. Tenho %d anos e tenho %f metros de altura.\" % (nome, idade, altura)\n",
    "print(texto)"
   ]
  },
  {
   "cell_type": "code",
   "execution_count": 28,
   "id": "96912810",
   "metadata": {},
   "outputs": [
    {
     "name": "stdout",
     "output_type": "stream",
     "text": [
      "Número gigante formatado: 1.12\n"
     ]
    }
   ],
   "source": [
    "numero_gigante = 1.1245452\n",
    "print(\"Número gigante formatado: %.2f\" %(numero_gigante))"
   ]
  },
  {
   "cell_type": "code",
   "execution_count": 31,
   "id": "9dea29b0",
   "metadata": {},
   "outputs": [
    {
     "name": "stdout",
     "output_type": "stream",
     "text": [
      "O valor é True\n",
      "O valor é 1\n"
     ]
    }
   ],
   "source": [
    "valor = True\n",
    "print(\"O valor é %s\" % (valor))\n",
    "print(\"O valor é %d\" % (valor))"
   ]
  },
  {
   "cell_type": "code",
   "execution_count": 32,
   "id": "6778d63c",
   "metadata": {},
   "outputs": [
    {
     "name": "stdout",
     "output_type": "stream",
     "text": [
      "A parte inteira é 13\n"
     ]
    }
   ],
   "source": [
    "decimal = 13.24545\n",
    "print(\"A parte inteira é %d\" %(decimal))\n"
   ]
  },
  {
   "cell_type": "code",
   "execution_count": 5,
   "id": "75bcab98",
   "metadata": {},
   "outputs": [
    {
     "name": "stdout",
     "output_type": "stream",
     "text": [
      "Olá, assim se quebra uma linha,\n",
      "\tentendeu como quebra a linha?\n",
      "\t\tfim\n"
     ]
    }
   ],
   "source": [
    "texto = \"Olá, assim se quebra uma linha,\\n\\tentendeu como quebra a linha?\\n\\t\\tfim\"\n",
    "print(texto)"
   ]
  },
  {
   "cell_type": "code",
   "execution_count": 10,
   "id": "f9798ca1",
   "metadata": {},
   "outputs": [
    {
     "name": "stdout",
     "output_type": "stream",
     "text": [
      "Deixa a 'palavra' entre aspas\n"
     ]
    }
   ],
   "source": [
    "texto = 'Deixa a \\'palavra\\' entre aspas'\n",
    "print(texto)"
   ]
  },
  {
   "cell_type": "code",
   "execution_count": null,
   "id": "59dada9b",
   "metadata": {},
   "outputs": [],
   "source": []
  }
 ],
 "metadata": {
  "kernelspec": {
   "display_name": "Python 3 (ipykernel)",
   "language": "python",
   "name": "python3"
  },
  "language_info": {
   "codemirror_mode": {
    "name": "ipython",
    "version": 3
   },
   "file_extension": ".py",
   "mimetype": "text/x-python",
   "name": "python",
   "nbconvert_exporter": "python",
   "pygments_lexer": "ipython3",
   "version": "3.10.9"
  }
 },
 "nbformat": 4,
 "nbformat_minor": 5
}
